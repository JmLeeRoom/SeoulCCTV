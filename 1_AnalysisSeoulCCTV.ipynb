{
 "cells": [
  {
   "cell_type": "markdown",
   "source": [
    "# 1. Analysis Seoul CCTV"
   ],
   "metadata": {
    "collapsed": false
   }
  },
  {
   "cell_type": "markdown",
   "source": [
    "## 1. 프로젝트개요"
   ],
   "metadata": {
    "collapsed": false
   }
  },
  {
   "cell_type": "markdown",
   "source": [
    "- 서울시 CCTV 분석"
   ],
   "metadata": {
    "collapsed": false
   }
  },
  {
   "cell_type": "markdown",
   "source": [
    "### 강의 목표"
   ],
   "metadata": {
    "collapsed": false
   }
  },
  {
   "cell_type": "markdown",
   "source": [
    "- python"
   ],
   "metadata": {
    "collapsed": false
   }
  },
  {
   "cell_type": "markdown",
   "source": [
    "- pandas"
   ],
   "metadata": {
    "collapsed": false
   }
  },
  {
   "cell_type": "markdown",
   "source": [
    "- matplotlib"
   ],
   "metadata": {
    "collapsed": false
   }
  },
  {
   "cell_type": "markdown",
   "source": [
    "### 프로젝트 목표"
   ],
   "metadata": {
    "collapsed": false
   }
  },
  {
   "cell_type": "markdown",
   "source": [
    "- 서울시 구별 CCTV 현황 데이터 확보"
   ],
   "metadata": {
    "collapsed": false
   }
  },
  {
   "cell_type": "markdown",
   "source": [
    "- 인구 현황 데이터 확보"
   ],
   "metadata": {
    "collapsed": false
   }
  },
  {
   "cell_type": "markdown",
   "source": [
    "- CCTV 데이터와 인구 현황 데이터 합치기"
   ],
   "metadata": {
    "collapsed": false
   }
  },
  {
   "cell_type": "markdown",
   "source": [
    "- 데이터를 정리하고 정렬하기"
   ],
   "metadata": {
    "collapsed": false
   }
  },
  {
   "cell_type": "markdown",
   "source": [
    "- 그래프를 그리기"
   ],
   "metadata": {
    "collapsed": false
   }
  },
  {
   "cell_type": "markdown",
   "source": [
    "- 전체적인 경향 파악하기"
   ],
   "metadata": {
    "collapsed": false
   }
  },
  {
   "cell_type": "markdown",
   "source": [
    "- 경향에서 벗어난 데이터 강조하기"
   ],
   "metadata": {
    "collapsed": false
   }
  },
  {
   "cell_type": "markdown",
   "source": [
    "## 2. 데이터 얻기"
   ],
   "metadata": {
    "collapsed": false
   }
  },
  {
   "cell_type": "markdown",
   "source": [
    "- 서울시 구별 CCTV 현황과 구별 인구 현황 데이터 얻기"
   ],
   "metadata": {
    "collapsed": false
   }
  },
  {
   "cell_type": "markdown",
   "source": [
    "## 3. 데이터 읽기"
   ],
   "metadata": {
    "collapsed": false
   }
  },
  {
   "cell_type": "markdown",
   "source": [
    "### pandas에서 엑셀 및 텍스트 파일 읽기\n"
   ],
   "metadata": {
    "collapsed": false
   }
  },
  {
   "cell_type": "markdown",
   "source": [
    "#### pandas란"
   ],
   "metadata": {
    "collapsed": false
   }
  },
  {
   "cell_type": "markdown",
   "source": [
    "- 파이썬에서 R 만큼의 강력한 데이터 핸들링 성능을 제공하는 모듈"
   ],
   "metadata": {
    "collapsed": false
   }
  },
  {
   "cell_type": "markdown",
   "source": [
    "- 단일 프로세스 최대 효율"
   ],
   "metadata": {
    "collapsed": false
   }
  },
  {
   "cell_type": "markdown",
   "source": [
    "- 코딩 가능하고 응용 가능한 엑셀"
   ],
   "metadata": {
    "collapsed": false
   }
  },
  {
   "cell_type": "markdown",
   "source": [
    "- 판다스 모듈 임포트"
   ],
   "metadata": {
    "collapsed": false
   }
  },
  {
   "cell_type": "code",
   "execution_count": 2,
   "outputs": [],
   "source": [
    "import pandas as pd"
   ],
   "metadata": {
    "collapsed": false
   }
  },
  {
   "cell_type": "markdown",
   "source": [
    "- 원하는 모듈이 설치되어 있다면 import 명령을 통해 사용하겠다고 선언한다."
   ],
   "metadata": {
    "collapsed": false
   }
  },
  {
   "cell_type": "markdown",
   "source": [
    "#### 파이썬 모듈 네이밍 규칙"
   ],
   "metadata": {
    "collapsed": false
   }
  },
  {
   "cell_type": "markdown",
   "source": [
    "- import module -> 모듈을 사용하겠다"
   ],
   "metadata": {
    "collapsed": false
   }
  },
  {
   "cell_type": "markdown",
   "source": [
    "- import module as md -> md라는 이름으로 모듈을 사용하겠다"
   ],
   "metadata": {
    "collapsed": false
   }
  },
  {
   "cell_type": "markdown",
   "source": [
    "- from module import function -> 모듈에 포함된 function함수만 사용하겠다\n"
   ],
   "metadata": {
    "collapsed": false
   }
  },
  {
   "cell_type": "markdown",
   "source": [
    "#### Pandas DataFrame 구조"
   ],
   "metadata": {
    "collapsed": false
   }
  },
  {
   "cell_type": "markdown",
   "source": [
    "- index, cloumn, columnName, Values"
   ],
   "metadata": {
    "collapsed": false
   }
  },
  {
   "cell_type": "code",
   "execution_count": 3,
   "outputs": [
    {
     "data": {
      "text/plain": "   기관명    소계  2013년도 이전  2014년  2015년  2016년\n0  강남구  3238       1292    430    584    932\n1  강동구  1010        379     99    155    377\n2  강북구   831        369    120    138    204\n3  강서구   911        388    258    184     81\n4  관악구  2109        846    260    390    613",
      "text/html": "<div>\n<style scoped>\n    .dataframe tbody tr th:only-of-type {\n        vertical-align: middle;\n    }\n\n    .dataframe tbody tr th {\n        vertical-align: top;\n    }\n\n    .dataframe thead th {\n        text-align: right;\n    }\n</style>\n<table border=\"1\" class=\"dataframe\">\n  <thead>\n    <tr style=\"text-align: right;\">\n      <th></th>\n      <th>기관명</th>\n      <th>소계</th>\n      <th>2013년도 이전</th>\n      <th>2014년</th>\n      <th>2015년</th>\n      <th>2016년</th>\n    </tr>\n  </thead>\n  <tbody>\n    <tr>\n      <th>0</th>\n      <td>강남구</td>\n      <td>3238</td>\n      <td>1292</td>\n      <td>430</td>\n      <td>584</td>\n      <td>932</td>\n    </tr>\n    <tr>\n      <th>1</th>\n      <td>강동구</td>\n      <td>1010</td>\n      <td>379</td>\n      <td>99</td>\n      <td>155</td>\n      <td>377</td>\n    </tr>\n    <tr>\n      <th>2</th>\n      <td>강북구</td>\n      <td>831</td>\n      <td>369</td>\n      <td>120</td>\n      <td>138</td>\n      <td>204</td>\n    </tr>\n    <tr>\n      <th>3</th>\n      <td>강서구</td>\n      <td>911</td>\n      <td>388</td>\n      <td>258</td>\n      <td>184</td>\n      <td>81</td>\n    </tr>\n    <tr>\n      <th>4</th>\n      <td>관악구</td>\n      <td>2109</td>\n      <td>846</td>\n      <td>260</td>\n      <td>390</td>\n      <td>613</td>\n    </tr>\n  </tbody>\n</table>\n</div>"
     },
     "execution_count": 3,
     "metadata": {},
     "output_type": "execute_result"
    }
   ],
   "source": [
    "CCTV_Seoul = pd.read_csv('./data_AnalysisSeoulCCTV/01. Seoul_CCTV.csv', encoding='utf-8')\n",
    "CCTV_Seoul.head()"
   ],
   "metadata": {
    "collapsed": false
   }
  },
  {
   "cell_type": "code",
   "execution_count": 4,
   "outputs": [
    {
     "data": {
      "text/plain": "   기관명    소계  2013년도 이전  2014년  2015년  2016년\n0  강남구  3238       1292    430    584    932\n1  강동구  1010        379     99    155    377\n2  강북구   831        369    120    138    204",
      "text/html": "<div>\n<style scoped>\n    .dataframe tbody tr th:only-of-type {\n        vertical-align: middle;\n    }\n\n    .dataframe tbody tr th {\n        vertical-align: top;\n    }\n\n    .dataframe thead th {\n        text-align: right;\n    }\n</style>\n<table border=\"1\" class=\"dataframe\">\n  <thead>\n    <tr style=\"text-align: right;\">\n      <th></th>\n      <th>기관명</th>\n      <th>소계</th>\n      <th>2013년도 이전</th>\n      <th>2014년</th>\n      <th>2015년</th>\n      <th>2016년</th>\n    </tr>\n  </thead>\n  <tbody>\n    <tr>\n      <th>0</th>\n      <td>강남구</td>\n      <td>3238</td>\n      <td>1292</td>\n      <td>430</td>\n      <td>584</td>\n      <td>932</td>\n    </tr>\n    <tr>\n      <th>1</th>\n      <td>강동구</td>\n      <td>1010</td>\n      <td>379</td>\n      <td>99</td>\n      <td>155</td>\n      <td>377</td>\n    </tr>\n    <tr>\n      <th>2</th>\n      <td>강북구</td>\n      <td>831</td>\n      <td>369</td>\n      <td>120</td>\n      <td>138</td>\n      <td>204</td>\n    </tr>\n  </tbody>\n</table>\n</div>"
     },
     "execution_count": 4,
     "metadata": {},
     "output_type": "execute_result"
    }
   ],
   "source": [
    "CCTV_Seoul.head(3)"
   ],
   "metadata": {
    "collapsed": false
   }
  },
  {
   "cell_type": "code",
   "execution_count": 5,
   "outputs": [
    {
     "data": {
      "text/plain": "   기관명    소계  2013년도 이전  2014년  2015년  2016년\n0  강남구  3238       1292    430    584    932\n1  강동구  1010        379     99    155    377\n2  강북구   831        369    120    138    204\n3  강서구   911        388    258    184     81\n4  관악구  2109        846    260    390    613\n5  광진구   878        573     78     53    174\n6  구로구  1884       1142    173    246    323\n7  금천구  1348        674     51    269    354\n8  노원구  1566        542     57    451    516\n9  도봉구   825        238    159     42    386",
      "text/html": "<div>\n<style scoped>\n    .dataframe tbody tr th:only-of-type {\n        vertical-align: middle;\n    }\n\n    .dataframe tbody tr th {\n        vertical-align: top;\n    }\n\n    .dataframe thead th {\n        text-align: right;\n    }\n</style>\n<table border=\"1\" class=\"dataframe\">\n  <thead>\n    <tr style=\"text-align: right;\">\n      <th></th>\n      <th>기관명</th>\n      <th>소계</th>\n      <th>2013년도 이전</th>\n      <th>2014년</th>\n      <th>2015년</th>\n      <th>2016년</th>\n    </tr>\n  </thead>\n  <tbody>\n    <tr>\n      <th>0</th>\n      <td>강남구</td>\n      <td>3238</td>\n      <td>1292</td>\n      <td>430</td>\n      <td>584</td>\n      <td>932</td>\n    </tr>\n    <tr>\n      <th>1</th>\n      <td>강동구</td>\n      <td>1010</td>\n      <td>379</td>\n      <td>99</td>\n      <td>155</td>\n      <td>377</td>\n    </tr>\n    <tr>\n      <th>2</th>\n      <td>강북구</td>\n      <td>831</td>\n      <td>369</td>\n      <td>120</td>\n      <td>138</td>\n      <td>204</td>\n    </tr>\n    <tr>\n      <th>3</th>\n      <td>강서구</td>\n      <td>911</td>\n      <td>388</td>\n      <td>258</td>\n      <td>184</td>\n      <td>81</td>\n    </tr>\n    <tr>\n      <th>4</th>\n      <td>관악구</td>\n      <td>2109</td>\n      <td>846</td>\n      <td>260</td>\n      <td>390</td>\n      <td>613</td>\n    </tr>\n    <tr>\n      <th>5</th>\n      <td>광진구</td>\n      <td>878</td>\n      <td>573</td>\n      <td>78</td>\n      <td>53</td>\n      <td>174</td>\n    </tr>\n    <tr>\n      <th>6</th>\n      <td>구로구</td>\n      <td>1884</td>\n      <td>1142</td>\n      <td>173</td>\n      <td>246</td>\n      <td>323</td>\n    </tr>\n    <tr>\n      <th>7</th>\n      <td>금천구</td>\n      <td>1348</td>\n      <td>674</td>\n      <td>51</td>\n      <td>269</td>\n      <td>354</td>\n    </tr>\n    <tr>\n      <th>8</th>\n      <td>노원구</td>\n      <td>1566</td>\n      <td>542</td>\n      <td>57</td>\n      <td>451</td>\n      <td>516</td>\n    </tr>\n    <tr>\n      <th>9</th>\n      <td>도봉구</td>\n      <td>825</td>\n      <td>238</td>\n      <td>159</td>\n      <td>42</td>\n      <td>386</td>\n    </tr>\n  </tbody>\n</table>\n</div>"
     },
     "execution_count": 5,
     "metadata": {},
     "output_type": "execute_result"
    }
   ],
   "source": [
    "CCTV_Seoul.head(10)"
   ],
   "metadata": {
    "collapsed": false
   }
  },
  {
   "cell_type": "markdown",
   "source": [
    "- 끝 데이터 추출"
   ],
   "metadata": {
    "collapsed": false
   }
  },
  {
   "cell_type": "code",
   "execution_count": 6,
   "outputs": [
    {
     "data": {
      "text/plain": "    기관명    소계  2013년도 이전  2014년  2015년  2016년\n20  용산구  2096       1368    218    112    398\n21  은평구  2108       1138    224    278    468\n22  종로구  1619        464    314    211    630\n23   중구  1023        413    190     72    348\n24  중랑구   916        509    121    177    109",
      "text/html": "<div>\n<style scoped>\n    .dataframe tbody tr th:only-of-type {\n        vertical-align: middle;\n    }\n\n    .dataframe tbody tr th {\n        vertical-align: top;\n    }\n\n    .dataframe thead th {\n        text-align: right;\n    }\n</style>\n<table border=\"1\" class=\"dataframe\">\n  <thead>\n    <tr style=\"text-align: right;\">\n      <th></th>\n      <th>기관명</th>\n      <th>소계</th>\n      <th>2013년도 이전</th>\n      <th>2014년</th>\n      <th>2015년</th>\n      <th>2016년</th>\n    </tr>\n  </thead>\n  <tbody>\n    <tr>\n      <th>20</th>\n      <td>용산구</td>\n      <td>2096</td>\n      <td>1368</td>\n      <td>218</td>\n      <td>112</td>\n      <td>398</td>\n    </tr>\n    <tr>\n      <th>21</th>\n      <td>은평구</td>\n      <td>2108</td>\n      <td>1138</td>\n      <td>224</td>\n      <td>278</td>\n      <td>468</td>\n    </tr>\n    <tr>\n      <th>22</th>\n      <td>종로구</td>\n      <td>1619</td>\n      <td>464</td>\n      <td>314</td>\n      <td>211</td>\n      <td>630</td>\n    </tr>\n    <tr>\n      <th>23</th>\n      <td>중구</td>\n      <td>1023</td>\n      <td>413</td>\n      <td>190</td>\n      <td>72</td>\n      <td>348</td>\n    </tr>\n    <tr>\n      <th>24</th>\n      <td>중랑구</td>\n      <td>916</td>\n      <td>509</td>\n      <td>121</td>\n      <td>177</td>\n      <td>109</td>\n    </tr>\n  </tbody>\n</table>\n</div>"
     },
     "execution_count": 6,
     "metadata": {},
     "output_type": "execute_result"
    }
   ],
   "source": [
    "CCTV_Seoul.tail()"
   ],
   "metadata": {
    "collapsed": false
   }
  },
  {
   "cell_type": "markdown",
   "source": [
    "- column의 이름을 조회할 수 있다."
   ],
   "metadata": {
    "collapsed": false
   }
  },
  {
   "cell_type": "code",
   "execution_count": 7,
   "outputs": [
    {
     "data": {
      "text/plain": "Index(['기관명', '소계', '2013년도 이전', '2014년', '2015년', '2016년'], dtype='object')"
     },
     "execution_count": 7,
     "metadata": {},
     "output_type": "execute_result"
    }
   ],
   "source": [
    "CCTV_Seoul.columns"
   ],
   "metadata": {
    "collapsed": false
   }
  },
  {
   "cell_type": "markdown",
   "source": [
    "리스트 형태로 반환"
   ],
   "metadata": {
    "collapsed": false
   }
  },
  {
   "cell_type": "code",
   "execution_count": 8,
   "outputs": [
    {
     "data": {
      "text/plain": "'기관명'"
     },
     "execution_count": 8,
     "metadata": {},
     "output_type": "execute_result"
    }
   ],
   "source": [
    "CCTV_Seoul.columns[0]"
   ],
   "metadata": {
    "collapsed": false
   }
  },
  {
   "cell_type": "markdown",
   "source": [
    "- 컬럼 이름 바꾸기"
   ],
   "metadata": {
    "collapsed": false
   }
  },
  {
   "cell_type": "markdown",
   "source": [
    "- inplace =True - 변경된 사항을 저장하는 코드"
   ],
   "metadata": {
    "collapsed": false
   }
  },
  {
   "cell_type": "code",
   "execution_count": 9,
   "outputs": [
    {
     "data": {
      "text/plain": "    구별    소계  2013년도 이전  2014년  2015년  2016년\n0  강남구  3238       1292    430    584    932\n1  강동구  1010        379     99    155    377\n2  강북구   831        369    120    138    204\n3  강서구   911        388    258    184     81\n4  관악구  2109        846    260    390    613",
      "text/html": "<div>\n<style scoped>\n    .dataframe tbody tr th:only-of-type {\n        vertical-align: middle;\n    }\n\n    .dataframe tbody tr th {\n        vertical-align: top;\n    }\n\n    .dataframe thead th {\n        text-align: right;\n    }\n</style>\n<table border=\"1\" class=\"dataframe\">\n  <thead>\n    <tr style=\"text-align: right;\">\n      <th></th>\n      <th>구별</th>\n      <th>소계</th>\n      <th>2013년도 이전</th>\n      <th>2014년</th>\n      <th>2015년</th>\n      <th>2016년</th>\n    </tr>\n  </thead>\n  <tbody>\n    <tr>\n      <th>0</th>\n      <td>강남구</td>\n      <td>3238</td>\n      <td>1292</td>\n      <td>430</td>\n      <td>584</td>\n      <td>932</td>\n    </tr>\n    <tr>\n      <th>1</th>\n      <td>강동구</td>\n      <td>1010</td>\n      <td>379</td>\n      <td>99</td>\n      <td>155</td>\n      <td>377</td>\n    </tr>\n    <tr>\n      <th>2</th>\n      <td>강북구</td>\n      <td>831</td>\n      <td>369</td>\n      <td>120</td>\n      <td>138</td>\n      <td>204</td>\n    </tr>\n    <tr>\n      <th>3</th>\n      <td>강서구</td>\n      <td>911</td>\n      <td>388</td>\n      <td>258</td>\n      <td>184</td>\n      <td>81</td>\n    </tr>\n    <tr>\n      <th>4</th>\n      <td>관악구</td>\n      <td>2109</td>\n      <td>846</td>\n      <td>260</td>\n      <td>390</td>\n      <td>613</td>\n    </tr>\n  </tbody>\n</table>\n</div>"
     },
     "execution_count": 9,
     "metadata": {},
     "output_type": "execute_result"
    }
   ],
   "source": [
    "CCTV_Seoul.rename(columns={CCTV_Seoul.columns[0] : \"구별\"}, inplace=True)\n",
    "CCTV_Seoul.head()"
   ],
   "metadata": {
    "collapsed": false
   }
  },
  {
   "cell_type": "markdown",
   "source": [
    "- 엑셀 파일 열기"
   ],
   "metadata": {
    "collapsed": false
   }
  },
  {
   "cell_type": "code",
   "execution_count": 10,
   "outputs": [
    {
     "data": {
      "text/plain": "     기간  자치구       세대        인구     인구.1     인구.2     인구.3     인구.4     인구.5  \\\n0    기간  자치구       세대        합계       합계       합계      한국인      한국인      한국인   \n1    기간  자치구       세대         계       남자       여자        계       남자       여자   \n2  2017   합계  4220082  10124579  4957857  5166722  9857426  4830206  5027220   \n3  2017  종로구    73594    164257    80094    84163   154770    75967    78803   \n4  2017   중구    60412    134593    66337    68256   125709    62253    63456   \n\n     인구.6    인구.7    인구.8  세대당인구  65세이상고령자  \n0   등록외국인   등록외국인   등록외국인  세대당인구  65세이상고령자  \n1       계      남자      여자  세대당인구  65세이상고령자  \n2  267153  127651  139502   2.34   1365126  \n3    9487    4127    5360    2.1     26182  \n4    8884    4084    4800   2.08     21384  ",
      "text/html": "<div>\n<style scoped>\n    .dataframe tbody tr th:only-of-type {\n        vertical-align: middle;\n    }\n\n    .dataframe tbody tr th {\n        vertical-align: top;\n    }\n\n    .dataframe thead th {\n        text-align: right;\n    }\n</style>\n<table border=\"1\" class=\"dataframe\">\n  <thead>\n    <tr style=\"text-align: right;\">\n      <th></th>\n      <th>기간</th>\n      <th>자치구</th>\n      <th>세대</th>\n      <th>인구</th>\n      <th>인구.1</th>\n      <th>인구.2</th>\n      <th>인구.3</th>\n      <th>인구.4</th>\n      <th>인구.5</th>\n      <th>인구.6</th>\n      <th>인구.7</th>\n      <th>인구.8</th>\n      <th>세대당인구</th>\n      <th>65세이상고령자</th>\n    </tr>\n  </thead>\n  <tbody>\n    <tr>\n      <th>0</th>\n      <td>기간</td>\n      <td>자치구</td>\n      <td>세대</td>\n      <td>합계</td>\n      <td>합계</td>\n      <td>합계</td>\n      <td>한국인</td>\n      <td>한국인</td>\n      <td>한국인</td>\n      <td>등록외국인</td>\n      <td>등록외국인</td>\n      <td>등록외국인</td>\n      <td>세대당인구</td>\n      <td>65세이상고령자</td>\n    </tr>\n    <tr>\n      <th>1</th>\n      <td>기간</td>\n      <td>자치구</td>\n      <td>세대</td>\n      <td>계</td>\n      <td>남자</td>\n      <td>여자</td>\n      <td>계</td>\n      <td>남자</td>\n      <td>여자</td>\n      <td>계</td>\n      <td>남자</td>\n      <td>여자</td>\n      <td>세대당인구</td>\n      <td>65세이상고령자</td>\n    </tr>\n    <tr>\n      <th>2</th>\n      <td>2017</td>\n      <td>합계</td>\n      <td>4220082</td>\n      <td>10124579</td>\n      <td>4957857</td>\n      <td>5166722</td>\n      <td>9857426</td>\n      <td>4830206</td>\n      <td>5027220</td>\n      <td>267153</td>\n      <td>127651</td>\n      <td>139502</td>\n      <td>2.34</td>\n      <td>1365126</td>\n    </tr>\n    <tr>\n      <th>3</th>\n      <td>2017</td>\n      <td>종로구</td>\n      <td>73594</td>\n      <td>164257</td>\n      <td>80094</td>\n      <td>84163</td>\n      <td>154770</td>\n      <td>75967</td>\n      <td>78803</td>\n      <td>9487</td>\n      <td>4127</td>\n      <td>5360</td>\n      <td>2.1</td>\n      <td>26182</td>\n    </tr>\n    <tr>\n      <th>4</th>\n      <td>2017</td>\n      <td>중구</td>\n      <td>60412</td>\n      <td>134593</td>\n      <td>66337</td>\n      <td>68256</td>\n      <td>125709</td>\n      <td>62253</td>\n      <td>63456</td>\n      <td>8884</td>\n      <td>4084</td>\n      <td>4800</td>\n      <td>2.08</td>\n      <td>21384</td>\n    </tr>\n  </tbody>\n</table>\n</div>"
     },
     "execution_count": 10,
     "metadata": {},
     "output_type": "execute_result"
    }
   ],
   "source": [
    "pop_Seoul=pd.read_excel('./data_AnalysisSeoulCCTV/01. Seoul_Population.xls')\n",
    "pop_Seoul.head()"
   ],
   "metadata": {
    "collapsed": false
   }
  },
  {
   "cell_type": "markdown",
   "source": [
    "- 엑셀 설정"
   ],
   "metadata": {
    "collapsed": false
   }
  },
  {
   "cell_type": "markdown",
   "source": [
    "- 자료를 읽기 시작할 Header를 설정"
   ],
   "metadata": {
    "collapsed": false
   }
  },
  {
   "cell_type": "markdown",
   "source": [
    "- 읽어올 엑셀의 칼럼을 지정(usecols)"
   ],
   "metadata": {
    "collapsed": false
   }
  },
  {
   "cell_type": "code",
   "execution_count": 11,
   "outputs": [
    {
     "data": {
      "text/plain": "   자치구         계      계.1     계.2  65세이상고령자\n0   합계  10124579  9857426  267153   1365126\n1  종로구    164257   154770    9487     26182\n2   중구    134593   125709    8884     21384\n3  용산구    244444   229161   15283     36882\n4  성동구    312711   304808    7903     41273",
      "text/html": "<div>\n<style scoped>\n    .dataframe tbody tr th:only-of-type {\n        vertical-align: middle;\n    }\n\n    .dataframe tbody tr th {\n        vertical-align: top;\n    }\n\n    .dataframe thead th {\n        text-align: right;\n    }\n</style>\n<table border=\"1\" class=\"dataframe\">\n  <thead>\n    <tr style=\"text-align: right;\">\n      <th></th>\n      <th>자치구</th>\n      <th>계</th>\n      <th>계.1</th>\n      <th>계.2</th>\n      <th>65세이상고령자</th>\n    </tr>\n  </thead>\n  <tbody>\n    <tr>\n      <th>0</th>\n      <td>합계</td>\n      <td>10124579</td>\n      <td>9857426</td>\n      <td>267153</td>\n      <td>1365126</td>\n    </tr>\n    <tr>\n      <th>1</th>\n      <td>종로구</td>\n      <td>164257</td>\n      <td>154770</td>\n      <td>9487</td>\n      <td>26182</td>\n    </tr>\n    <tr>\n      <th>2</th>\n      <td>중구</td>\n      <td>134593</td>\n      <td>125709</td>\n      <td>8884</td>\n      <td>21384</td>\n    </tr>\n    <tr>\n      <th>3</th>\n      <td>용산구</td>\n      <td>244444</td>\n      <td>229161</td>\n      <td>15283</td>\n      <td>36882</td>\n    </tr>\n    <tr>\n      <th>4</th>\n      <td>성동구</td>\n      <td>312711</td>\n      <td>304808</td>\n      <td>7903</td>\n      <td>41273</td>\n    </tr>\n  </tbody>\n</table>\n</div>"
     },
     "execution_count": 11,
     "metadata": {},
     "output_type": "execute_result"
    }
   ],
   "source": [
    "pop_Seoul = pd.read_excel('./data_AnalysisSeoulCCTV/01. Seoul_Population.xls', header=2, usecols=\"B, D, G, J, N\")\n",
    "pop_Seoul.head()"
   ],
   "metadata": {
    "collapsed": false
   }
  },
  {
   "cell_type": "markdown",
   "source": [
    "- 컬럼 이름 바꾸기"
   ],
   "metadata": {
    "collapsed": false
   }
  },
  {
   "cell_type": "code",
   "execution_count": 12,
   "outputs": [
    {
     "data": {
      "text/plain": "    구별       인구수      한국인     외국인      고령자\n0   합계  10124579  9857426  267153  1365126\n1  종로구    164257   154770    9487    26182\n2   중구    134593   125709    8884    21384\n3  용산구    244444   229161   15283    36882\n4  성동구    312711   304808    7903    41273",
      "text/html": "<div>\n<style scoped>\n    .dataframe tbody tr th:only-of-type {\n        vertical-align: middle;\n    }\n\n    .dataframe tbody tr th {\n        vertical-align: top;\n    }\n\n    .dataframe thead th {\n        text-align: right;\n    }\n</style>\n<table border=\"1\" class=\"dataframe\">\n  <thead>\n    <tr style=\"text-align: right;\">\n      <th></th>\n      <th>구별</th>\n      <th>인구수</th>\n      <th>한국인</th>\n      <th>외국인</th>\n      <th>고령자</th>\n    </tr>\n  </thead>\n  <tbody>\n    <tr>\n      <th>0</th>\n      <td>합계</td>\n      <td>10124579</td>\n      <td>9857426</td>\n      <td>267153</td>\n      <td>1365126</td>\n    </tr>\n    <tr>\n      <th>1</th>\n      <td>종로구</td>\n      <td>164257</td>\n      <td>154770</td>\n      <td>9487</td>\n      <td>26182</td>\n    </tr>\n    <tr>\n      <th>2</th>\n      <td>중구</td>\n      <td>134593</td>\n      <td>125709</td>\n      <td>8884</td>\n      <td>21384</td>\n    </tr>\n    <tr>\n      <th>3</th>\n      <td>용산구</td>\n      <td>244444</td>\n      <td>229161</td>\n      <td>15283</td>\n      <td>36882</td>\n    </tr>\n    <tr>\n      <th>4</th>\n      <td>성동구</td>\n      <td>312711</td>\n      <td>304808</td>\n      <td>7903</td>\n      <td>41273</td>\n    </tr>\n  </tbody>\n</table>\n</div>"
     },
     "execution_count": 12,
     "metadata": {},
     "output_type": "execute_result"
    }
   ],
   "source": [
    "pop_Seoul.rename(\n",
    "    columns={\n",
    "        pop_Seoul.columns[0] : \"구별\",\n",
    "        pop_Seoul.columns[1] : \"인구수\",\n",
    "        pop_Seoul.columns[2] : \"한국인\",\n",
    "        pop_Seoul.columns[3] : \"외국인\",\n",
    "        pop_Seoul.columns[4] : \"고령자\"\n",
    "    },\n",
    "    inplace=True\n",
    ")\n",
    "pop_Seoul.head()"
   ],
   "metadata": {
    "collapsed": false
   }
  },
  {
   "cell_type": "markdown",
   "source": [
    "## 4. 판다스 기초"
   ],
   "metadata": {
    "collapsed": false
   }
  },
  {
   "cell_type": "markdown",
   "source": [
    "- R만큼의 강력한 데이터 핸들링 성능을 제공하는 모듈"
   ],
   "metadata": {
    "collapsed": false
   }
  },
  {
   "cell_type": "markdown",
   "source": [
    "- 단일 프로세스 최데 효율"
   ],
   "metadata": {
    "collapsed": false
   }
  },
  {
   "cell_type": "markdown",
   "source": [
    "- 코딩이 가능한 엑셀"
   ],
   "metadata": {
    "collapsed": false
   }
  },
  {
   "cell_type": "markdown",
   "source": [
    "- 스테로이드 맞은 엑설로 표현"
   ],
   "metadata": {
    "collapsed": false
   }
  },
  {
   "cell_type": "markdown",
   "source": [
    "### 판다스에서 엑셀 및 텍스트 파일 읽기\n"
   ],
   "metadata": {
    "collapsed": false
   }
  },
  {
   "cell_type": "markdown",
   "source": [
    "- pandas는 통상 pd로 import 한다."
   ],
   "metadata": {
    "collapsed": false
   }
  },
  {
   "cell_type": "markdown",
   "source": [
    "- 수치 해석적 함수가 많은 numpy는 통상 np로 import 한다\n"
   ],
   "metadata": {
    "collapsed": false
   }
  },
  {
   "cell_type": "code",
   "execution_count": 13,
   "outputs": [],
   "source": [
    "import pandas as pd\n",
    "import numpy as np"
   ],
   "metadata": {
    "collapsed": false
   }
  },
  {
   "cell_type": "markdown",
   "source": [
    "- pandas의 데이터형을 구성하는 기본은 Series 이다"
   ],
   "metadata": {
    "collapsed": false
   }
  },
  {
   "cell_type": "markdown",
   "source": [
    "- index와 value로 이루어져 있다."
   ],
   "metadata": {
    "collapsed": false
   }
  },
  {
   "cell_type": "markdown",
   "source": [
    "- 한 가지 데이터  타이반 가질 수 있다."
   ],
   "metadata": {
    "collapsed": false
   }
  },
  {
   "cell_type": "code",
   "execution_count": 14,
   "outputs": [
    {
     "data": {
      "text/plain": "0    1\n1    2\n2    3\n3    4\ndtype: int64"
     },
     "execution_count": 14,
     "metadata": {},
     "output_type": "execute_result"
    }
   ],
   "source": [
    "pd.Series([1,2,3,4])"
   ],
   "metadata": {
    "collapsed": false
   }
  },
  {
   "cell_type": "code",
   "execution_count": 15,
   "outputs": [
    {
     "data": {
      "text/plain": "0    1.0\n1    2.0\n2    3.0\n3    4.0\ndtype: float64"
     },
     "execution_count": 15,
     "metadata": {},
     "output_type": "execute_result"
    }
   ],
   "source": [
    "pd.Series([1,2,3,4], dtype=np.float64)"
   ],
   "metadata": {
    "collapsed": false
   }
  },
  {
   "cell_type": "code",
   "execution_count": 16,
   "outputs": [
    {
     "data": {
      "text/plain": "0    1\n1    2\n2    3\n3    4\ndtype: object"
     },
     "execution_count": 16,
     "metadata": {},
     "output_type": "execute_result"
    }
   ],
   "source": [
    "pd.Series([1,2,3,4], dtype=str)"
   ],
   "metadata": {
    "collapsed": false
   }
  },
  {
   "cell_type": "code",
   "execution_count": 17,
   "outputs": [
    {
     "data": {
      "text/plain": "0    1\n1    2\n2    3\ndtype: int32"
     },
     "execution_count": 17,
     "metadata": {},
     "output_type": "execute_result"
    }
   ],
   "source": [
    "pd.Series(np.array([1,2,3]))"
   ],
   "metadata": {
    "collapsed": false
   }
  },
  {
   "cell_type": "code",
   "execution_count": 18,
   "outputs": [
    {
     "data": {
      "text/plain": "key    value\ndtype: object"
     },
     "execution_count": 18,
     "metadata": {},
     "output_type": "execute_result"
    }
   ],
   "source": [
    "pd.Series({'key':'value'})"
   ],
   "metadata": {
    "collapsed": false
   }
  },
  {
   "cell_type": "code",
   "execution_count": 19,
   "outputs": [
    {
     "data": {
      "text/plain": "0    1\n1    2\n2    3\n3    4\n4    5\ndtype: object"
     },
     "execution_count": 19,
     "metadata": {},
     "output_type": "execute_result"
    }
   ],
   "source": [
    "data = pd.Series([1,2,3,4,'5'])\n",
    "data"
   ],
   "metadata": {
    "collapsed": false
   }
  },
  {
   "cell_type": "markdown",
   "source": [
    "- 짝수를 찾고 싶다"
   ],
   "metadata": {
    "collapsed": false
   }
  },
  {
   "cell_type": "code",
   "execution_count": 20,
   "outputs": [
    {
     "ename": "TypeError",
     "evalue": "not all arguments converted during string formatting",
     "output_type": "error",
     "traceback": [
      "\u001B[1;31m---------------------------------------------------------------------------\u001B[0m",
      "\u001B[1;31mTypeError\u001B[0m                                 Traceback (most recent call last)",
      "File \u001B[1;32m~\\anaconda3\\envs\\zerobase\\lib\\site-packages\\pandas\\core\\ops\\array_ops.py:165\u001B[0m, in \u001B[0;36m_na_arithmetic_op\u001B[1;34m(left, right, op, is_cmp)\u001B[0m\n\u001B[0;32m    164\u001B[0m \u001B[38;5;28;01mtry\u001B[39;00m:\n\u001B[1;32m--> 165\u001B[0m     result \u001B[38;5;241m=\u001B[39m \u001B[43mfunc\u001B[49m\u001B[43m(\u001B[49m\u001B[43mleft\u001B[49m\u001B[43m,\u001B[49m\u001B[43m \u001B[49m\u001B[43mright\u001B[49m\u001B[43m)\u001B[49m\n\u001B[0;32m    166\u001B[0m \u001B[38;5;28;01mexcept\u001B[39;00m \u001B[38;5;167;01mTypeError\u001B[39;00m:\n",
      "File \u001B[1;32m~\\anaconda3\\envs\\zerobase\\lib\\site-packages\\pandas\\core\\computation\\expressions.py:242\u001B[0m, in \u001B[0;36mevaluate\u001B[1;34m(op, a, b, use_numexpr)\u001B[0m\n\u001B[0;32m    241\u001B[0m         \u001B[38;5;28;01mreturn\u001B[39;00m _evaluate(op, op_str, a, b)  \u001B[38;5;66;03m# type: ignore[misc]\u001B[39;00m\n\u001B[1;32m--> 242\u001B[0m \u001B[38;5;28;01mreturn\u001B[39;00m \u001B[43m_evaluate_standard\u001B[49m\u001B[43m(\u001B[49m\u001B[43mop\u001B[49m\u001B[43m,\u001B[49m\u001B[43m \u001B[49m\u001B[43mop_str\u001B[49m\u001B[43m,\u001B[49m\u001B[43m \u001B[49m\u001B[43ma\u001B[49m\u001B[43m,\u001B[49m\u001B[43m \u001B[49m\u001B[43mb\u001B[49m\u001B[43m)\u001B[49m\n",
      "File \u001B[1;32m~\\anaconda3\\envs\\zerobase\\lib\\site-packages\\pandas\\core\\computation\\expressions.py:70\u001B[0m, in \u001B[0;36m_evaluate_standard\u001B[1;34m(op, op_str, a, b)\u001B[0m\n\u001B[0;32m     69\u001B[0m     _store_test_result(\u001B[38;5;28;01mFalse\u001B[39;00m)\n\u001B[1;32m---> 70\u001B[0m \u001B[38;5;28;01mreturn\u001B[39;00m \u001B[43mop\u001B[49m\u001B[43m(\u001B[49m\u001B[43ma\u001B[49m\u001B[43m,\u001B[49m\u001B[43m \u001B[49m\u001B[43mb\u001B[49m\u001B[43m)\u001B[49m\n",
      "\u001B[1;31mTypeError\u001B[0m: not all arguments converted during string formatting",
      "\nDuring handling of the above exception, another exception occurred:\n",
      "\u001B[1;31mTypeError\u001B[0m                                 Traceback (most recent call last)",
      "Cell \u001B[1;32mIn[20], line 1\u001B[0m\n\u001B[1;32m----> 1\u001B[0m \u001B[43mdata\u001B[49m\u001B[43m \u001B[49m\u001B[38;5;241;43m%\u001B[39;49m\u001B[43m \u001B[49m\u001B[38;5;241;43m2\u001B[39;49m\n",
      "File \u001B[1;32m~\\anaconda3\\envs\\zerobase\\lib\\site-packages\\pandas\\core\\ops\\common.py:72\u001B[0m, in \u001B[0;36m_unpack_zerodim_and_defer.<locals>.new_method\u001B[1;34m(self, other)\u001B[0m\n\u001B[0;32m     68\u001B[0m             \u001B[38;5;28;01mreturn\u001B[39;00m \u001B[38;5;28mNotImplemented\u001B[39m\n\u001B[0;32m     70\u001B[0m other \u001B[38;5;241m=\u001B[39m item_from_zerodim(other)\n\u001B[1;32m---> 72\u001B[0m \u001B[38;5;28;01mreturn\u001B[39;00m \u001B[43mmethod\u001B[49m\u001B[43m(\u001B[49m\u001B[38;5;28;43mself\u001B[39;49m\u001B[43m,\u001B[49m\u001B[43m \u001B[49m\u001B[43mother\u001B[49m\u001B[43m)\u001B[49m\n",
      "File \u001B[1;32m~\\anaconda3\\envs\\zerobase\\lib\\site-packages\\pandas\\core\\arraylike.py:142\u001B[0m, in \u001B[0;36mOpsMixin.__mod__\u001B[1;34m(self, other)\u001B[0m\n\u001B[0;32m    140\u001B[0m \u001B[38;5;129m@unpack_zerodim_and_defer\u001B[39m(\u001B[38;5;124m\"\u001B[39m\u001B[38;5;124m__mod__\u001B[39m\u001B[38;5;124m\"\u001B[39m)\n\u001B[0;32m    141\u001B[0m \u001B[38;5;28;01mdef\u001B[39;00m \u001B[38;5;21m__mod__\u001B[39m(\u001B[38;5;28mself\u001B[39m, other):\n\u001B[1;32m--> 142\u001B[0m     \u001B[38;5;28;01mreturn\u001B[39;00m \u001B[38;5;28;43mself\u001B[39;49m\u001B[38;5;241;43m.\u001B[39;49m\u001B[43m_arith_method\u001B[49m\u001B[43m(\u001B[49m\u001B[43mother\u001B[49m\u001B[43m,\u001B[49m\u001B[43m \u001B[49m\u001B[43moperator\u001B[49m\u001B[38;5;241;43m.\u001B[39;49m\u001B[43mmod\u001B[49m\u001B[43m)\u001B[49m\n",
      "File \u001B[1;32m~\\anaconda3\\envs\\zerobase\\lib\\site-packages\\pandas\\core\\series.py:6259\u001B[0m, in \u001B[0;36mSeries._arith_method\u001B[1;34m(self, other, op)\u001B[0m\n\u001B[0;32m   6257\u001B[0m \u001B[38;5;28;01mdef\u001B[39;00m \u001B[38;5;21m_arith_method\u001B[39m(\u001B[38;5;28mself\u001B[39m, other, op):\n\u001B[0;32m   6258\u001B[0m     \u001B[38;5;28mself\u001B[39m, other \u001B[38;5;241m=\u001B[39m ops\u001B[38;5;241m.\u001B[39malign_method_SERIES(\u001B[38;5;28mself\u001B[39m, other)\n\u001B[1;32m-> 6259\u001B[0m     \u001B[38;5;28;01mreturn\u001B[39;00m \u001B[43mbase\u001B[49m\u001B[38;5;241;43m.\u001B[39;49m\u001B[43mIndexOpsMixin\u001B[49m\u001B[38;5;241;43m.\u001B[39;49m\u001B[43m_arith_method\u001B[49m\u001B[43m(\u001B[49m\u001B[38;5;28;43mself\u001B[39;49m\u001B[43m,\u001B[49m\u001B[43m \u001B[49m\u001B[43mother\u001B[49m\u001B[43m,\u001B[49m\u001B[43m \u001B[49m\u001B[43mop\u001B[49m\u001B[43m)\u001B[49m\n",
      "File \u001B[1;32m~\\anaconda3\\envs\\zerobase\\lib\\site-packages\\pandas\\core\\base.py:1325\u001B[0m, in \u001B[0;36mIndexOpsMixin._arith_method\u001B[1;34m(self, other, op)\u001B[0m\n\u001B[0;32m   1322\u001B[0m rvalues \u001B[38;5;241m=\u001B[39m ensure_wrapped_if_datetimelike(rvalues)\n\u001B[0;32m   1324\u001B[0m \u001B[38;5;28;01mwith\u001B[39;00m np\u001B[38;5;241m.\u001B[39merrstate(\u001B[38;5;28mall\u001B[39m\u001B[38;5;241m=\u001B[39m\u001B[38;5;124m\"\u001B[39m\u001B[38;5;124mignore\u001B[39m\u001B[38;5;124m\"\u001B[39m):\n\u001B[1;32m-> 1325\u001B[0m     result \u001B[38;5;241m=\u001B[39m \u001B[43mops\u001B[49m\u001B[38;5;241;43m.\u001B[39;49m\u001B[43marithmetic_op\u001B[49m\u001B[43m(\u001B[49m\u001B[43mlvalues\u001B[49m\u001B[43m,\u001B[49m\u001B[43m \u001B[49m\u001B[43mrvalues\u001B[49m\u001B[43m,\u001B[49m\u001B[43m \u001B[49m\u001B[43mop\u001B[49m\u001B[43m)\u001B[49m\n\u001B[0;32m   1327\u001B[0m \u001B[38;5;28;01mreturn\u001B[39;00m \u001B[38;5;28mself\u001B[39m\u001B[38;5;241m.\u001B[39m_construct_result(result, name\u001B[38;5;241m=\u001B[39mres_name)\n",
      "File \u001B[1;32m~\\anaconda3\\envs\\zerobase\\lib\\site-packages\\pandas\\core\\ops\\array_ops.py:226\u001B[0m, in \u001B[0;36marithmetic_op\u001B[1;34m(left, right, op)\u001B[0m\n\u001B[0;32m    222\u001B[0m     _bool_arith_check(op, left, right)\n\u001B[0;32m    224\u001B[0m     \u001B[38;5;66;03m# error: Argument 1 to \"_na_arithmetic_op\" has incompatible type\u001B[39;00m\n\u001B[0;32m    225\u001B[0m     \u001B[38;5;66;03m# \"Union[ExtensionArray, ndarray[Any, Any]]\"; expected \"ndarray[Any, Any]\"\u001B[39;00m\n\u001B[1;32m--> 226\u001B[0m     res_values \u001B[38;5;241m=\u001B[39m \u001B[43m_na_arithmetic_op\u001B[49m\u001B[43m(\u001B[49m\u001B[43mleft\u001B[49m\u001B[43m,\u001B[49m\u001B[43m \u001B[49m\u001B[43mright\u001B[49m\u001B[43m,\u001B[49m\u001B[43m \u001B[49m\u001B[43mop\u001B[49m\u001B[43m)\u001B[49m  \u001B[38;5;66;03m# type: ignore[arg-type]\u001B[39;00m\n\u001B[0;32m    228\u001B[0m \u001B[38;5;28;01mreturn\u001B[39;00m res_values\n",
      "File \u001B[1;32m~\\anaconda3\\envs\\zerobase\\lib\\site-packages\\pandas\\core\\ops\\array_ops.py:172\u001B[0m, in \u001B[0;36m_na_arithmetic_op\u001B[1;34m(left, right, op, is_cmp)\u001B[0m\n\u001B[0;32m    166\u001B[0m \u001B[38;5;28;01mexcept\u001B[39;00m \u001B[38;5;167;01mTypeError\u001B[39;00m:\n\u001B[0;32m    167\u001B[0m     \u001B[38;5;28;01mif\u001B[39;00m \u001B[38;5;129;01mnot\u001B[39;00m is_cmp \u001B[38;5;129;01mand\u001B[39;00m (is_object_dtype(left\u001B[38;5;241m.\u001B[39mdtype) \u001B[38;5;129;01mor\u001B[39;00m is_object_dtype(right)):\n\u001B[0;32m    168\u001B[0m         \u001B[38;5;66;03m# For object dtype, fallback to a masked operation (only operating\u001B[39;00m\n\u001B[0;32m    169\u001B[0m         \u001B[38;5;66;03m#  on the non-missing values)\u001B[39;00m\n\u001B[0;32m    170\u001B[0m         \u001B[38;5;66;03m# Don't do this for comparisons, as that will handle complex numbers\u001B[39;00m\n\u001B[0;32m    171\u001B[0m         \u001B[38;5;66;03m#  incorrectly, see GH#32047\u001B[39;00m\n\u001B[1;32m--> 172\u001B[0m         result \u001B[38;5;241m=\u001B[39m \u001B[43m_masked_arith_op\u001B[49m\u001B[43m(\u001B[49m\u001B[43mleft\u001B[49m\u001B[43m,\u001B[49m\u001B[43m \u001B[49m\u001B[43mright\u001B[49m\u001B[43m,\u001B[49m\u001B[43m \u001B[49m\u001B[43mop\u001B[49m\u001B[43m)\u001B[49m\n\u001B[0;32m    173\u001B[0m     \u001B[38;5;28;01melse\u001B[39;00m:\n\u001B[0;32m    174\u001B[0m         \u001B[38;5;28;01mraise\u001B[39;00m\n",
      "File \u001B[1;32m~\\anaconda3\\envs\\zerobase\\lib\\site-packages\\pandas\\core\\ops\\array_ops.py:129\u001B[0m, in \u001B[0;36m_masked_arith_op\u001B[1;34m(x, y, op)\u001B[0m\n\u001B[0;32m    126\u001B[0m         mask \u001B[38;5;241m=\u001B[39m np\u001B[38;5;241m.\u001B[39mwhere(y \u001B[38;5;241m==\u001B[39m \u001B[38;5;241m1\u001B[39m, \u001B[38;5;28;01mFalse\u001B[39;00m, mask)\n\u001B[0;32m    128\u001B[0m     \u001B[38;5;28;01mif\u001B[39;00m mask\u001B[38;5;241m.\u001B[39many():\n\u001B[1;32m--> 129\u001B[0m         result[mask] \u001B[38;5;241m=\u001B[39m \u001B[43mop\u001B[49m\u001B[43m(\u001B[49m\u001B[43mxrav\u001B[49m\u001B[43m[\u001B[49m\u001B[43mmask\u001B[49m\u001B[43m]\u001B[49m\u001B[43m,\u001B[49m\u001B[43m \u001B[49m\u001B[43my\u001B[49m\u001B[43m)\u001B[49m\n\u001B[0;32m    131\u001B[0m np\u001B[38;5;241m.\u001B[39mputmask(result, \u001B[38;5;241m~\u001B[39mmask, np\u001B[38;5;241m.\u001B[39mnan)\n\u001B[0;32m    132\u001B[0m result \u001B[38;5;241m=\u001B[39m result\u001B[38;5;241m.\u001B[39mreshape(x\u001B[38;5;241m.\u001B[39mshape)  \u001B[38;5;66;03m# 2D compat\u001B[39;00m\n",
      "\u001B[1;31mTypeError\u001B[0m: not all arguments converted during string formatting"
     ]
    }
   ],
   "source": [
    "data % 2"
   ],
   "metadata": {
    "collapsed": false
   }
  },
  {
   "cell_type": "code",
   "execution_count": 21,
   "outputs": [
    {
     "data": {
      "text/plain": "0    1\n1    0\n2    1\n3    0\ndtype: int64"
     },
     "execution_count": 21,
     "metadata": {},
     "output_type": "execute_result"
    }
   ],
   "source": [
    "data = pd.Series([1,2,3,4])\n",
    "data % 2"
   ],
   "metadata": {
    "collapsed": false
   }
  },
  {
   "cell_type": "code",
   "execution_count": 22,
   "outputs": [
    {
     "data": {
      "text/plain": "0    1.0\n1    3.0\n2    5.0\n3    NaN\n4    6.0\n5    8.0\ndtype: float64"
     },
     "execution_count": 22,
     "metadata": {},
     "output_type": "execute_result"
    }
   ],
   "source": [
    "s = pd.Series([1,3,5, np.nan, 6,8])\n",
    "s"
   ],
   "metadata": {
    "collapsed": false
   }
  },
  {
   "cell_type": "markdown",
   "source": [
    "- 날짜를 이용할 수 있다."
   ],
   "metadata": {
    "collapsed": false
   }
  },
  {
   "cell_type": "markdown",
   "source": [
    "- period - 기간"
   ],
   "metadata": {
    "collapsed": false
   }
  },
  {
   "cell_type": "code",
   "execution_count": 23,
   "outputs": [
    {
     "data": {
      "text/plain": "DatetimeIndex(['2013-01-01', '2013-01-02', '2013-01-03', '2013-01-04',\n               '2013-01-05', '2013-01-06'],\n              dtype='datetime64[ns]', freq='D')"
     },
     "execution_count": 23,
     "metadata": {},
     "output_type": "execute_result"
    }
   ],
   "source": [
    "dates = pd.date_range(\"20130101\",periods=6)\n",
    "dates"
   ],
   "metadata": {
    "collapsed": false
   }
  },
  {
   "cell_type": "code",
   "execution_count": 24,
   "outputs": [
    {
     "data": {
      "text/plain": "DatetimeIndex(['2021-01-01', '2021-01-02', '2021-01-03', '2021-01-04',\n               '2021-01-05', '2021-01-06'],\n              dtype='datetime64[ns]', freq='D')"
     },
     "execution_count": 24,
     "metadata": {},
     "output_type": "execute_result"
    }
   ],
   "source": [
    "dates = pd.date_range(\"20210101\",periods=6)\n",
    "dates"
   ],
   "metadata": {
    "collapsed": false
   }
  },
  {
   "cell_type": "markdown",
   "source": [
    "- pandas에서 가장 많이 사용되는 데이터 형은 DataFrame이다."
   ],
   "metadata": {
    "collapsed": false
   }
  },
  {
   "cell_type": "markdown",
   "source": [
    "- index와 columns를 지정하면 된다."
   ],
   "metadata": {
    "collapsed": false
   }
  },
  {
   "cell_type": "code",
   "execution_count": 25,
   "outputs": [
    {
     "data": {
      "text/plain": "                   A         B         C         D\n2021-01-01  0.958469  0.811554  0.973106  0.214726\n2021-01-02  0.264124  0.892060  0.952744  0.308516\n2021-01-03  0.325609  0.116668  0.395746  0.217847\n2021-01-04  0.415026  0.030849  0.744007  0.350606\n2021-01-05  0.151266  0.644050  0.737646  0.958025\n2021-01-06  0.999985  0.168934  0.566594  0.684940",
      "text/html": "<div>\n<style scoped>\n    .dataframe tbody tr th:only-of-type {\n        vertical-align: middle;\n    }\n\n    .dataframe tbody tr th {\n        vertical-align: top;\n    }\n\n    .dataframe thead th {\n        text-align: right;\n    }\n</style>\n<table border=\"1\" class=\"dataframe\">\n  <thead>\n    <tr style=\"text-align: right;\">\n      <th></th>\n      <th>A</th>\n      <th>B</th>\n      <th>C</th>\n      <th>D</th>\n    </tr>\n  </thead>\n  <tbody>\n    <tr>\n      <th>2021-01-01</th>\n      <td>0.958469</td>\n      <td>0.811554</td>\n      <td>0.973106</td>\n      <td>0.214726</td>\n    </tr>\n    <tr>\n      <th>2021-01-02</th>\n      <td>0.264124</td>\n      <td>0.892060</td>\n      <td>0.952744</td>\n      <td>0.308516</td>\n    </tr>\n    <tr>\n      <th>2021-01-03</th>\n      <td>0.325609</td>\n      <td>0.116668</td>\n      <td>0.395746</td>\n      <td>0.217847</td>\n    </tr>\n    <tr>\n      <th>2021-01-04</th>\n      <td>0.415026</td>\n      <td>0.030849</td>\n      <td>0.744007</td>\n      <td>0.350606</td>\n    </tr>\n    <tr>\n      <th>2021-01-05</th>\n      <td>0.151266</td>\n      <td>0.644050</td>\n      <td>0.737646</td>\n      <td>0.958025</td>\n    </tr>\n    <tr>\n      <th>2021-01-06</th>\n      <td>0.999985</td>\n      <td>0.168934</td>\n      <td>0.566594</td>\n      <td>0.684940</td>\n    </tr>\n  </tbody>\n</table>\n</div>"
     },
     "execution_count": 25,
     "metadata": {},
     "output_type": "execute_result"
    }
   ],
   "source": [
    "df = pd.DataFrame(np.random.rand(6,4), index=dates, columns=[\"A\",\"B\",\"C\",\"D\"])\n",
    "df"
   ],
   "metadata": {
    "collapsed": false
   }
  },
  {
   "cell_type": "markdown",
   "source": [
    "- 앞부분 5개의 데이터 확인"
   ],
   "metadata": {
    "collapsed": false
   }
  },
  {
   "cell_type": "code",
   "execution_count": 26,
   "outputs": [
    {
     "data": {
      "text/plain": "                   A         B         C         D\n2021-01-01  0.958469  0.811554  0.973106  0.214726\n2021-01-02  0.264124  0.892060  0.952744  0.308516\n2021-01-03  0.325609  0.116668  0.395746  0.217847\n2021-01-04  0.415026  0.030849  0.744007  0.350606\n2021-01-05  0.151266  0.644050  0.737646  0.958025",
      "text/html": "<div>\n<style scoped>\n    .dataframe tbody tr th:only-of-type {\n        vertical-align: middle;\n    }\n\n    .dataframe tbody tr th {\n        vertical-align: top;\n    }\n\n    .dataframe thead th {\n        text-align: right;\n    }\n</style>\n<table border=\"1\" class=\"dataframe\">\n  <thead>\n    <tr style=\"text-align: right;\">\n      <th></th>\n      <th>A</th>\n      <th>B</th>\n      <th>C</th>\n      <th>D</th>\n    </tr>\n  </thead>\n  <tbody>\n    <tr>\n      <th>2021-01-01</th>\n      <td>0.958469</td>\n      <td>0.811554</td>\n      <td>0.973106</td>\n      <td>0.214726</td>\n    </tr>\n    <tr>\n      <th>2021-01-02</th>\n      <td>0.264124</td>\n      <td>0.892060</td>\n      <td>0.952744</td>\n      <td>0.308516</td>\n    </tr>\n    <tr>\n      <th>2021-01-03</th>\n      <td>0.325609</td>\n      <td>0.116668</td>\n      <td>0.395746</td>\n      <td>0.217847</td>\n    </tr>\n    <tr>\n      <th>2021-01-04</th>\n      <td>0.415026</td>\n      <td>0.030849</td>\n      <td>0.744007</td>\n      <td>0.350606</td>\n    </tr>\n    <tr>\n      <th>2021-01-05</th>\n      <td>0.151266</td>\n      <td>0.644050</td>\n      <td>0.737646</td>\n      <td>0.958025</td>\n    </tr>\n  </tbody>\n</table>\n</div>"
     },
     "execution_count": 26,
     "metadata": {},
     "output_type": "execute_result"
    }
   ],
   "source": [
    "df.head()"
   ],
   "metadata": {
    "collapsed": false
   }
  },
  {
   "cell_type": "markdown",
   "source": [
    "- DataFrame의 index확인"
   ],
   "metadata": {
    "collapsed": false
   }
  },
  {
   "cell_type": "code",
   "execution_count": 27,
   "outputs": [
    {
     "data": {
      "text/plain": "DatetimeIndex(['2021-01-01', '2021-01-02', '2021-01-03', '2021-01-04',\n               '2021-01-05', '2021-01-06'],\n              dtype='datetime64[ns]', freq='D')"
     },
     "execution_count": 27,
     "metadata": {},
     "output_type": "execute_result"
    }
   ],
   "source": [
    "df.index"
   ],
   "metadata": {
    "collapsed": false
   }
  },
  {
   "cell_type": "markdown",
   "source": [
    "- DataFrame columns확인"
   ],
   "metadata": {
    "collapsed": false
   }
  },
  {
   "cell_type": "code",
   "execution_count": 42,
   "outputs": [
    {
     "data": {
      "text/plain": "Index(['A', 'B', 'C', 'D'], dtype='object')"
     },
     "execution_count": 42,
     "metadata": {},
     "output_type": "execute_result"
    }
   ],
   "source": [
    "df.columns"
   ],
   "metadata": {
    "collapsed": false
   }
  },
  {
   "cell_type": "markdown",
   "source": [
    "- DataFrame value확인"
   ],
   "metadata": {
    "collapsed": false
   }
  },
  {
   "cell_type": "code",
   "execution_count": 43,
   "outputs": [
    {
     "data": {
      "text/plain": "array([[0.95846881, 0.81155425, 0.97310599, 0.21472629],\n       [0.26412399, 0.89206016, 0.95274384, 0.30851576],\n       [0.32560871, 0.1166683 , 0.39574587, 0.21784663],\n       [0.41502599, 0.03084921, 0.74400688, 0.35060601],\n       [0.15126635, 0.64404954, 0.73764648, 0.95802544],\n       [0.99998519, 0.16893396, 0.56659379, 0.68493953]])"
     },
     "execution_count": 43,
     "metadata": {},
     "output_type": "execute_result"
    }
   ],
   "source": [
    "df.values"
   ],
   "metadata": {
    "collapsed": false
   }
  },
  {
   "cell_type": "markdown",
   "source": [
    "- DataFrame의 기본정보 확인"
   ],
   "metadata": {
    "collapsed": false
   }
  },
  {
   "cell_type": "markdown",
   "source": [
    "- 각 칼럼의 크기와 데이터 형태를 확인하는 경우가 많다"
   ],
   "metadata": {
    "collapsed": false
   }
  },
  {
   "cell_type": "code",
   "execution_count": 44,
   "outputs": [
    {
     "name": "stdout",
     "output_type": "stream",
     "text": [
      "<class 'pandas.core.frame.DataFrame'>\n",
      "DatetimeIndex: 6 entries, 2021-01-01 to 2021-01-06\n",
      "Freq: D\n",
      "Data columns (total 4 columns):\n",
      " #   Column  Non-Null Count  Dtype  \n",
      "---  ------  --------------  -----  \n",
      " 0   A       6 non-null      float64\n",
      " 1   B       6 non-null      float64\n",
      " 2   C       6 non-null      float64\n",
      " 3   D       6 non-null      float64\n",
      "dtypes: float64(4)\n",
      "memory usage: 412.0 bytes\n"
     ]
    }
   ],
   "source": [
    "df.info()"
   ],
   "metadata": {
    "collapsed": false
   }
  },
  {
   "cell_type": "markdown",
   "source": [
    "- DataFrame의 통계적 기본 정보 확인"
   ],
   "metadata": {
    "collapsed": false
   }
  },
  {
   "cell_type": "code",
   "execution_count": 45,
   "outputs": [
    {
     "data": {
      "text/plain": "              A         B         C         D\ncount  6.000000  6.000000  6.000000  6.000000\nmean   0.519080  0.444019  0.728307  0.455777\nstd    0.366846  0.381936  0.222432  0.300743\nmin    0.151266  0.030849  0.395746  0.214726\n25%    0.279495  0.129735  0.609357  0.240514\n50%    0.370317  0.406492  0.740827  0.329561\n75%    0.822608  0.769678  0.900560  0.601356\nmax    0.999985  0.892060  0.973106  0.958025",
      "text/html": "<div>\n<style scoped>\n    .dataframe tbody tr th:only-of-type {\n        vertical-align: middle;\n    }\n\n    .dataframe tbody tr th {\n        vertical-align: top;\n    }\n\n    .dataframe thead th {\n        text-align: right;\n    }\n</style>\n<table border=\"1\" class=\"dataframe\">\n  <thead>\n    <tr style=\"text-align: right;\">\n      <th></th>\n      <th>A</th>\n      <th>B</th>\n      <th>C</th>\n      <th>D</th>\n    </tr>\n  </thead>\n  <tbody>\n    <tr>\n      <th>count</th>\n      <td>6.000000</td>\n      <td>6.000000</td>\n      <td>6.000000</td>\n      <td>6.000000</td>\n    </tr>\n    <tr>\n      <th>mean</th>\n      <td>0.519080</td>\n      <td>0.444019</td>\n      <td>0.728307</td>\n      <td>0.455777</td>\n    </tr>\n    <tr>\n      <th>std</th>\n      <td>0.366846</td>\n      <td>0.381936</td>\n      <td>0.222432</td>\n      <td>0.300743</td>\n    </tr>\n    <tr>\n      <th>min</th>\n      <td>0.151266</td>\n      <td>0.030849</td>\n      <td>0.395746</td>\n      <td>0.214726</td>\n    </tr>\n    <tr>\n      <th>25%</th>\n      <td>0.279495</td>\n      <td>0.129735</td>\n      <td>0.609357</td>\n      <td>0.240514</td>\n    </tr>\n    <tr>\n      <th>50%</th>\n      <td>0.370317</td>\n      <td>0.406492</td>\n      <td>0.740827</td>\n      <td>0.329561</td>\n    </tr>\n    <tr>\n      <th>75%</th>\n      <td>0.822608</td>\n      <td>0.769678</td>\n      <td>0.900560</td>\n      <td>0.601356</td>\n    </tr>\n    <tr>\n      <th>max</th>\n      <td>0.999985</td>\n      <td>0.892060</td>\n      <td>0.973106</td>\n      <td>0.958025</td>\n    </tr>\n  </tbody>\n</table>\n</div>"
     },
     "execution_count": 45,
     "metadata": {},
     "output_type": "execute_result"
    }
   ],
   "source": [
    "df.describe()"
   ],
   "metadata": {
    "collapsed": false
   }
  },
  {
   "cell_type": "markdown",
   "source": [
    "- sort_values -> 데이터를 정렬"
   ],
   "metadata": {
    "collapsed": false
   }
  },
  {
   "cell_type": "code",
   "execution_count": 46,
   "outputs": [
    {
     "data": {
      "text/plain": "                   A         B         C         D\n2021-01-02  0.264124  0.892060  0.952744  0.308516\n2021-01-01  0.958469  0.811554  0.973106  0.214726\n2021-01-05  0.151266  0.644050  0.737646  0.958025\n2021-01-06  0.999985  0.168934  0.566594  0.684940\n2021-01-03  0.325609  0.116668  0.395746  0.217847\n2021-01-04  0.415026  0.030849  0.744007  0.350606",
      "text/html": "<div>\n<style scoped>\n    .dataframe tbody tr th:only-of-type {\n        vertical-align: middle;\n    }\n\n    .dataframe tbody tr th {\n        vertical-align: top;\n    }\n\n    .dataframe thead th {\n        text-align: right;\n    }\n</style>\n<table border=\"1\" class=\"dataframe\">\n  <thead>\n    <tr style=\"text-align: right;\">\n      <th></th>\n      <th>A</th>\n      <th>B</th>\n      <th>C</th>\n      <th>D</th>\n    </tr>\n  </thead>\n  <tbody>\n    <tr>\n      <th>2021-01-02</th>\n      <td>0.264124</td>\n      <td>0.892060</td>\n      <td>0.952744</td>\n      <td>0.308516</td>\n    </tr>\n    <tr>\n      <th>2021-01-01</th>\n      <td>0.958469</td>\n      <td>0.811554</td>\n      <td>0.973106</td>\n      <td>0.214726</td>\n    </tr>\n    <tr>\n      <th>2021-01-05</th>\n      <td>0.151266</td>\n      <td>0.644050</td>\n      <td>0.737646</td>\n      <td>0.958025</td>\n    </tr>\n    <tr>\n      <th>2021-01-06</th>\n      <td>0.999985</td>\n      <td>0.168934</td>\n      <td>0.566594</td>\n      <td>0.684940</td>\n    </tr>\n    <tr>\n      <th>2021-01-03</th>\n      <td>0.325609</td>\n      <td>0.116668</td>\n      <td>0.395746</td>\n      <td>0.217847</td>\n    </tr>\n    <tr>\n      <th>2021-01-04</th>\n      <td>0.415026</td>\n      <td>0.030849</td>\n      <td>0.744007</td>\n      <td>0.350606</td>\n    </tr>\n  </tbody>\n</table>\n</div>"
     },
     "execution_count": 46,
     "metadata": {},
     "output_type": "execute_result"
    }
   ],
   "source": [
    "df.sort_values(by=\"B\", ascending=False) # B를 기준으로 내림차순 정렬"
   ],
   "metadata": {
    "collapsed": false
   }
  },
  {
   "cell_type": "markdown",
   "source": [
    "- 특정 컬럼만 읽기"
   ],
   "metadata": {
    "collapsed": false
   }
  },
  {
   "cell_type": "code",
   "execution_count": 47,
   "outputs": [
    {
     "data": {
      "text/plain": "2021-01-01    0.958469\n2021-01-02    0.264124\n2021-01-03    0.325609\n2021-01-04    0.415026\n2021-01-05    0.151266\n2021-01-06    0.999985\nFreq: D, Name: A, dtype: float64"
     },
     "execution_count": 47,
     "metadata": {},
     "output_type": "execute_result"
    }
   ],
   "source": [
    "df['A']"
   ],
   "metadata": {
    "collapsed": false
   }
  },
  {
   "cell_type": "code",
   "execution_count": 48,
   "outputs": [
    {
     "data": {
      "text/plain": "2021-01-01    0.811554\n2021-01-02    0.892060\n2021-01-03    0.116668\n2021-01-04    0.030849\n2021-01-05    0.644050\n2021-01-06    0.168934\nFreq: D, Name: B, dtype: float64"
     },
     "execution_count": 48,
     "metadata": {},
     "output_type": "execute_result"
    }
   ],
   "source": [
    "df[\"B\"]"
   ],
   "metadata": {
    "collapsed": false
   }
  },
  {
   "cell_type": "markdown",
   "source": [
    "- [n:m] -> n부터 m-1까지"
   ],
   "metadata": {
    "collapsed": false
   }
  },
  {
   "cell_type": "markdown",
   "source": [
    "- 인텍스나 컬럼의 이름으로 slice하는 경우는 끝을 포함함"
   ],
   "metadata": {
    "collapsed": false
   }
  },
  {
   "cell_type": "code",
   "execution_count": 52,
   "outputs": [
    {
     "data": {
      "text/plain": "                   A         B         C         D\n2021-01-01  0.958469  0.811554  0.973106  0.214726\n2021-01-02  0.264124  0.892060  0.952744  0.308516\n2021-01-03  0.325609  0.116668  0.395746  0.217847",
      "text/html": "<div>\n<style scoped>\n    .dataframe tbody tr th:only-of-type {\n        vertical-align: middle;\n    }\n\n    .dataframe tbody tr th {\n        vertical-align: top;\n    }\n\n    .dataframe thead th {\n        text-align: right;\n    }\n</style>\n<table border=\"1\" class=\"dataframe\">\n  <thead>\n    <tr style=\"text-align: right;\">\n      <th></th>\n      <th>A</th>\n      <th>B</th>\n      <th>C</th>\n      <th>D</th>\n    </tr>\n  </thead>\n  <tbody>\n    <tr>\n      <th>2021-01-01</th>\n      <td>0.958469</td>\n      <td>0.811554</td>\n      <td>0.973106</td>\n      <td>0.214726</td>\n    </tr>\n    <tr>\n      <th>2021-01-02</th>\n      <td>0.264124</td>\n      <td>0.892060</td>\n      <td>0.952744</td>\n      <td>0.308516</td>\n    </tr>\n    <tr>\n      <th>2021-01-03</th>\n      <td>0.325609</td>\n      <td>0.116668</td>\n      <td>0.395746</td>\n      <td>0.217847</td>\n    </tr>\n  </tbody>\n</table>\n</div>"
     },
     "execution_count": 52,
     "metadata": {},
     "output_type": "execute_result"
    }
   ],
   "source": [
    "df[0:3]"
   ],
   "metadata": {
    "collapsed": false
   }
  },
  {
   "cell_type": "code",
   "execution_count": 51,
   "outputs": [
    {
     "data": {
      "text/plain": "Empty DataFrame\nColumns: [A, B, C, D]\nIndex: []",
      "text/html": "<div>\n<style scoped>\n    .dataframe tbody tr th:only-of-type {\n        vertical-align: middle;\n    }\n\n    .dataframe tbody tr th {\n        vertical-align: top;\n    }\n\n    .dataframe thead th {\n        text-align: right;\n    }\n</style>\n<table border=\"1\" class=\"dataframe\">\n  <thead>\n    <tr style=\"text-align: right;\">\n      <th></th>\n      <th>A</th>\n      <th>B</th>\n      <th>C</th>\n      <th>D</th>\n    </tr>\n  </thead>\n  <tbody>\n  </tbody>\n</table>\n</div>"
     },
     "execution_count": 51,
     "metadata": {},
     "output_type": "execute_result"
    }
   ],
   "source": [
    "df['20130102':'20130104']"
   ],
   "metadata": {
    "collapsed": false
   }
  },
  {
   "cell_type": "markdown",
   "source": [
    "- 이름으로도 사용가능"
   ],
   "metadata": {
    "collapsed": false
   }
  },
  {
   "cell_type": "markdown",
   "source": [
    "- pandas의 보편적인 slice 옵션"
   ],
   "metadata": {
    "collapsed": false
   }
  },
  {
   "cell_type": "markdown",
   "source": [
    "- loc: location"
   ],
   "metadata": {
    "collapsed": false
   }
  },
  {
   "cell_type": "code",
   "execution_count": 37,
   "outputs": [
    {
     "data": {
      "text/plain": "                   A         B\n2021-01-01  0.958469  0.811554\n2021-01-02  0.264124  0.892060\n2021-01-03  0.325609  0.116668\n2021-01-04  0.415026  0.030849\n2021-01-05  0.151266  0.644050\n2021-01-06  0.999985  0.168934",
      "text/html": "<div>\n<style scoped>\n    .dataframe tbody tr th:only-of-type {\n        vertical-align: middle;\n    }\n\n    .dataframe tbody tr th {\n        vertical-align: top;\n    }\n\n    .dataframe thead th {\n        text-align: right;\n    }\n</style>\n<table border=\"1\" class=\"dataframe\">\n  <thead>\n    <tr style=\"text-align: right;\">\n      <th></th>\n      <th>A</th>\n      <th>B</th>\n    </tr>\n  </thead>\n  <tbody>\n    <tr>\n      <th>2021-01-01</th>\n      <td>0.958469</td>\n      <td>0.811554</td>\n    </tr>\n    <tr>\n      <th>2021-01-02</th>\n      <td>0.264124</td>\n      <td>0.892060</td>\n    </tr>\n    <tr>\n      <th>2021-01-03</th>\n      <td>0.325609</td>\n      <td>0.116668</td>\n    </tr>\n    <tr>\n      <th>2021-01-04</th>\n      <td>0.415026</td>\n      <td>0.030849</td>\n    </tr>\n    <tr>\n      <th>2021-01-05</th>\n      <td>0.151266</td>\n      <td>0.644050</td>\n    </tr>\n    <tr>\n      <th>2021-01-06</th>\n      <td>0.999985</td>\n      <td>0.168934</td>\n    </tr>\n  </tbody>\n</table>\n</div>"
     },
     "execution_count": 37,
     "metadata": {},
     "output_type": "execute_result"
    }
   ],
   "source": [
    "df.loc[:,[\"A\",\"B\"]]"
   ],
   "metadata": {
    "collapsed": false
   }
  },
  {
   "cell_type": "code",
   "execution_count": 38,
   "outputs": [
    {
     "data": {
      "text/plain": "Empty DataFrame\nColumns: [A, B]\nIndex: []",
      "text/html": "<div>\n<style scoped>\n    .dataframe tbody tr th:only-of-type {\n        vertical-align: middle;\n    }\n\n    .dataframe tbody tr th {\n        vertical-align: top;\n    }\n\n    .dataframe thead th {\n        text-align: right;\n    }\n</style>\n<table border=\"1\" class=\"dataframe\">\n  <thead>\n    <tr style=\"text-align: right;\">\n      <th></th>\n      <th>A</th>\n      <th>B</th>\n    </tr>\n  </thead>\n  <tbody>\n  </tbody>\n</table>\n</div>"
     },
     "execution_count": 38,
     "metadata": {},
     "output_type": "execute_result"
    }
   ],
   "source": [
    "df.loc[\"20130102\":\"20130104\",[\"A\",\"B\"]]"
   ],
   "metadata": {
    "collapsed": false
   }
  },
  {
   "cell_type": "code",
   "execution_count": 39,
   "outputs": [
    {
     "data": {
      "text/plain": "Empty DataFrame\nColumns: [A, D]\nIndex: []",
      "text/html": "<div>\n<style scoped>\n    .dataframe tbody tr th:only-of-type {\n        vertical-align: middle;\n    }\n\n    .dataframe tbody tr th {\n        vertical-align: top;\n    }\n\n    .dataframe thead th {\n        text-align: right;\n    }\n</style>\n<table border=\"1\" class=\"dataframe\">\n  <thead>\n    <tr style=\"text-align: right;\">\n      <th></th>\n      <th>A</th>\n      <th>D</th>\n    </tr>\n  </thead>\n  <tbody>\n  </tbody>\n</table>\n</div>"
     },
     "execution_count": 39,
     "metadata": {},
     "output_type": "execute_result"
    }
   ],
   "source": [
    "df.loc[\"20130102\":\"20130104\",[\"A\",\"D\"]]"
   ],
   "metadata": {
    "collapsed": false
   }
  },
  {
   "cell_type": "code",
   "execution_count": 41,
   "outputs": [
    {
     "ename": "KeyError",
     "evalue": "'20130102'",
     "output_type": "error",
     "traceback": [
      "\u001B[1;31m---------------------------------------------------------------------------\u001B[0m",
      "\u001B[1;31mKeyError\u001B[0m                                  Traceback (most recent call last)",
      "File \u001B[1;32m~\\anaconda3\\envs\\zerobase\\lib\\site-packages\\pandas\\_libs\\index.pyx:548\u001B[0m, in \u001B[0;36mpandas._libs.index.DatetimeEngine.get_loc\u001B[1;34m()\u001B[0m\n",
      "File \u001B[1;32mpandas\\_libs\\hashtable_class_helper.pxi:2263\u001B[0m, in \u001B[0;36mpandas._libs.hashtable.Int64HashTable.get_item\u001B[1;34m()\u001B[0m\n",
      "File \u001B[1;32mpandas\\_libs\\hashtable_class_helper.pxi:2273\u001B[0m, in \u001B[0;36mpandas._libs.hashtable.Int64HashTable.get_item\u001B[1;34m()\u001B[0m\n",
      "\u001B[1;31mKeyError\u001B[0m: 1357084800000000000",
      "\nDuring handling of the above exception, another exception occurred:\n",
      "\u001B[1;31mKeyError\u001B[0m                                  Traceback (most recent call last)",
      "File \u001B[1;32m~\\anaconda3\\envs\\zerobase\\lib\\site-packages\\pandas\\core\\indexes\\base.py:3802\u001B[0m, in \u001B[0;36mIndex.get_loc\u001B[1;34m(self, key, method, tolerance)\u001B[0m\n\u001B[0;32m   3801\u001B[0m \u001B[38;5;28;01mtry\u001B[39;00m:\n\u001B[1;32m-> 3802\u001B[0m     \u001B[38;5;28;01mreturn\u001B[39;00m \u001B[38;5;28;43mself\u001B[39;49m\u001B[38;5;241;43m.\u001B[39;49m\u001B[43m_engine\u001B[49m\u001B[38;5;241;43m.\u001B[39;49m\u001B[43mget_loc\u001B[49m\u001B[43m(\u001B[49m\u001B[43mcasted_key\u001B[49m\u001B[43m)\u001B[49m\n\u001B[0;32m   3803\u001B[0m \u001B[38;5;28;01mexcept\u001B[39;00m \u001B[38;5;167;01mKeyError\u001B[39;00m \u001B[38;5;28;01mas\u001B[39;00m err:\n",
      "File \u001B[1;32m~\\anaconda3\\envs\\zerobase\\lib\\site-packages\\pandas\\_libs\\index.pyx:516\u001B[0m, in \u001B[0;36mpandas._libs.index.DatetimeEngine.get_loc\u001B[1;34m()\u001B[0m\n",
      "File \u001B[1;32m~\\anaconda3\\envs\\zerobase\\lib\\site-packages\\pandas\\_libs\\index.pyx:550\u001B[0m, in \u001B[0;36mpandas._libs.index.DatetimeEngine.get_loc\u001B[1;34m()\u001B[0m\n",
      "\u001B[1;31mKeyError\u001B[0m: Timestamp('2013-01-02 00:00:00')",
      "\nThe above exception was the direct cause of the following exception:\n",
      "\u001B[1;31mKeyError\u001B[0m                                  Traceback (most recent call last)",
      "File \u001B[1;32m~\\anaconda3\\envs\\zerobase\\lib\\site-packages\\pandas\\core\\indexes\\datetimes.py:736\u001B[0m, in \u001B[0;36mDatetimeIndex.get_loc\u001B[1;34m(self, key, method, tolerance)\u001B[0m\n\u001B[0;32m    735\u001B[0m \u001B[38;5;28;01mtry\u001B[39;00m:\n\u001B[1;32m--> 736\u001B[0m     \u001B[38;5;28;01mreturn\u001B[39;00m \u001B[43mIndex\u001B[49m\u001B[38;5;241;43m.\u001B[39;49m\u001B[43mget_loc\u001B[49m\u001B[43m(\u001B[49m\u001B[38;5;28;43mself\u001B[39;49m\u001B[43m,\u001B[49m\u001B[43m \u001B[49m\u001B[43mkey\u001B[49m\u001B[43m,\u001B[49m\u001B[43m \u001B[49m\u001B[43mmethod\u001B[49m\u001B[43m,\u001B[49m\u001B[43m \u001B[49m\u001B[43mtolerance\u001B[49m\u001B[43m)\u001B[49m\n\u001B[0;32m    737\u001B[0m \u001B[38;5;28;01mexcept\u001B[39;00m \u001B[38;5;167;01mKeyError\u001B[39;00m \u001B[38;5;28;01mas\u001B[39;00m err:\n",
      "File \u001B[1;32m~\\anaconda3\\envs\\zerobase\\lib\\site-packages\\pandas\\core\\indexes\\base.py:3804\u001B[0m, in \u001B[0;36mIndex.get_loc\u001B[1;34m(self, key, method, tolerance)\u001B[0m\n\u001B[0;32m   3803\u001B[0m \u001B[38;5;28;01mexcept\u001B[39;00m \u001B[38;5;167;01mKeyError\u001B[39;00m \u001B[38;5;28;01mas\u001B[39;00m err:\n\u001B[1;32m-> 3804\u001B[0m     \u001B[38;5;28;01mraise\u001B[39;00m \u001B[38;5;167;01mKeyError\u001B[39;00m(key) \u001B[38;5;28;01mfrom\u001B[39;00m \u001B[38;5;21;01merr\u001B[39;00m\n\u001B[0;32m   3805\u001B[0m \u001B[38;5;28;01mexcept\u001B[39;00m \u001B[38;5;167;01mTypeError\u001B[39;00m:\n\u001B[0;32m   3806\u001B[0m     \u001B[38;5;66;03m# If we have a listlike key, _check_indexing_error will raise\u001B[39;00m\n\u001B[0;32m   3807\u001B[0m     \u001B[38;5;66;03m#  InvalidIndexError. Otherwise we fall through and re-raise\u001B[39;00m\n\u001B[0;32m   3808\u001B[0m     \u001B[38;5;66;03m#  the TypeError.\u001B[39;00m\n",
      "\u001B[1;31mKeyError\u001B[0m: Timestamp('2013-01-02 00:00:00')",
      "\nThe above exception was the direct cause of the following exception:\n",
      "\u001B[1;31mKeyError\u001B[0m                                  Traceback (most recent call last)",
      "Cell \u001B[1;32mIn[41], line 1\u001B[0m\n\u001B[1;32m----> 1\u001B[0m \u001B[43mdf\u001B[49m\u001B[38;5;241;43m.\u001B[39;49m\u001B[43mloc\u001B[49m\u001B[43m[\u001B[49m\u001B[38;5;124;43m\"\u001B[39;49m\u001B[38;5;124;43m20130102\u001B[39;49m\u001B[38;5;124;43m\"\u001B[39;49m\u001B[43m,\u001B[49m\u001B[43m[\u001B[49m\u001B[38;5;124;43m\"\u001B[39;49m\u001B[38;5;124;43mA\u001B[39;49m\u001B[38;5;124;43m\"\u001B[39;49m\u001B[43m,\u001B[49m\u001B[38;5;124;43m\"\u001B[39;49m\u001B[38;5;124;43mB\u001B[39;49m\u001B[38;5;124;43m\"\u001B[39;49m\u001B[43m]\u001B[49m\u001B[43m]\u001B[49m\n",
      "File \u001B[1;32m~\\anaconda3\\envs\\zerobase\\lib\\site-packages\\pandas\\core\\indexing.py:1067\u001B[0m, in \u001B[0;36m_LocationIndexer.__getitem__\u001B[1;34m(self, key)\u001B[0m\n\u001B[0;32m   1065\u001B[0m     \u001B[38;5;28;01mif\u001B[39;00m \u001B[38;5;28mself\u001B[39m\u001B[38;5;241m.\u001B[39m_is_scalar_access(key):\n\u001B[0;32m   1066\u001B[0m         \u001B[38;5;28;01mreturn\u001B[39;00m \u001B[38;5;28mself\u001B[39m\u001B[38;5;241m.\u001B[39mobj\u001B[38;5;241m.\u001B[39m_get_value(\u001B[38;5;241m*\u001B[39mkey, takeable\u001B[38;5;241m=\u001B[39m\u001B[38;5;28mself\u001B[39m\u001B[38;5;241m.\u001B[39m_takeable)\n\u001B[1;32m-> 1067\u001B[0m     \u001B[38;5;28;01mreturn\u001B[39;00m \u001B[38;5;28;43mself\u001B[39;49m\u001B[38;5;241;43m.\u001B[39;49m\u001B[43m_getitem_tuple\u001B[49m\u001B[43m(\u001B[49m\u001B[43mkey\u001B[49m\u001B[43m)\u001B[49m\n\u001B[0;32m   1068\u001B[0m \u001B[38;5;28;01melse\u001B[39;00m:\n\u001B[0;32m   1069\u001B[0m     \u001B[38;5;66;03m# we by definition only have the 0th axis\u001B[39;00m\n\u001B[0;32m   1070\u001B[0m     axis \u001B[38;5;241m=\u001B[39m \u001B[38;5;28mself\u001B[39m\u001B[38;5;241m.\u001B[39maxis \u001B[38;5;129;01mor\u001B[39;00m \u001B[38;5;241m0\u001B[39m\n",
      "File \u001B[1;32m~\\anaconda3\\envs\\zerobase\\lib\\site-packages\\pandas\\core\\indexing.py:1247\u001B[0m, in \u001B[0;36m_LocIndexer._getitem_tuple\u001B[1;34m(self, tup)\u001B[0m\n\u001B[0;32m   1245\u001B[0m \u001B[38;5;28;01mwith\u001B[39;00m suppress(IndexingError):\n\u001B[0;32m   1246\u001B[0m     tup \u001B[38;5;241m=\u001B[39m \u001B[38;5;28mself\u001B[39m\u001B[38;5;241m.\u001B[39m_expand_ellipsis(tup)\n\u001B[1;32m-> 1247\u001B[0m     \u001B[38;5;28;01mreturn\u001B[39;00m \u001B[38;5;28;43mself\u001B[39;49m\u001B[38;5;241;43m.\u001B[39;49m\u001B[43m_getitem_lowerdim\u001B[49m\u001B[43m(\u001B[49m\u001B[43mtup\u001B[49m\u001B[43m)\u001B[49m\n\u001B[0;32m   1249\u001B[0m \u001B[38;5;66;03m# no multi-index, so validate all of the indexers\u001B[39;00m\n\u001B[0;32m   1250\u001B[0m tup \u001B[38;5;241m=\u001B[39m \u001B[38;5;28mself\u001B[39m\u001B[38;5;241m.\u001B[39m_validate_tuple_indexer(tup)\n",
      "File \u001B[1;32m~\\anaconda3\\envs\\zerobase\\lib\\site-packages\\pandas\\core\\indexing.py:967\u001B[0m, in \u001B[0;36m_LocationIndexer._getitem_lowerdim\u001B[1;34m(self, tup)\u001B[0m\n\u001B[0;32m    963\u001B[0m \u001B[38;5;28;01mfor\u001B[39;00m i, key \u001B[38;5;129;01min\u001B[39;00m \u001B[38;5;28menumerate\u001B[39m(tup):\n\u001B[0;32m    964\u001B[0m     \u001B[38;5;28;01mif\u001B[39;00m is_label_like(key):\n\u001B[0;32m    965\u001B[0m         \u001B[38;5;66;03m# We don't need to check for tuples here because those are\u001B[39;00m\n\u001B[0;32m    966\u001B[0m         \u001B[38;5;66;03m#  caught by the _is_nested_tuple_indexer check above.\u001B[39;00m\n\u001B[1;32m--> 967\u001B[0m         section \u001B[38;5;241m=\u001B[39m \u001B[38;5;28;43mself\u001B[39;49m\u001B[38;5;241;43m.\u001B[39;49m\u001B[43m_getitem_axis\u001B[49m\u001B[43m(\u001B[49m\u001B[43mkey\u001B[49m\u001B[43m,\u001B[49m\u001B[43m \u001B[49m\u001B[43maxis\u001B[49m\u001B[38;5;241;43m=\u001B[39;49m\u001B[43mi\u001B[49m\u001B[43m)\u001B[49m\n\u001B[0;32m    969\u001B[0m         \u001B[38;5;66;03m# We should never have a scalar section here, because\u001B[39;00m\n\u001B[0;32m    970\u001B[0m         \u001B[38;5;66;03m#  _getitem_lowerdim is only called after a check for\u001B[39;00m\n\u001B[0;32m    971\u001B[0m         \u001B[38;5;66;03m#  is_scalar_access, which that would be.\u001B[39;00m\n\u001B[0;32m    972\u001B[0m         \u001B[38;5;28;01mif\u001B[39;00m section\u001B[38;5;241m.\u001B[39mndim \u001B[38;5;241m==\u001B[39m \u001B[38;5;28mself\u001B[39m\u001B[38;5;241m.\u001B[39mndim:\n\u001B[0;32m    973\u001B[0m             \u001B[38;5;66;03m# we're in the middle of slicing through a MultiIndex\u001B[39;00m\n\u001B[0;32m    974\u001B[0m             \u001B[38;5;66;03m# revise the key wrt to `section` by inserting an _NS\u001B[39;00m\n",
      "File \u001B[1;32m~\\anaconda3\\envs\\zerobase\\lib\\site-packages\\pandas\\core\\indexing.py:1312\u001B[0m, in \u001B[0;36m_LocIndexer._getitem_axis\u001B[1;34m(self, key, axis)\u001B[0m\n\u001B[0;32m   1310\u001B[0m \u001B[38;5;66;03m# fall thru to straight lookup\u001B[39;00m\n\u001B[0;32m   1311\u001B[0m \u001B[38;5;28mself\u001B[39m\u001B[38;5;241m.\u001B[39m_validate_key(key, axis)\n\u001B[1;32m-> 1312\u001B[0m \u001B[38;5;28;01mreturn\u001B[39;00m \u001B[38;5;28;43mself\u001B[39;49m\u001B[38;5;241;43m.\u001B[39;49m\u001B[43m_get_label\u001B[49m\u001B[43m(\u001B[49m\u001B[43mkey\u001B[49m\u001B[43m,\u001B[49m\u001B[43m \u001B[49m\u001B[43maxis\u001B[49m\u001B[38;5;241;43m=\u001B[39;49m\u001B[43maxis\u001B[49m\u001B[43m)\u001B[49m\n",
      "File \u001B[1;32m~\\anaconda3\\envs\\zerobase\\lib\\site-packages\\pandas\\core\\indexing.py:1260\u001B[0m, in \u001B[0;36m_LocIndexer._get_label\u001B[1;34m(self, label, axis)\u001B[0m\n\u001B[0;32m   1258\u001B[0m \u001B[38;5;28;01mdef\u001B[39;00m \u001B[38;5;21m_get_label\u001B[39m(\u001B[38;5;28mself\u001B[39m, label, axis: \u001B[38;5;28mint\u001B[39m):\n\u001B[0;32m   1259\u001B[0m     \u001B[38;5;66;03m# GH#5567 this will fail if the label is not present in the axis.\u001B[39;00m\n\u001B[1;32m-> 1260\u001B[0m     \u001B[38;5;28;01mreturn\u001B[39;00m \u001B[38;5;28;43mself\u001B[39;49m\u001B[38;5;241;43m.\u001B[39;49m\u001B[43mobj\u001B[49m\u001B[38;5;241;43m.\u001B[39;49m\u001B[43mxs\u001B[49m\u001B[43m(\u001B[49m\u001B[43mlabel\u001B[49m\u001B[43m,\u001B[49m\u001B[43m \u001B[49m\u001B[43maxis\u001B[49m\u001B[38;5;241;43m=\u001B[39;49m\u001B[43maxis\u001B[49m\u001B[43m)\u001B[49m\n",
      "File \u001B[1;32m~\\anaconda3\\envs\\zerobase\\lib\\site-packages\\pandas\\core\\generic.py:4056\u001B[0m, in \u001B[0;36mNDFrame.xs\u001B[1;34m(self, key, axis, level, drop_level)\u001B[0m\n\u001B[0;32m   4054\u001B[0m             new_index \u001B[38;5;241m=\u001B[39m index[loc]\n\u001B[0;32m   4055\u001B[0m \u001B[38;5;28;01melse\u001B[39;00m:\n\u001B[1;32m-> 4056\u001B[0m     loc \u001B[38;5;241m=\u001B[39m \u001B[43mindex\u001B[49m\u001B[38;5;241;43m.\u001B[39;49m\u001B[43mget_loc\u001B[49m\u001B[43m(\u001B[49m\u001B[43mkey\u001B[49m\u001B[43m)\u001B[49m\n\u001B[0;32m   4058\u001B[0m     \u001B[38;5;28;01mif\u001B[39;00m \u001B[38;5;28misinstance\u001B[39m(loc, np\u001B[38;5;241m.\u001B[39mndarray):\n\u001B[0;32m   4059\u001B[0m         \u001B[38;5;28;01mif\u001B[39;00m loc\u001B[38;5;241m.\u001B[39mdtype \u001B[38;5;241m==\u001B[39m np\u001B[38;5;241m.\u001B[39mbool_:\n",
      "File \u001B[1;32m~\\anaconda3\\envs\\zerobase\\lib\\site-packages\\pandas\\core\\indexes\\datetimes.py:738\u001B[0m, in \u001B[0;36mDatetimeIndex.get_loc\u001B[1;34m(self, key, method, tolerance)\u001B[0m\n\u001B[0;32m    736\u001B[0m     \u001B[38;5;28;01mreturn\u001B[39;00m Index\u001B[38;5;241m.\u001B[39mget_loc(\u001B[38;5;28mself\u001B[39m, key, method, tolerance)\n\u001B[0;32m    737\u001B[0m \u001B[38;5;28;01mexcept\u001B[39;00m \u001B[38;5;167;01mKeyError\u001B[39;00m \u001B[38;5;28;01mas\u001B[39;00m err:\n\u001B[1;32m--> 738\u001B[0m     \u001B[38;5;28;01mraise\u001B[39;00m \u001B[38;5;167;01mKeyError\u001B[39;00m(orig_key) \u001B[38;5;28;01mfrom\u001B[39;00m \u001B[38;5;21;01merr\u001B[39;00m\n",
      "\u001B[1;31mKeyError\u001B[0m: '20130102'"
     ]
    }
   ],
   "source": [
    "df.loc[\"20130102\",[\"A\",\"B\"]]"
   ],
   "metadata": {
    "collapsed": false
   }
  },
  {
   "cell_type": "markdown",
   "source": [
    "- iloc 옵션을 이용해서 번호로만 접근 가능"
   ],
   "metadata": {
    "collapsed": false
   }
  },
  {
   "cell_type": "code",
   "execution_count": 27,
   "outputs": [
    {
     "data": {
      "text/plain": "A    0.693971\nB    0.465498\nC    0.677481\nD    0.631794\nName: 2013-01-04 00:00:00, dtype: float64"
     },
     "execution_count": 27,
     "metadata": {},
     "output_type": "execute_result"
    }
   ],
   "source": [
    "df.iloc[3]"
   ],
   "metadata": {
    "collapsed": false
   }
  },
  {
   "cell_type": "code",
   "execution_count": 28,
   "outputs": [
    {
     "data": {
      "text/plain": "                   A         B\n2013-01-04  0.693971  0.465498\n2013-01-05  0.386066  0.326953",
      "text/html": "<div>\n<style scoped>\n    .dataframe tbody tr th:only-of-type {\n        vertical-align: middle;\n    }\n\n    .dataframe tbody tr th {\n        vertical-align: top;\n    }\n\n    .dataframe thead th {\n        text-align: right;\n    }\n</style>\n<table border=\"1\" class=\"dataframe\">\n  <thead>\n    <tr style=\"text-align: right;\">\n      <th></th>\n      <th>A</th>\n      <th>B</th>\n    </tr>\n  </thead>\n  <tbody>\n    <tr>\n      <th>2013-01-04</th>\n      <td>0.693971</td>\n      <td>0.465498</td>\n    </tr>\n    <tr>\n      <th>2013-01-05</th>\n      <td>0.386066</td>\n      <td>0.326953</td>\n    </tr>\n  </tbody>\n</table>\n</div>"
     },
     "execution_count": 28,
     "metadata": {},
     "output_type": "execute_result"
    }
   ],
   "source": [
    "df.iloc[3:5,0:2]"
   ],
   "metadata": {
    "collapsed": false
   }
  },
  {
   "cell_type": "code",
   "execution_count": 29,
   "outputs": [
    {
     "data": {
      "text/plain": "                   A         C\n2013-01-02  0.788875  0.163100\n2013-01-03  0.341406  0.567052\n2013-01-05  0.386066  0.315759",
      "text/html": "<div>\n<style scoped>\n    .dataframe tbody tr th:only-of-type {\n        vertical-align: middle;\n    }\n\n    .dataframe tbody tr th {\n        vertical-align: top;\n    }\n\n    .dataframe thead th {\n        text-align: right;\n    }\n</style>\n<table border=\"1\" class=\"dataframe\">\n  <thead>\n    <tr style=\"text-align: right;\">\n      <th></th>\n      <th>A</th>\n      <th>C</th>\n    </tr>\n  </thead>\n  <tbody>\n    <tr>\n      <th>2013-01-02</th>\n      <td>0.788875</td>\n      <td>0.163100</td>\n    </tr>\n    <tr>\n      <th>2013-01-03</th>\n      <td>0.341406</td>\n      <td>0.567052</td>\n    </tr>\n    <tr>\n      <th>2013-01-05</th>\n      <td>0.386066</td>\n      <td>0.315759</td>\n    </tr>\n  </tbody>\n</table>\n</div>"
     },
     "execution_count": 29,
     "metadata": {},
     "output_type": "execute_result"
    }
   ],
   "source": [
    "df.iloc[[1,2,4],[0,2]]"
   ],
   "metadata": {
    "collapsed": false
   }
  },
  {
   "cell_type": "code",
   "execution_count": 30,
   "outputs": [
    {
     "data": {
      "text/plain": "                   B         C\n2013-01-01  0.783254  0.905939\n2013-01-02  0.782937  0.163100\n2013-01-03  0.841239  0.567052\n2013-01-04  0.465498  0.677481\n2013-01-05  0.326953  0.315759\n2013-01-06  0.741572  0.794622",
      "text/html": "<div>\n<style scoped>\n    .dataframe tbody tr th:only-of-type {\n        vertical-align: middle;\n    }\n\n    .dataframe tbody tr th {\n        vertical-align: top;\n    }\n\n    .dataframe thead th {\n        text-align: right;\n    }\n</style>\n<table border=\"1\" class=\"dataframe\">\n  <thead>\n    <tr style=\"text-align: right;\">\n      <th></th>\n      <th>B</th>\n      <th>C</th>\n    </tr>\n  </thead>\n  <tbody>\n    <tr>\n      <th>2013-01-01</th>\n      <td>0.783254</td>\n      <td>0.905939</td>\n    </tr>\n    <tr>\n      <th>2013-01-02</th>\n      <td>0.782937</td>\n      <td>0.163100</td>\n    </tr>\n    <tr>\n      <th>2013-01-03</th>\n      <td>0.841239</td>\n      <td>0.567052</td>\n    </tr>\n    <tr>\n      <th>2013-01-04</th>\n      <td>0.465498</td>\n      <td>0.677481</td>\n    </tr>\n    <tr>\n      <th>2013-01-05</th>\n      <td>0.326953</td>\n      <td>0.315759</td>\n    </tr>\n    <tr>\n      <th>2013-01-06</th>\n      <td>0.741572</td>\n      <td>0.794622</td>\n    </tr>\n  </tbody>\n</table>\n</div>"
     },
     "execution_count": 30,
     "metadata": {},
     "output_type": "execute_result"
    }
   ],
   "source": [
    "df.iloc[:,1:3]"
   ],
   "metadata": {
    "collapsed": false
   }
  },
  {
   "cell_type": "markdown",
   "source": [
    "- df[condition]과 같이 사용하는 것이 일반적"
   ],
   "metadata": {
    "collapsed": false
   }
  },
  {
   "cell_type": "markdown",
   "source": [
    "- pandas의 버전에 따라 조금씩 허용되는 문법이 다름"
   ],
   "metadata": {
    "collapsed": false
   }
  },
  {
   "cell_type": "markdown",
   "source": [
    "- pandas 버전확인 필수"
   ],
   "metadata": {
    "collapsed": false
   }
  },
  {
   "cell_type": "code",
   "execution_count": 31,
   "outputs": [
    {
     "data": {
      "text/plain": "                   A         B         C         D\n2013-01-01  0.750992  0.783254  0.905939  0.472040\n2013-01-02  0.788875  0.782937  0.163100  0.983259\n2013-01-03  0.341406  0.841239  0.567052  0.576276\n2013-01-04  0.693971  0.465498  0.677481  0.631794\n2013-01-05  0.386066  0.326953  0.315759  0.851632\n2013-01-06  0.326285  0.741572  0.794622  0.975488",
      "text/html": "<div>\n<style scoped>\n    .dataframe tbody tr th:only-of-type {\n        vertical-align: middle;\n    }\n\n    .dataframe tbody tr th {\n        vertical-align: top;\n    }\n\n    .dataframe thead th {\n        text-align: right;\n    }\n</style>\n<table border=\"1\" class=\"dataframe\">\n  <thead>\n    <tr style=\"text-align: right;\">\n      <th></th>\n      <th>A</th>\n      <th>B</th>\n      <th>C</th>\n      <th>D</th>\n    </tr>\n  </thead>\n  <tbody>\n    <tr>\n      <th>2013-01-01</th>\n      <td>0.750992</td>\n      <td>0.783254</td>\n      <td>0.905939</td>\n      <td>0.472040</td>\n    </tr>\n    <tr>\n      <th>2013-01-02</th>\n      <td>0.788875</td>\n      <td>0.782937</td>\n      <td>0.163100</td>\n      <td>0.983259</td>\n    </tr>\n    <tr>\n      <th>2013-01-03</th>\n      <td>0.341406</td>\n      <td>0.841239</td>\n      <td>0.567052</td>\n      <td>0.576276</td>\n    </tr>\n    <tr>\n      <th>2013-01-04</th>\n      <td>0.693971</td>\n      <td>0.465498</td>\n      <td>0.677481</td>\n      <td>0.631794</td>\n    </tr>\n    <tr>\n      <th>2013-01-05</th>\n      <td>0.386066</td>\n      <td>0.326953</td>\n      <td>0.315759</td>\n      <td>0.851632</td>\n    </tr>\n    <tr>\n      <th>2013-01-06</th>\n      <td>0.326285</td>\n      <td>0.741572</td>\n      <td>0.794622</td>\n      <td>0.975488</td>\n    </tr>\n  </tbody>\n</table>\n</div>"
     },
     "execution_count": 31,
     "metadata": {},
     "output_type": "execute_result"
    }
   ],
   "source": [
    "df"
   ],
   "metadata": {
    "collapsed": false
   }
  },
  {
   "cell_type": "code",
   "execution_count": 32,
   "outputs": [
    {
     "data": {
      "text/plain": "                   A         B         C         D\n2013-01-01  0.750992  0.783254  0.905939  0.472040\n2013-01-02  0.788875  0.782937  0.163100  0.983259\n2013-01-03  0.341406  0.841239  0.567052  0.576276\n2013-01-04  0.693971  0.465498  0.677481  0.631794\n2013-01-05  0.386066  0.326953  0.315759  0.851632\n2013-01-06  0.326285  0.741572  0.794622  0.975488",
      "text/html": "<div>\n<style scoped>\n    .dataframe tbody tr th:only-of-type {\n        vertical-align: middle;\n    }\n\n    .dataframe tbody tr th {\n        vertical-align: top;\n    }\n\n    .dataframe thead th {\n        text-align: right;\n    }\n</style>\n<table border=\"1\" class=\"dataframe\">\n  <thead>\n    <tr style=\"text-align: right;\">\n      <th></th>\n      <th>A</th>\n      <th>B</th>\n      <th>C</th>\n      <th>D</th>\n    </tr>\n  </thead>\n  <tbody>\n    <tr>\n      <th>2013-01-01</th>\n      <td>0.750992</td>\n      <td>0.783254</td>\n      <td>0.905939</td>\n      <td>0.472040</td>\n    </tr>\n    <tr>\n      <th>2013-01-02</th>\n      <td>0.788875</td>\n      <td>0.782937</td>\n      <td>0.163100</td>\n      <td>0.983259</td>\n    </tr>\n    <tr>\n      <th>2013-01-03</th>\n      <td>0.341406</td>\n      <td>0.841239</td>\n      <td>0.567052</td>\n      <td>0.576276</td>\n    </tr>\n    <tr>\n      <th>2013-01-04</th>\n      <td>0.693971</td>\n      <td>0.465498</td>\n      <td>0.677481</td>\n      <td>0.631794</td>\n    </tr>\n    <tr>\n      <th>2013-01-05</th>\n      <td>0.386066</td>\n      <td>0.326953</td>\n      <td>0.315759</td>\n      <td>0.851632</td>\n    </tr>\n    <tr>\n      <th>2013-01-06</th>\n      <td>0.326285</td>\n      <td>0.741572</td>\n      <td>0.794622</td>\n      <td>0.975488</td>\n    </tr>\n  </tbody>\n</table>\n</div>"
     },
     "execution_count": 32,
     "metadata": {},
     "output_type": "execute_result"
    }
   ],
   "source": [
    "df[df[\"A\"]>0]"
   ],
   "metadata": {
    "collapsed": false
   }
  },
  {
   "cell_type": "code",
   "execution_count": 33,
   "outputs": [
    {
     "data": {
      "text/plain": "                   A         B         C         D\n2013-01-01  0.750992  0.783254  0.905939  0.472040\n2013-01-02  0.788875  0.782937  0.163100  0.983259\n2013-01-03  0.341406  0.841239  0.567052  0.576276\n2013-01-04  0.693971  0.465498  0.677481  0.631794\n2013-01-05  0.386066  0.326953  0.315759  0.851632\n2013-01-06  0.326285  0.741572  0.794622  0.975488",
      "text/html": "<div>\n<style scoped>\n    .dataframe tbody tr th:only-of-type {\n        vertical-align: middle;\n    }\n\n    .dataframe tbody tr th {\n        vertical-align: top;\n    }\n\n    .dataframe thead th {\n        text-align: right;\n    }\n</style>\n<table border=\"1\" class=\"dataframe\">\n  <thead>\n    <tr style=\"text-align: right;\">\n      <th></th>\n      <th>A</th>\n      <th>B</th>\n      <th>C</th>\n      <th>D</th>\n    </tr>\n  </thead>\n  <tbody>\n    <tr>\n      <th>2013-01-01</th>\n      <td>0.750992</td>\n      <td>0.783254</td>\n      <td>0.905939</td>\n      <td>0.472040</td>\n    </tr>\n    <tr>\n      <th>2013-01-02</th>\n      <td>0.788875</td>\n      <td>0.782937</td>\n      <td>0.163100</td>\n      <td>0.983259</td>\n    </tr>\n    <tr>\n      <th>2013-01-03</th>\n      <td>0.341406</td>\n      <td>0.841239</td>\n      <td>0.567052</td>\n      <td>0.576276</td>\n    </tr>\n    <tr>\n      <th>2013-01-04</th>\n      <td>0.693971</td>\n      <td>0.465498</td>\n      <td>0.677481</td>\n      <td>0.631794</td>\n    </tr>\n    <tr>\n      <th>2013-01-05</th>\n      <td>0.386066</td>\n      <td>0.326953</td>\n      <td>0.315759</td>\n      <td>0.851632</td>\n    </tr>\n    <tr>\n      <th>2013-01-06</th>\n      <td>0.326285</td>\n      <td>0.741572</td>\n      <td>0.794622</td>\n      <td>0.975488</td>\n    </tr>\n  </tbody>\n</table>\n</div>"
     },
     "execution_count": 33,
     "metadata": {},
     "output_type": "execute_result"
    }
   ],
   "source": [
    "df[df>0]"
   ],
   "metadata": {
    "collapsed": false
   }
  },
  {
   "cell_type": "code",
   "execution_count": 34,
   "outputs": [
    {
     "data": {
      "text/plain": "                   A         B         C         D      E\n2013-01-01  0.750992  0.783254  0.905939  0.472040    one\n2013-01-02  0.788875  0.782937  0.163100  0.983259    one\n2013-01-03  0.341406  0.841239  0.567052  0.576276    two\n2013-01-04  0.693971  0.465498  0.677481  0.631794  three\n2013-01-05  0.386066  0.326953  0.315759  0.851632   four\n2013-01-06  0.326285  0.741572  0.794622  0.975488  three",
      "text/html": "<div>\n<style scoped>\n    .dataframe tbody tr th:only-of-type {\n        vertical-align: middle;\n    }\n\n    .dataframe tbody tr th {\n        vertical-align: top;\n    }\n\n    .dataframe thead th {\n        text-align: right;\n    }\n</style>\n<table border=\"1\" class=\"dataframe\">\n  <thead>\n    <tr style=\"text-align: right;\">\n      <th></th>\n      <th>A</th>\n      <th>B</th>\n      <th>C</th>\n      <th>D</th>\n      <th>E</th>\n    </tr>\n  </thead>\n  <tbody>\n    <tr>\n      <th>2013-01-01</th>\n      <td>0.750992</td>\n      <td>0.783254</td>\n      <td>0.905939</td>\n      <td>0.472040</td>\n      <td>one</td>\n    </tr>\n    <tr>\n      <th>2013-01-02</th>\n      <td>0.788875</td>\n      <td>0.782937</td>\n      <td>0.163100</td>\n      <td>0.983259</td>\n      <td>one</td>\n    </tr>\n    <tr>\n      <th>2013-01-03</th>\n      <td>0.341406</td>\n      <td>0.841239</td>\n      <td>0.567052</td>\n      <td>0.576276</td>\n      <td>two</td>\n    </tr>\n    <tr>\n      <th>2013-01-04</th>\n      <td>0.693971</td>\n      <td>0.465498</td>\n      <td>0.677481</td>\n      <td>0.631794</td>\n      <td>three</td>\n    </tr>\n    <tr>\n      <th>2013-01-05</th>\n      <td>0.386066</td>\n      <td>0.326953</td>\n      <td>0.315759</td>\n      <td>0.851632</td>\n      <td>four</td>\n    </tr>\n    <tr>\n      <th>2013-01-06</th>\n      <td>0.326285</td>\n      <td>0.741572</td>\n      <td>0.794622</td>\n      <td>0.975488</td>\n      <td>three</td>\n    </tr>\n  </tbody>\n</table>\n</div>"
     },
     "execution_count": 34,
     "metadata": {},
     "output_type": "execute_result"
    }
   ],
   "source": [
    "df[\"E\"] = [\"one\",\"one\",\"two\",\"three\",\"four\",\"three\"]\n",
    "df"
   ],
   "metadata": {
    "collapsed": false
   }
  },
  {
   "cell_type": "markdown",
   "source": [
    "- 특정 요소가 있는지 확인"
   ],
   "metadata": {
    "collapsed": false
   }
  },
  {
   "cell_type": "code",
   "execution_count": 35,
   "outputs": [
    {
     "data": {
      "text/plain": "2013-01-01    False\n2013-01-02    False\n2013-01-03     True\n2013-01-04    False\n2013-01-05     True\n2013-01-06    False\nFreq: D, Name: E, dtype: bool"
     },
     "execution_count": 35,
     "metadata": {},
     "output_type": "execute_result"
    }
   ],
   "source": [
    "df[\"E\"].isin([\"two\",\"four\"])"
   ],
   "metadata": {
    "collapsed": false
   }
  },
  {
   "cell_type": "markdown",
   "source": [
    "- 특정 요소가 있는 행만 선택"
   ],
   "metadata": {
    "collapsed": false
   }
  },
  {
   "cell_type": "code",
   "execution_count": 36,
   "outputs": [
    {
     "data": {
      "text/plain": "                   A         B         C         D     E\n2013-01-03  0.341406  0.841239  0.567052  0.576276   two\n2013-01-05  0.386066  0.326953  0.315759  0.851632  four",
      "text/html": "<div>\n<style scoped>\n    .dataframe tbody tr th:only-of-type {\n        vertical-align: middle;\n    }\n\n    .dataframe tbody tr th {\n        vertical-align: top;\n    }\n\n    .dataframe thead th {\n        text-align: right;\n    }\n</style>\n<table border=\"1\" class=\"dataframe\">\n  <thead>\n    <tr style=\"text-align: right;\">\n      <th></th>\n      <th>A</th>\n      <th>B</th>\n      <th>C</th>\n      <th>D</th>\n      <th>E</th>\n    </tr>\n  </thead>\n  <tbody>\n    <tr>\n      <th>2013-01-03</th>\n      <td>0.341406</td>\n      <td>0.841239</td>\n      <td>0.567052</td>\n      <td>0.576276</td>\n      <td>two</td>\n    </tr>\n    <tr>\n      <th>2013-01-05</th>\n      <td>0.386066</td>\n      <td>0.326953</td>\n      <td>0.315759</td>\n      <td>0.851632</td>\n      <td>four</td>\n    </tr>\n  </tbody>\n</table>\n</div>"
     },
     "execution_count": 36,
     "metadata": {},
     "output_type": "execute_result"
    }
   ],
   "source": [
    "df[df[\"E\"].isin([\"two\",\"four\"])]"
   ],
   "metadata": {
    "collapsed": false
   }
  },
  {
   "cell_type": "code",
   "execution_count": 37,
   "outputs": [
    {
     "data": {
      "text/plain": "                   A         B         C         D      E\n2013-01-01  0.750992  0.783254  0.905939  0.472040    one\n2013-01-02  0.788875  0.782937  0.163100  0.983259    one\n2013-01-03  0.341406  0.841239  0.567052  0.576276    two\n2013-01-04  0.693971  0.465498  0.677481  0.631794  three\n2013-01-05  0.386066  0.326953  0.315759  0.851632   four\n2013-01-06  0.326285  0.741572  0.794622  0.975488  three",
      "text/html": "<div>\n<style scoped>\n    .dataframe tbody tr th:only-of-type {\n        vertical-align: middle;\n    }\n\n    .dataframe tbody tr th {\n        vertical-align: top;\n    }\n\n    .dataframe thead th {\n        text-align: right;\n    }\n</style>\n<table border=\"1\" class=\"dataframe\">\n  <thead>\n    <tr style=\"text-align: right;\">\n      <th></th>\n      <th>A</th>\n      <th>B</th>\n      <th>C</th>\n      <th>D</th>\n      <th>E</th>\n    </tr>\n  </thead>\n  <tbody>\n    <tr>\n      <th>2013-01-01</th>\n      <td>0.750992</td>\n      <td>0.783254</td>\n      <td>0.905939</td>\n      <td>0.472040</td>\n      <td>one</td>\n    </tr>\n    <tr>\n      <th>2013-01-02</th>\n      <td>0.788875</td>\n      <td>0.782937</td>\n      <td>0.163100</td>\n      <td>0.983259</td>\n      <td>one</td>\n    </tr>\n    <tr>\n      <th>2013-01-03</th>\n      <td>0.341406</td>\n      <td>0.841239</td>\n      <td>0.567052</td>\n      <td>0.576276</td>\n      <td>two</td>\n    </tr>\n    <tr>\n      <th>2013-01-04</th>\n      <td>0.693971</td>\n      <td>0.465498</td>\n      <td>0.677481</td>\n      <td>0.631794</td>\n      <td>three</td>\n    </tr>\n    <tr>\n      <th>2013-01-05</th>\n      <td>0.386066</td>\n      <td>0.326953</td>\n      <td>0.315759</td>\n      <td>0.851632</td>\n      <td>four</td>\n    </tr>\n    <tr>\n      <th>2013-01-06</th>\n      <td>0.326285</td>\n      <td>0.741572</td>\n      <td>0.794622</td>\n      <td>0.975488</td>\n      <td>three</td>\n    </tr>\n  </tbody>\n</table>\n</div>"
     },
     "execution_count": 37,
     "metadata": {},
     "output_type": "execute_result"
    }
   ],
   "source": [
    "df"
   ],
   "metadata": {
    "collapsed": false
   }
  },
  {
   "cell_type": "markdown",
   "source": [
    "- 특정 컬럼 제거"
   ],
   "metadata": {
    "collapsed": false
   }
  },
  {
   "cell_type": "code",
   "execution_count": 38,
   "outputs": [
    {
     "data": {
      "text/plain": "                   A         B         C         D\n2013-01-01  0.750992  0.783254  0.905939  0.472040\n2013-01-02  0.788875  0.782937  0.163100  0.983259\n2013-01-03  0.341406  0.841239  0.567052  0.576276\n2013-01-04  0.693971  0.465498  0.677481  0.631794\n2013-01-05  0.386066  0.326953  0.315759  0.851632\n2013-01-06  0.326285  0.741572  0.794622  0.975488",
      "text/html": "<div>\n<style scoped>\n    .dataframe tbody tr th:only-of-type {\n        vertical-align: middle;\n    }\n\n    .dataframe tbody tr th {\n        vertical-align: top;\n    }\n\n    .dataframe thead th {\n        text-align: right;\n    }\n</style>\n<table border=\"1\" class=\"dataframe\">\n  <thead>\n    <tr style=\"text-align: right;\">\n      <th></th>\n      <th>A</th>\n      <th>B</th>\n      <th>C</th>\n      <th>D</th>\n    </tr>\n  </thead>\n  <tbody>\n    <tr>\n      <th>2013-01-01</th>\n      <td>0.750992</td>\n      <td>0.783254</td>\n      <td>0.905939</td>\n      <td>0.472040</td>\n    </tr>\n    <tr>\n      <th>2013-01-02</th>\n      <td>0.788875</td>\n      <td>0.782937</td>\n      <td>0.163100</td>\n      <td>0.983259</td>\n    </tr>\n    <tr>\n      <th>2013-01-03</th>\n      <td>0.341406</td>\n      <td>0.841239</td>\n      <td>0.567052</td>\n      <td>0.576276</td>\n    </tr>\n    <tr>\n      <th>2013-01-04</th>\n      <td>0.693971</td>\n      <td>0.465498</td>\n      <td>0.677481</td>\n      <td>0.631794</td>\n    </tr>\n    <tr>\n      <th>2013-01-05</th>\n      <td>0.386066</td>\n      <td>0.326953</td>\n      <td>0.315759</td>\n      <td>0.851632</td>\n    </tr>\n    <tr>\n      <th>2013-01-06</th>\n      <td>0.326285</td>\n      <td>0.741572</td>\n      <td>0.794622</td>\n      <td>0.975488</td>\n    </tr>\n  </tbody>\n</table>\n</div>"
     },
     "execution_count": 38,
     "metadata": {},
     "output_type": "execute_result"
    }
   ],
   "source": [
    "del df[\"E\"]\n",
    "df"
   ],
   "metadata": {
    "collapsed": false
   }
  },
  {
   "cell_type": "markdown",
   "source": [
    "- 각 컬럼 누적합 함수를 적용"
   ],
   "metadata": {
    "collapsed": false
   }
  },
  {
   "cell_type": "code",
   "execution_count": 39,
   "outputs": [
    {
     "data": {
      "text/plain": "                   A         B         C         D\n2013-01-01  0.750992  0.783254  0.905939  0.472040\n2013-01-02  1.539868  1.566191  1.069039  1.455299\n2013-01-03  1.881274  2.407430  1.636091  2.031575\n2013-01-04  2.575246  2.872928  2.313572  2.663369\n2013-01-05  2.961311  3.199881  2.629330  3.515002\n2013-01-06  3.287597  3.941453  3.423952  4.490490",
      "text/html": "<div>\n<style scoped>\n    .dataframe tbody tr th:only-of-type {\n        vertical-align: middle;\n    }\n\n    .dataframe tbody tr th {\n        vertical-align: top;\n    }\n\n    .dataframe thead th {\n        text-align: right;\n    }\n</style>\n<table border=\"1\" class=\"dataframe\">\n  <thead>\n    <tr style=\"text-align: right;\">\n      <th></th>\n      <th>A</th>\n      <th>B</th>\n      <th>C</th>\n      <th>D</th>\n    </tr>\n  </thead>\n  <tbody>\n    <tr>\n      <th>2013-01-01</th>\n      <td>0.750992</td>\n      <td>0.783254</td>\n      <td>0.905939</td>\n      <td>0.472040</td>\n    </tr>\n    <tr>\n      <th>2013-01-02</th>\n      <td>1.539868</td>\n      <td>1.566191</td>\n      <td>1.069039</td>\n      <td>1.455299</td>\n    </tr>\n    <tr>\n      <th>2013-01-03</th>\n      <td>1.881274</td>\n      <td>2.407430</td>\n      <td>1.636091</td>\n      <td>2.031575</td>\n    </tr>\n    <tr>\n      <th>2013-01-04</th>\n      <td>2.575246</td>\n      <td>2.872928</td>\n      <td>2.313572</td>\n      <td>2.663369</td>\n    </tr>\n    <tr>\n      <th>2013-01-05</th>\n      <td>2.961311</td>\n      <td>3.199881</td>\n      <td>2.629330</td>\n      <td>3.515002</td>\n    </tr>\n    <tr>\n      <th>2013-01-06</th>\n      <td>3.287597</td>\n      <td>3.941453</td>\n      <td>3.423952</td>\n      <td>4.490490</td>\n    </tr>\n  </tbody>\n</table>\n</div>"
     },
     "execution_count": 39,
     "metadata": {},
     "output_type": "execute_result"
    }
   ],
   "source": [
    "df.apply(np.cumsum)"
   ],
   "metadata": {
    "collapsed": false
   }
  },
  {
   "cell_type": "markdown",
   "source": [
    "### 5. CCTV 데이터 훑어보기"
   ],
   "metadata": {
    "collapsed": false
   }
  },
  {
   "cell_type": "markdown",
   "source": [
    "- CCTV 앞부분 데이터 확인"
   ],
   "metadata": {
    "collapsed": false
   }
  },
  {
   "cell_type": "code",
   "execution_count": 40,
   "outputs": [
    {
     "data": {
      "text/plain": "    구별    소계  2013년도 이전  2014년  2015년  2016년\n0  강남구  3238       1292    430    584    932\n1  강동구  1010        379     99    155    377\n2  강북구   831        369    120    138    204\n3  강서구   911        388    258    184     81\n4  관악구  2109        846    260    390    613",
      "text/html": "<div>\n<style scoped>\n    .dataframe tbody tr th:only-of-type {\n        vertical-align: middle;\n    }\n\n    .dataframe tbody tr th {\n        vertical-align: top;\n    }\n\n    .dataframe thead th {\n        text-align: right;\n    }\n</style>\n<table border=\"1\" class=\"dataframe\">\n  <thead>\n    <tr style=\"text-align: right;\">\n      <th></th>\n      <th>구별</th>\n      <th>소계</th>\n      <th>2013년도 이전</th>\n      <th>2014년</th>\n      <th>2015년</th>\n      <th>2016년</th>\n    </tr>\n  </thead>\n  <tbody>\n    <tr>\n      <th>0</th>\n      <td>강남구</td>\n      <td>3238</td>\n      <td>1292</td>\n      <td>430</td>\n      <td>584</td>\n      <td>932</td>\n    </tr>\n    <tr>\n      <th>1</th>\n      <td>강동구</td>\n      <td>1010</td>\n      <td>379</td>\n      <td>99</td>\n      <td>155</td>\n      <td>377</td>\n    </tr>\n    <tr>\n      <th>2</th>\n      <td>강북구</td>\n      <td>831</td>\n      <td>369</td>\n      <td>120</td>\n      <td>138</td>\n      <td>204</td>\n    </tr>\n    <tr>\n      <th>3</th>\n      <td>강서구</td>\n      <td>911</td>\n      <td>388</td>\n      <td>258</td>\n      <td>184</td>\n      <td>81</td>\n    </tr>\n    <tr>\n      <th>4</th>\n      <td>관악구</td>\n      <td>2109</td>\n      <td>846</td>\n      <td>260</td>\n      <td>390</td>\n      <td>613</td>\n    </tr>\n  </tbody>\n</table>\n</div>"
     },
     "execution_count": 40,
     "metadata": {},
     "output_type": "execute_result"
    }
   ],
   "source": [
    "CCTV_Seoul.head()"
   ],
   "metadata": {
    "collapsed": false
   }
  },
  {
   "cell_type": "markdown",
   "source": [
    "- CCTV를 가장 적게 보유한 구"
   ],
   "metadata": {
    "collapsed": false
   }
  },
  {
   "cell_type": "code",
   "execution_count": 41,
   "outputs": [
    {
     "data": {
      "text/plain": "     구별   소계  2013년도 이전  2014년  2015년  2016년\n9   도봉구  825        238    159     42    386\n2   강북구  831        369    120    138    204\n5   광진구  878        573     78     53    174\n3   강서구  911        388    258    184     81\n24  중랑구  916        509    121    177    109",
      "text/html": "<div>\n<style scoped>\n    .dataframe tbody tr th:only-of-type {\n        vertical-align: middle;\n    }\n\n    .dataframe tbody tr th {\n        vertical-align: top;\n    }\n\n    .dataframe thead th {\n        text-align: right;\n    }\n</style>\n<table border=\"1\" class=\"dataframe\">\n  <thead>\n    <tr style=\"text-align: right;\">\n      <th></th>\n      <th>구별</th>\n      <th>소계</th>\n      <th>2013년도 이전</th>\n      <th>2014년</th>\n      <th>2015년</th>\n      <th>2016년</th>\n    </tr>\n  </thead>\n  <tbody>\n    <tr>\n      <th>9</th>\n      <td>도봉구</td>\n      <td>825</td>\n      <td>238</td>\n      <td>159</td>\n      <td>42</td>\n      <td>386</td>\n    </tr>\n    <tr>\n      <th>2</th>\n      <td>강북구</td>\n      <td>831</td>\n      <td>369</td>\n      <td>120</td>\n      <td>138</td>\n      <td>204</td>\n    </tr>\n    <tr>\n      <th>5</th>\n      <td>광진구</td>\n      <td>878</td>\n      <td>573</td>\n      <td>78</td>\n      <td>53</td>\n      <td>174</td>\n    </tr>\n    <tr>\n      <th>3</th>\n      <td>강서구</td>\n      <td>911</td>\n      <td>388</td>\n      <td>258</td>\n      <td>184</td>\n      <td>81</td>\n    </tr>\n    <tr>\n      <th>24</th>\n      <td>중랑구</td>\n      <td>916</td>\n      <td>509</td>\n      <td>121</td>\n      <td>177</td>\n      <td>109</td>\n    </tr>\n  </tbody>\n</table>\n</div>"
     },
     "execution_count": 41,
     "metadata": {},
     "output_type": "execute_result"
    }
   ],
   "source": [
    "CCTV_Seoul.sort_values(by=\"소계\",ascending=True).head(5)"
   ],
   "metadata": {
    "collapsed": false
   }
  },
  {
   "cell_type": "markdown",
   "source": [
    "- CCTV를 가장 많이 보유한 구"
   ],
   "metadata": {
    "collapsed": false
   }
  },
  {
   "cell_type": "code",
   "execution_count": 42,
   "outputs": [
    {
     "data": {
      "text/plain": "     구별    소계  2013년도 이전  2014년  2015년  2016년\n0   강남구  3238       1292    430    584    932\n18  양천구  2482       1843    142     30    467\n14  서초구  2297       1406    157    336    398\n4   관악구  2109        846    260    390    613\n21  은평구  2108       1138    224    278    468",
      "text/html": "<div>\n<style scoped>\n    .dataframe tbody tr th:only-of-type {\n        vertical-align: middle;\n    }\n\n    .dataframe tbody tr th {\n        vertical-align: top;\n    }\n\n    .dataframe thead th {\n        text-align: right;\n    }\n</style>\n<table border=\"1\" class=\"dataframe\">\n  <thead>\n    <tr style=\"text-align: right;\">\n      <th></th>\n      <th>구별</th>\n      <th>소계</th>\n      <th>2013년도 이전</th>\n      <th>2014년</th>\n      <th>2015년</th>\n      <th>2016년</th>\n    </tr>\n  </thead>\n  <tbody>\n    <tr>\n      <th>0</th>\n      <td>강남구</td>\n      <td>3238</td>\n      <td>1292</td>\n      <td>430</td>\n      <td>584</td>\n      <td>932</td>\n    </tr>\n    <tr>\n      <th>18</th>\n      <td>양천구</td>\n      <td>2482</td>\n      <td>1843</td>\n      <td>142</td>\n      <td>30</td>\n      <td>467</td>\n    </tr>\n    <tr>\n      <th>14</th>\n      <td>서초구</td>\n      <td>2297</td>\n      <td>1406</td>\n      <td>157</td>\n      <td>336</td>\n      <td>398</td>\n    </tr>\n    <tr>\n      <th>4</th>\n      <td>관악구</td>\n      <td>2109</td>\n      <td>846</td>\n      <td>260</td>\n      <td>390</td>\n      <td>613</td>\n    </tr>\n    <tr>\n      <th>21</th>\n      <td>은평구</td>\n      <td>2108</td>\n      <td>1138</td>\n      <td>224</td>\n      <td>278</td>\n      <td>468</td>\n    </tr>\n  </tbody>\n</table>\n</div>"
     },
     "execution_count": 42,
     "metadata": {},
     "output_type": "execute_result"
    }
   ],
   "source": [
    "CCTV_Seoul.sort_values(by=\"소계\",ascending=False).head(5)"
   ],
   "metadata": {
    "collapsed": false
   }
  },
  {
   "cell_type": "markdown",
   "source": [
    "- 최근 3년간 그 전 보유한 CCTV 개수 대비 CCTV를 많이 설치간 구는 어디인가?"
   ],
   "metadata": {
    "collapsed": false
   }
  },
  {
   "cell_type": "code",
   "execution_count": 43,
   "outputs": [
    {
     "data": {
      "text/plain": "     구별    소계  2013년도 이전  2014년  2015년  2016년       최근증가율\n22  종로구  1619        464    314    211    630  248.922414\n9   도봉구   825        238    159     42    386  246.638655\n12  마포구   980        314    118    169    379  212.101911\n8   노원구  1566        542     57    451    516  188.929889\n1   강동구  1010        379     99    155    377  166.490765",
      "text/html": "<div>\n<style scoped>\n    .dataframe tbody tr th:only-of-type {\n        vertical-align: middle;\n    }\n\n    .dataframe tbody tr th {\n        vertical-align: top;\n    }\n\n    .dataframe thead th {\n        text-align: right;\n    }\n</style>\n<table border=\"1\" class=\"dataframe\">\n  <thead>\n    <tr style=\"text-align: right;\">\n      <th></th>\n      <th>구별</th>\n      <th>소계</th>\n      <th>2013년도 이전</th>\n      <th>2014년</th>\n      <th>2015년</th>\n      <th>2016년</th>\n      <th>최근증가율</th>\n    </tr>\n  </thead>\n  <tbody>\n    <tr>\n      <th>22</th>\n      <td>종로구</td>\n      <td>1619</td>\n      <td>464</td>\n      <td>314</td>\n      <td>211</td>\n      <td>630</td>\n      <td>248.922414</td>\n    </tr>\n    <tr>\n      <th>9</th>\n      <td>도봉구</td>\n      <td>825</td>\n      <td>238</td>\n      <td>159</td>\n      <td>42</td>\n      <td>386</td>\n      <td>246.638655</td>\n    </tr>\n    <tr>\n      <th>12</th>\n      <td>마포구</td>\n      <td>980</td>\n      <td>314</td>\n      <td>118</td>\n      <td>169</td>\n      <td>379</td>\n      <td>212.101911</td>\n    </tr>\n    <tr>\n      <th>8</th>\n      <td>노원구</td>\n      <td>1566</td>\n      <td>542</td>\n      <td>57</td>\n      <td>451</td>\n      <td>516</td>\n      <td>188.929889</td>\n    </tr>\n    <tr>\n      <th>1</th>\n      <td>강동구</td>\n      <td>1010</td>\n      <td>379</td>\n      <td>99</td>\n      <td>155</td>\n      <td>377</td>\n      <td>166.490765</td>\n    </tr>\n  </tbody>\n</table>\n</div>"
     },
     "execution_count": 43,
     "metadata": {},
     "output_type": "execute_result"
    }
   ],
   "source": [
    "CCTV_Seoul[\"최근증가율\"]=(\n",
    "    (CCTV_Seoul[\"2016년\"]+CCTV_Seoul[\"2015년\"]+CCTV_Seoul[\"2014년\"])\n",
    "    /CCTV_Seoul[\"2013년도 이전\"]\n",
    "    * 100\n",
    ")\n",
    "CCTV_Seoul.sort_values(by=\"최근증가율\", ascending=False).head(5)"
   ],
   "metadata": {
    "collapsed": false
   }
  },
  {
   "cell_type": "markdown",
   "source": [
    "## 6. 인구현황 데이터 훑어보기"
   ],
   "metadata": {
    "collapsed": false
   }
  },
  {
   "cell_type": "markdown",
   "source": [
    "- 서울시 인구 데이터 확인"
   ],
   "metadata": {
    "collapsed": false
   }
  },
  {
   "cell_type": "code",
   "execution_count": 44,
   "outputs": [
    {
     "data": {
      "text/plain": "    구별       인구수      한국인     외국인      고령자\n0   합계  10124579  9857426  267153  1365126\n1  종로구    164257   154770    9487    26182\n2   중구    134593   125709    8884    21384\n3  용산구    244444   229161   15283    36882\n4  성동구    312711   304808    7903    41273",
      "text/html": "<div>\n<style scoped>\n    .dataframe tbody tr th:only-of-type {\n        vertical-align: middle;\n    }\n\n    .dataframe tbody tr th {\n        vertical-align: top;\n    }\n\n    .dataframe thead th {\n        text-align: right;\n    }\n</style>\n<table border=\"1\" class=\"dataframe\">\n  <thead>\n    <tr style=\"text-align: right;\">\n      <th></th>\n      <th>구별</th>\n      <th>인구수</th>\n      <th>한국인</th>\n      <th>외국인</th>\n      <th>고령자</th>\n    </tr>\n  </thead>\n  <tbody>\n    <tr>\n      <th>0</th>\n      <td>합계</td>\n      <td>10124579</td>\n      <td>9857426</td>\n      <td>267153</td>\n      <td>1365126</td>\n    </tr>\n    <tr>\n      <th>1</th>\n      <td>종로구</td>\n      <td>164257</td>\n      <td>154770</td>\n      <td>9487</td>\n      <td>26182</td>\n    </tr>\n    <tr>\n      <th>2</th>\n      <td>중구</td>\n      <td>134593</td>\n      <td>125709</td>\n      <td>8884</td>\n      <td>21384</td>\n    </tr>\n    <tr>\n      <th>3</th>\n      <td>용산구</td>\n      <td>244444</td>\n      <td>229161</td>\n      <td>15283</td>\n      <td>36882</td>\n    </tr>\n    <tr>\n      <th>4</th>\n      <td>성동구</td>\n      <td>312711</td>\n      <td>304808</td>\n      <td>7903</td>\n      <td>41273</td>\n    </tr>\n  </tbody>\n</table>\n</div>"
     },
     "execution_count": 44,
     "metadata": {},
     "output_type": "execute_result"
    }
   ],
   "source": [
    "pop_Seoul.head()"
   ],
   "metadata": {
    "collapsed": false
   }
  },
  {
   "cell_type": "markdown",
   "source": [
    "- 첫 행(0번)의 합계 데이터는 필요 없다"
   ],
   "metadata": {
    "collapsed": false
   }
  },
  {
   "cell_type": "markdown",
   "source": [
    "- 행을 지우는 명령어 -> Drop"
   ],
   "metadata": {
    "collapsed": false
   }
  },
  {
   "cell_type": "code",
   "execution_count": 45,
   "outputs": [
    {
     "data": {
      "text/plain": "    구별     인구수     한국인    외국인    고령자\n1  종로구  164257  154770   9487  26182\n2   중구  134593  125709   8884  21384\n3  용산구  244444  229161  15283  36882\n4  성동구  312711  304808   7903  41273\n5  광진구  372298  357703  14595  43953",
      "text/html": "<div>\n<style scoped>\n    .dataframe tbody tr th:only-of-type {\n        vertical-align: middle;\n    }\n\n    .dataframe tbody tr th {\n        vertical-align: top;\n    }\n\n    .dataframe thead th {\n        text-align: right;\n    }\n</style>\n<table border=\"1\" class=\"dataframe\">\n  <thead>\n    <tr style=\"text-align: right;\">\n      <th></th>\n      <th>구별</th>\n      <th>인구수</th>\n      <th>한국인</th>\n      <th>외국인</th>\n      <th>고령자</th>\n    </tr>\n  </thead>\n  <tbody>\n    <tr>\n      <th>1</th>\n      <td>종로구</td>\n      <td>164257</td>\n      <td>154770</td>\n      <td>9487</td>\n      <td>26182</td>\n    </tr>\n    <tr>\n      <th>2</th>\n      <td>중구</td>\n      <td>134593</td>\n      <td>125709</td>\n      <td>8884</td>\n      <td>21384</td>\n    </tr>\n    <tr>\n      <th>3</th>\n      <td>용산구</td>\n      <td>244444</td>\n      <td>229161</td>\n      <td>15283</td>\n      <td>36882</td>\n    </tr>\n    <tr>\n      <th>4</th>\n      <td>성동구</td>\n      <td>312711</td>\n      <td>304808</td>\n      <td>7903</td>\n      <td>41273</td>\n    </tr>\n    <tr>\n      <th>5</th>\n      <td>광진구</td>\n      <td>372298</td>\n      <td>357703</td>\n      <td>14595</td>\n      <td>43953</td>\n    </tr>\n  </tbody>\n</table>\n</div>"
     },
     "execution_count": 45,
     "metadata": {},
     "output_type": "execute_result"
    }
   ],
   "source": [
    "pop_Seoul.drop([0],inplace=True)\n",
    "pop_Seoul.head()"
   ],
   "metadata": {
    "collapsed": false
   }
  },
  {
   "cell_type": "markdown",
   "source": [
    "- unique 조사"
   ],
   "metadata": {
    "collapsed": false
   }
  },
  {
   "cell_type": "markdown",
   "source": [
    "- 현재는 양이 적지만, 데이터가 많아지면 unique 조사를 통해 데이터를 초반 검증한다."
   ],
   "metadata": {
    "collapsed": false
   }
  },
  {
   "cell_type": "code",
   "execution_count": 46,
   "outputs": [
    {
     "data": {
      "text/plain": "array(['종로구', '중구', '용산구', '성동구', '광진구', '동대문구', '중랑구', '성북구', '강북구',\n       '도봉구', '노원구', '은평구', '서대문구', '마포구', '양천구', '강서구', '구로구', '금천구',\n       '영등포구', '동작구', '관악구', '서초구', '강남구', '송파구', '강동구'], dtype=object)"
     },
     "execution_count": 46,
     "metadata": {},
     "output_type": "execute_result"
    }
   ],
   "source": [
    "pop_Seoul[\"구별\"].unique()"
   ],
   "metadata": {
    "collapsed": false
   }
  },
  {
   "cell_type": "code",
   "execution_count": 47,
   "outputs": [
    {
     "data": {
      "text/plain": "25"
     },
     "execution_count": 47,
     "metadata": {},
     "output_type": "execute_result"
    }
   ],
   "source": [
    "len(pop_Seoul[\"구별\"].unique())"
   ],
   "metadata": {
    "collapsed": false
   }
  },
  {
   "cell_type": "markdown",
   "source": [
    "- 외국인 비율과 고령자 비율을 만들어 놓음"
   ],
   "metadata": {
    "collapsed": false
   }
  },
  {
   "cell_type": "markdown",
   "source": [
    "- 데이터가 25개인데 한줄로 의도한 바를 이룸"
   ],
   "metadata": {
    "collapsed": false
   }
  },
  {
   "cell_type": "markdown",
   "source": [
    "- 컬럼 연산이 편하다는 것이 python 장점"
   ],
   "metadata": {
    "collapsed": false
   }
  },
  {
   "cell_type": "code",
   "execution_count": 48,
   "outputs": [
    {
     "data": {
      "text/plain": "    구별     인구수     한국인    외국인    고령자     외국인비율      고령자비율\n1  종로구  164257  154770   9487  26182  5.775705  15.939656\n2   중구  134593  125709   8884  21384  6.600640  15.887899\n3  용산구  244444  229161  15283  36882  6.252148  15.088118\n4  성동구  312711  304808   7903  41273  2.527254  13.198448\n5  광진구  372298  357703  14595  43953  3.920247  11.805865",
      "text/html": "<div>\n<style scoped>\n    .dataframe tbody tr th:only-of-type {\n        vertical-align: middle;\n    }\n\n    .dataframe tbody tr th {\n        vertical-align: top;\n    }\n\n    .dataframe thead th {\n        text-align: right;\n    }\n</style>\n<table border=\"1\" class=\"dataframe\">\n  <thead>\n    <tr style=\"text-align: right;\">\n      <th></th>\n      <th>구별</th>\n      <th>인구수</th>\n      <th>한국인</th>\n      <th>외국인</th>\n      <th>고령자</th>\n      <th>외국인비율</th>\n      <th>고령자비율</th>\n    </tr>\n  </thead>\n  <tbody>\n    <tr>\n      <th>1</th>\n      <td>종로구</td>\n      <td>164257</td>\n      <td>154770</td>\n      <td>9487</td>\n      <td>26182</td>\n      <td>5.775705</td>\n      <td>15.939656</td>\n    </tr>\n    <tr>\n      <th>2</th>\n      <td>중구</td>\n      <td>134593</td>\n      <td>125709</td>\n      <td>8884</td>\n      <td>21384</td>\n      <td>6.600640</td>\n      <td>15.887899</td>\n    </tr>\n    <tr>\n      <th>3</th>\n      <td>용산구</td>\n      <td>244444</td>\n      <td>229161</td>\n      <td>15283</td>\n      <td>36882</td>\n      <td>6.252148</td>\n      <td>15.088118</td>\n    </tr>\n    <tr>\n      <th>4</th>\n      <td>성동구</td>\n      <td>312711</td>\n      <td>304808</td>\n      <td>7903</td>\n      <td>41273</td>\n      <td>2.527254</td>\n      <td>13.198448</td>\n    </tr>\n    <tr>\n      <th>5</th>\n      <td>광진구</td>\n      <td>372298</td>\n      <td>357703</td>\n      <td>14595</td>\n      <td>43953</td>\n      <td>3.920247</td>\n      <td>11.805865</td>\n    </tr>\n  </tbody>\n</table>\n</div>"
     },
     "execution_count": 48,
     "metadata": {},
     "output_type": "execute_result"
    }
   ],
   "source": [
    "pop_Seoul[\"외국인비율\"] = pop_Seoul[\"외국인\"] / pop_Seoul[\"인구수\"] * 100\n",
    "pop_Seoul[\"고령자비율\"] = pop_Seoul[\"고령자\"] / pop_Seoul[\"인구수\"] * 100\n",
    "pop_Seoul.head()"
   ],
   "metadata": {
    "collapsed": false
   }
  },
  {
   "cell_type": "markdown",
   "source": [
    "- 인구수가 많은 구는 어디인가?"
   ],
   "metadata": {
    "collapsed": false
   }
  },
  {
   "cell_type": "code",
   "execution_count": 49,
   "outputs": [
    {
     "data": {
      "text/plain": "     구별     인구수     한국인    외국인    고령자     외국인비율      고령자비율\n24  송파구  671173  664496   6677  76582  0.994825  11.410173\n16  강서구  608255  601691   6564  76032  1.079153  12.500021\n23  강남구  561052  556164   4888  65060  0.871220  11.596073\n11  노원구  558075  554403   3672  74243  0.657976  13.303409\n21  관악구  520929  503297  17632  70046  3.384722  13.446362",
      "text/html": "<div>\n<style scoped>\n    .dataframe tbody tr th:only-of-type {\n        vertical-align: middle;\n    }\n\n    .dataframe tbody tr th {\n        vertical-align: top;\n    }\n\n    .dataframe thead th {\n        text-align: right;\n    }\n</style>\n<table border=\"1\" class=\"dataframe\">\n  <thead>\n    <tr style=\"text-align: right;\">\n      <th></th>\n      <th>구별</th>\n      <th>인구수</th>\n      <th>한국인</th>\n      <th>외국인</th>\n      <th>고령자</th>\n      <th>외국인비율</th>\n      <th>고령자비율</th>\n    </tr>\n  </thead>\n  <tbody>\n    <tr>\n      <th>24</th>\n      <td>송파구</td>\n      <td>671173</td>\n      <td>664496</td>\n      <td>6677</td>\n      <td>76582</td>\n      <td>0.994825</td>\n      <td>11.410173</td>\n    </tr>\n    <tr>\n      <th>16</th>\n      <td>강서구</td>\n      <td>608255</td>\n      <td>601691</td>\n      <td>6564</td>\n      <td>76032</td>\n      <td>1.079153</td>\n      <td>12.500021</td>\n    </tr>\n    <tr>\n      <th>23</th>\n      <td>강남구</td>\n      <td>561052</td>\n      <td>556164</td>\n      <td>4888</td>\n      <td>65060</td>\n      <td>0.871220</td>\n      <td>11.596073</td>\n    </tr>\n    <tr>\n      <th>11</th>\n      <td>노원구</td>\n      <td>558075</td>\n      <td>554403</td>\n      <td>3672</td>\n      <td>74243</td>\n      <td>0.657976</td>\n      <td>13.303409</td>\n    </tr>\n    <tr>\n      <th>21</th>\n      <td>관악구</td>\n      <td>520929</td>\n      <td>503297</td>\n      <td>17632</td>\n      <td>70046</td>\n      <td>3.384722</td>\n      <td>13.446362</td>\n    </tr>\n  </tbody>\n</table>\n</div>"
     },
     "execution_count": 49,
     "metadata": {},
     "output_type": "execute_result"
    }
   ],
   "source": [
    "pop_Seoul.sort_values(by=\"인구수\",ascending=False).head(5)"
   ],
   "metadata": {
    "collapsed": false
   }
  },
  {
   "cell_type": "markdown",
   "source": [
    "- 외국인이 많은 구는 어디인가?"
   ],
   "metadata": {
    "collapsed": false
   }
  },
  {
   "cell_type": "code",
   "execution_count": 50,
   "outputs": [
    {
     "data": {
      "text/plain": "      구별     인구수     한국인    외국인    고령자     외국인비율      고령자비율\n19  영등포구  402024  368550  33474  53981  8.326369  13.427308\n17   구로구  441559  410742  30817  58794  6.979135  13.315095\n18   금천구  253491  235154  18337  34170  7.233787  13.479769\n21   관악구  520929  503297  17632  70046  3.384722  13.446362\n6   동대문구  366011  350647  15364  55718  4.197688  15.223040",
      "text/html": "<div>\n<style scoped>\n    .dataframe tbody tr th:only-of-type {\n        vertical-align: middle;\n    }\n\n    .dataframe tbody tr th {\n        vertical-align: top;\n    }\n\n    .dataframe thead th {\n        text-align: right;\n    }\n</style>\n<table border=\"1\" class=\"dataframe\">\n  <thead>\n    <tr style=\"text-align: right;\">\n      <th></th>\n      <th>구별</th>\n      <th>인구수</th>\n      <th>한국인</th>\n      <th>외국인</th>\n      <th>고령자</th>\n      <th>외국인비율</th>\n      <th>고령자비율</th>\n    </tr>\n  </thead>\n  <tbody>\n    <tr>\n      <th>19</th>\n      <td>영등포구</td>\n      <td>402024</td>\n      <td>368550</td>\n      <td>33474</td>\n      <td>53981</td>\n      <td>8.326369</td>\n      <td>13.427308</td>\n    </tr>\n    <tr>\n      <th>17</th>\n      <td>구로구</td>\n      <td>441559</td>\n      <td>410742</td>\n      <td>30817</td>\n      <td>58794</td>\n      <td>6.979135</td>\n      <td>13.315095</td>\n    </tr>\n    <tr>\n      <th>18</th>\n      <td>금천구</td>\n      <td>253491</td>\n      <td>235154</td>\n      <td>18337</td>\n      <td>34170</td>\n      <td>7.233787</td>\n      <td>13.479769</td>\n    </tr>\n    <tr>\n      <th>21</th>\n      <td>관악구</td>\n      <td>520929</td>\n      <td>503297</td>\n      <td>17632</td>\n      <td>70046</td>\n      <td>3.384722</td>\n      <td>13.446362</td>\n    </tr>\n    <tr>\n      <th>6</th>\n      <td>동대문구</td>\n      <td>366011</td>\n      <td>350647</td>\n      <td>15364</td>\n      <td>55718</td>\n      <td>4.197688</td>\n      <td>15.223040</td>\n    </tr>\n  </tbody>\n</table>\n</div>"
     },
     "execution_count": 50,
     "metadata": {},
     "output_type": "execute_result"
    }
   ],
   "source": [
    "pop_Seoul.sort_values(by=\"외국인\",ascending=False).head(5)"
   ],
   "metadata": {
    "collapsed": false
   }
  },
  {
   "cell_type": "markdown",
   "source": [
    "- 외국인 비율이 높은 구는?"
   ],
   "metadata": {
    "collapsed": false
   }
  },
  {
   "cell_type": "code",
   "execution_count": 51,
   "outputs": [
    {
     "data": {
      "text/plain": "      구별     인구수     한국인    외국인    고령자     외국인비율      고령자비율\n19  영등포구  402024  368550  33474  53981  8.326369  13.427308\n18   금천구  253491  235154  18337  34170  7.233787  13.479769\n17   구로구  441559  410742  30817  58794  6.979135  13.315095\n2     중구  134593  125709   8884  21384  6.600640  15.887899\n3    용산구  244444  229161  15283  36882  6.252148  15.088118",
      "text/html": "<div>\n<style scoped>\n    .dataframe tbody tr th:only-of-type {\n        vertical-align: middle;\n    }\n\n    .dataframe tbody tr th {\n        vertical-align: top;\n    }\n\n    .dataframe thead th {\n        text-align: right;\n    }\n</style>\n<table border=\"1\" class=\"dataframe\">\n  <thead>\n    <tr style=\"text-align: right;\">\n      <th></th>\n      <th>구별</th>\n      <th>인구수</th>\n      <th>한국인</th>\n      <th>외국인</th>\n      <th>고령자</th>\n      <th>외국인비율</th>\n      <th>고령자비율</th>\n    </tr>\n  </thead>\n  <tbody>\n    <tr>\n      <th>19</th>\n      <td>영등포구</td>\n      <td>402024</td>\n      <td>368550</td>\n      <td>33474</td>\n      <td>53981</td>\n      <td>8.326369</td>\n      <td>13.427308</td>\n    </tr>\n    <tr>\n      <th>18</th>\n      <td>금천구</td>\n      <td>253491</td>\n      <td>235154</td>\n      <td>18337</td>\n      <td>34170</td>\n      <td>7.233787</td>\n      <td>13.479769</td>\n    </tr>\n    <tr>\n      <th>17</th>\n      <td>구로구</td>\n      <td>441559</td>\n      <td>410742</td>\n      <td>30817</td>\n      <td>58794</td>\n      <td>6.979135</td>\n      <td>13.315095</td>\n    </tr>\n    <tr>\n      <th>2</th>\n      <td>중구</td>\n      <td>134593</td>\n      <td>125709</td>\n      <td>8884</td>\n      <td>21384</td>\n      <td>6.600640</td>\n      <td>15.887899</td>\n    </tr>\n    <tr>\n      <th>3</th>\n      <td>용산구</td>\n      <td>244444</td>\n      <td>229161</td>\n      <td>15283</td>\n      <td>36882</td>\n      <td>6.252148</td>\n      <td>15.088118</td>\n    </tr>\n  </tbody>\n</table>\n</div>"
     },
     "execution_count": 51,
     "metadata": {},
     "output_type": "execute_result"
    }
   ],
   "source": [
    "pop_Seoul.sort_values(by=\"외국인비율\",ascending=False).head(5)"
   ],
   "metadata": {
    "collapsed": false
   }
  },
  {
   "cell_type": "markdown",
   "source": [
    "- 고령자가 많은 구는?"
   ],
   "metadata": {
    "collapsed": false
   }
  },
  {
   "cell_type": "code",
   "execution_count": 52,
   "outputs": [
    {
     "data": {
      "text/plain": "     구별     인구수     한국인    외국인    고령자     외국인비율      고령자비율\n24  송파구  671173  664496   6677  76582  0.994825  11.410173\n16  강서구  608255  601691   6564  76032  1.079153  12.500021\n12  은평구  491202  486794   4408  74559  0.897390  15.178888\n11  노원구  558075  554403   3672  74243  0.657976  13.303409\n21  관악구  520929  503297  17632  70046  3.384722  13.446362",
      "text/html": "<div>\n<style scoped>\n    .dataframe tbody tr th:only-of-type {\n        vertical-align: middle;\n    }\n\n    .dataframe tbody tr th {\n        vertical-align: top;\n    }\n\n    .dataframe thead th {\n        text-align: right;\n    }\n</style>\n<table border=\"1\" class=\"dataframe\">\n  <thead>\n    <tr style=\"text-align: right;\">\n      <th></th>\n      <th>구별</th>\n      <th>인구수</th>\n      <th>한국인</th>\n      <th>외국인</th>\n      <th>고령자</th>\n      <th>외국인비율</th>\n      <th>고령자비율</th>\n    </tr>\n  </thead>\n  <tbody>\n    <tr>\n      <th>24</th>\n      <td>송파구</td>\n      <td>671173</td>\n      <td>664496</td>\n      <td>6677</td>\n      <td>76582</td>\n      <td>0.994825</td>\n      <td>11.410173</td>\n    </tr>\n    <tr>\n      <th>16</th>\n      <td>강서구</td>\n      <td>608255</td>\n      <td>601691</td>\n      <td>6564</td>\n      <td>76032</td>\n      <td>1.079153</td>\n      <td>12.500021</td>\n    </tr>\n    <tr>\n      <th>12</th>\n      <td>은평구</td>\n      <td>491202</td>\n      <td>486794</td>\n      <td>4408</td>\n      <td>74559</td>\n      <td>0.897390</td>\n      <td>15.178888</td>\n    </tr>\n    <tr>\n      <th>11</th>\n      <td>노원구</td>\n      <td>558075</td>\n      <td>554403</td>\n      <td>3672</td>\n      <td>74243</td>\n      <td>0.657976</td>\n      <td>13.303409</td>\n    </tr>\n    <tr>\n      <th>21</th>\n      <td>관악구</td>\n      <td>520929</td>\n      <td>503297</td>\n      <td>17632</td>\n      <td>70046</td>\n      <td>3.384722</td>\n      <td>13.446362</td>\n    </tr>\n  </tbody>\n</table>\n</div>"
     },
     "execution_count": 52,
     "metadata": {},
     "output_type": "execute_result"
    }
   ],
   "source": [
    "pop_Seoul.sort_values(by=\"고령자\",ascending=False).head(5)"
   ],
   "metadata": {
    "collapsed": false
   }
  },
  {
   "cell_type": "markdown",
   "source": [
    "- 고령자비율이 높은 구는?"
   ],
   "metadata": {
    "collapsed": false
   }
  },
  {
   "cell_type": "code",
   "execution_count": 53,
   "outputs": [
    {
     "data": {
      "text/plain": "      구별     인구수     한국인    외국인    고령자     외국인비율      고령자비율\n9    강북구  328002  324479   3523  56530  1.074079  17.234651\n1    종로구  164257  154770   9487  26182  5.775705  15.939656\n2     중구  134593  125709   8884  21384  6.600640  15.887899\n10   도봉구  346234  344166   2068  53488  0.597284  15.448512\n6   동대문구  366011  350647  15364  55718  4.197688  15.223040",
      "text/html": "<div>\n<style scoped>\n    .dataframe tbody tr th:only-of-type {\n        vertical-align: middle;\n    }\n\n    .dataframe tbody tr th {\n        vertical-align: top;\n    }\n\n    .dataframe thead th {\n        text-align: right;\n    }\n</style>\n<table border=\"1\" class=\"dataframe\">\n  <thead>\n    <tr style=\"text-align: right;\">\n      <th></th>\n      <th>구별</th>\n      <th>인구수</th>\n      <th>한국인</th>\n      <th>외국인</th>\n      <th>고령자</th>\n      <th>외국인비율</th>\n      <th>고령자비율</th>\n    </tr>\n  </thead>\n  <tbody>\n    <tr>\n      <th>9</th>\n      <td>강북구</td>\n      <td>328002</td>\n      <td>324479</td>\n      <td>3523</td>\n      <td>56530</td>\n      <td>1.074079</td>\n      <td>17.234651</td>\n    </tr>\n    <tr>\n      <th>1</th>\n      <td>종로구</td>\n      <td>164257</td>\n      <td>154770</td>\n      <td>9487</td>\n      <td>26182</td>\n      <td>5.775705</td>\n      <td>15.939656</td>\n    </tr>\n    <tr>\n      <th>2</th>\n      <td>중구</td>\n      <td>134593</td>\n      <td>125709</td>\n      <td>8884</td>\n      <td>21384</td>\n      <td>6.600640</td>\n      <td>15.887899</td>\n    </tr>\n    <tr>\n      <th>10</th>\n      <td>도봉구</td>\n      <td>346234</td>\n      <td>344166</td>\n      <td>2068</td>\n      <td>53488</td>\n      <td>0.597284</td>\n      <td>15.448512</td>\n    </tr>\n    <tr>\n      <th>6</th>\n      <td>동대문구</td>\n      <td>366011</td>\n      <td>350647</td>\n      <td>15364</td>\n      <td>55718</td>\n      <td>4.197688</td>\n      <td>15.223040</td>\n    </tr>\n  </tbody>\n</table>\n</div>"
     },
     "execution_count": 53,
     "metadata": {},
     "output_type": "execute_result"
    }
   ],
   "source": [
    "pop_Seoul.sort_values(by=\"고령자비율\",ascending=False).head(5)"
   ],
   "metadata": {
    "collapsed": false
   }
  },
  {
   "cell_type": "markdown",
   "source": [
    "## 7. 두데이터 합치기"
   ],
   "metadata": {
    "collapsed": false
   }
  },
  {
   "cell_type": "markdown",
   "source": [
    "### Pandas 데이터 merge를 이용해서 병합하기"
   ],
   "metadata": {
    "collapsed": false
   }
  },
  {
   "cell_type": "markdown",
   "source": [
    "- merge를 이용한 데이터 병합"
   ],
   "metadata": {
    "collapsed": false
   }
  },
  {
   "cell_type": "markdown",
   "source": [
    "- pandas DataFrame 데이터끼리의 병합은 빈번히 발생함"
   ],
   "metadata": {
    "collapsed": false
   }
  },
  {
   "cell_type": "markdown",
   "source": [
    "- 병합 후 데이터가 엉망이 되지 않도록 주의 해야함"
   ],
   "metadata": {
    "collapsed": false
   }
  },
  {
   "cell_type": "code",
   "execution_count": 57,
   "outputs": [],
   "source": [
    "left = pd.DataFrame(\n",
    "    {\n",
    "        \"key\": [\"K0\",\"K4\",\"K2\",\"K3\"],\n",
    "        \"A\": [\"A0\",\"A1\",\"A2\",\"A3\"],\n",
    "        \"B\": [\"B0\",\"B1\",\"B2\",\"B3\"]\n",
    "    }\n",
    ")\n",
    "\n",
    "right = pd.DataFrame(\n",
    "    {\n",
    "        \"key\": [\"K0\",\"K1\",\"K2\",\"K3\"],\n",
    "        \"C\": [\"C0\",\"C1\",\"C2\",\"C3\"],\n",
    "        \"D\": [\"D0\",\"D1\",\"D2\",\"D3\"]\n",
    "    }\n",
    ")"
   ],
   "metadata": {
    "collapsed": false
   }
  },
  {
   "cell_type": "code",
   "execution_count": 58,
   "outputs": [
    {
     "data": {
      "text/plain": "  key   A   B\n0  K0  A0  B0\n1  K4  A1  B1\n2  K2  A2  B2\n3  K3  A3  B3",
      "text/html": "<div>\n<style scoped>\n    .dataframe tbody tr th:only-of-type {\n        vertical-align: middle;\n    }\n\n    .dataframe tbody tr th {\n        vertical-align: top;\n    }\n\n    .dataframe thead th {\n        text-align: right;\n    }\n</style>\n<table border=\"1\" class=\"dataframe\">\n  <thead>\n    <tr style=\"text-align: right;\">\n      <th></th>\n      <th>key</th>\n      <th>A</th>\n      <th>B</th>\n    </tr>\n  </thead>\n  <tbody>\n    <tr>\n      <th>0</th>\n      <td>K0</td>\n      <td>A0</td>\n      <td>B0</td>\n    </tr>\n    <tr>\n      <th>1</th>\n      <td>K4</td>\n      <td>A1</td>\n      <td>B1</td>\n    </tr>\n    <tr>\n      <th>2</th>\n      <td>K2</td>\n      <td>A2</td>\n      <td>B2</td>\n    </tr>\n    <tr>\n      <th>3</th>\n      <td>K3</td>\n      <td>A3</td>\n      <td>B3</td>\n    </tr>\n  </tbody>\n</table>\n</div>"
     },
     "execution_count": 58,
     "metadata": {},
     "output_type": "execute_result"
    }
   ],
   "source": [
    "left"
   ],
   "metadata": {
    "collapsed": false
   }
  },
  {
   "cell_type": "code",
   "execution_count": 59,
   "outputs": [
    {
     "data": {
      "text/plain": "  key   C   D\n0  K0  C0  D0\n1  K1  C1  D1\n2  K2  C2  D2\n3  K3  C3  D3",
      "text/html": "<div>\n<style scoped>\n    .dataframe tbody tr th:only-of-type {\n        vertical-align: middle;\n    }\n\n    .dataframe tbody tr th {\n        vertical-align: top;\n    }\n\n    .dataframe thead th {\n        text-align: right;\n    }\n</style>\n<table border=\"1\" class=\"dataframe\">\n  <thead>\n    <tr style=\"text-align: right;\">\n      <th></th>\n      <th>key</th>\n      <th>C</th>\n      <th>D</th>\n    </tr>\n  </thead>\n  <tbody>\n    <tr>\n      <th>0</th>\n      <td>K0</td>\n      <td>C0</td>\n      <td>D0</td>\n    </tr>\n    <tr>\n      <th>1</th>\n      <td>K1</td>\n      <td>C1</td>\n      <td>D1</td>\n    </tr>\n    <tr>\n      <th>2</th>\n      <td>K2</td>\n      <td>C2</td>\n      <td>D2</td>\n    </tr>\n    <tr>\n      <th>3</th>\n      <td>K3</td>\n      <td>C3</td>\n      <td>D3</td>\n    </tr>\n  </tbody>\n</table>\n</div>"
     },
     "execution_count": 59,
     "metadata": {},
     "output_type": "execute_result"
    }
   ],
   "source": [
    "right"
   ],
   "metadata": {
    "collapsed": false
   }
  },
  {
   "cell_type": "markdown",
   "source": [
    "- key 컬럼을 기준으로 병합"
   ],
   "metadata": {
    "collapsed": false
   }
  },
  {
   "cell_type": "code",
   "execution_count": 60,
   "outputs": [
    {
     "data": {
      "text/plain": "  key   A   B   C   D\n0  K0  A0  B0  C0  D0\n1  K2  A2  B2  C2  D2\n2  K3  A3  B3  C3  D3",
      "text/html": "<div>\n<style scoped>\n    .dataframe tbody tr th:only-of-type {\n        vertical-align: middle;\n    }\n\n    .dataframe tbody tr th {\n        vertical-align: top;\n    }\n\n    .dataframe thead th {\n        text-align: right;\n    }\n</style>\n<table border=\"1\" class=\"dataframe\">\n  <thead>\n    <tr style=\"text-align: right;\">\n      <th></th>\n      <th>key</th>\n      <th>A</th>\n      <th>B</th>\n      <th>C</th>\n      <th>D</th>\n    </tr>\n  </thead>\n  <tbody>\n    <tr>\n      <th>0</th>\n      <td>K0</td>\n      <td>A0</td>\n      <td>B0</td>\n      <td>C0</td>\n      <td>D0</td>\n    </tr>\n    <tr>\n      <th>1</th>\n      <td>K2</td>\n      <td>A2</td>\n      <td>B2</td>\n      <td>C2</td>\n      <td>D2</td>\n    </tr>\n    <tr>\n      <th>2</th>\n      <td>K3</td>\n      <td>A3</td>\n      <td>B3</td>\n      <td>C3</td>\n      <td>D3</td>\n    </tr>\n  </tbody>\n</table>\n</div>"
     },
     "execution_count": 60,
     "metadata": {},
     "output_type": "execute_result"
    }
   ],
   "source": [
    "pd.merge(left,right, on=\"key\")"
   ],
   "metadata": {
    "collapsed": false
   }
  },
  {
   "cell_type": "markdown",
   "source": [
    "- left에 key를 기준으로 right 병합"
   ],
   "metadata": {
    "collapsed": false
   }
  },
  {
   "cell_type": "code",
   "execution_count": 61,
   "outputs": [
    {
     "data": {
      "text/plain": "  key   A   B    C    D\n0  K0  A0  B0   C0   D0\n1  K4  A1  B1  NaN  NaN\n2  K2  A2  B2   C2   D2\n3  K3  A3  B3   C3   D3",
      "text/html": "<div>\n<style scoped>\n    .dataframe tbody tr th:only-of-type {\n        vertical-align: middle;\n    }\n\n    .dataframe tbody tr th {\n        vertical-align: top;\n    }\n\n    .dataframe thead th {\n        text-align: right;\n    }\n</style>\n<table border=\"1\" class=\"dataframe\">\n  <thead>\n    <tr style=\"text-align: right;\">\n      <th></th>\n      <th>key</th>\n      <th>A</th>\n      <th>B</th>\n      <th>C</th>\n      <th>D</th>\n    </tr>\n  </thead>\n  <tbody>\n    <tr>\n      <th>0</th>\n      <td>K0</td>\n      <td>A0</td>\n      <td>B0</td>\n      <td>C0</td>\n      <td>D0</td>\n    </tr>\n    <tr>\n      <th>1</th>\n      <td>K4</td>\n      <td>A1</td>\n      <td>B1</td>\n      <td>NaN</td>\n      <td>NaN</td>\n    </tr>\n    <tr>\n      <th>2</th>\n      <td>K2</td>\n      <td>A2</td>\n      <td>B2</td>\n      <td>C2</td>\n      <td>D2</td>\n    </tr>\n    <tr>\n      <th>3</th>\n      <td>K3</td>\n      <td>A3</td>\n      <td>B3</td>\n      <td>C3</td>\n      <td>D3</td>\n    </tr>\n  </tbody>\n</table>\n</div>"
     },
     "execution_count": 61,
     "metadata": {},
     "output_type": "execute_result"
    }
   ],
   "source": [
    "pd.merge(left,right, how=\"left\",on=\"key\")"
   ],
   "metadata": {
    "collapsed": false
   }
  },
  {
   "cell_type": "markdown",
   "source": [
    "- right에 key를 기준으로 left 병합"
   ],
   "metadata": {
    "collapsed": false
   }
  },
  {
   "cell_type": "code",
   "execution_count": 62,
   "outputs": [
    {
     "data": {
      "text/plain": "  key    A    B   C   D\n0  K0   A0   B0  C0  D0\n1  K1  NaN  NaN  C1  D1\n2  K2   A2   B2  C2  D2\n3  K3   A3   B3  C3  D3",
      "text/html": "<div>\n<style scoped>\n    .dataframe tbody tr th:only-of-type {\n        vertical-align: middle;\n    }\n\n    .dataframe tbody tr th {\n        vertical-align: top;\n    }\n\n    .dataframe thead th {\n        text-align: right;\n    }\n</style>\n<table border=\"1\" class=\"dataframe\">\n  <thead>\n    <tr style=\"text-align: right;\">\n      <th></th>\n      <th>key</th>\n      <th>A</th>\n      <th>B</th>\n      <th>C</th>\n      <th>D</th>\n    </tr>\n  </thead>\n  <tbody>\n    <tr>\n      <th>0</th>\n      <td>K0</td>\n      <td>A0</td>\n      <td>B0</td>\n      <td>C0</td>\n      <td>D0</td>\n    </tr>\n    <tr>\n      <th>1</th>\n      <td>K1</td>\n      <td>NaN</td>\n      <td>NaN</td>\n      <td>C1</td>\n      <td>D1</td>\n    </tr>\n    <tr>\n      <th>2</th>\n      <td>K2</td>\n      <td>A2</td>\n      <td>B2</td>\n      <td>C2</td>\n      <td>D2</td>\n    </tr>\n    <tr>\n      <th>3</th>\n      <td>K3</td>\n      <td>A3</td>\n      <td>B3</td>\n      <td>C3</td>\n      <td>D3</td>\n    </tr>\n  </tbody>\n</table>\n</div>"
     },
     "execution_count": 62,
     "metadata": {},
     "output_type": "execute_result"
    }
   ],
   "source": [
    "pd.merge(left, right, how='right',on='key')"
   ],
   "metadata": {
    "collapsed": false
   }
  },
  {
   "cell_type": "markdown",
   "source": [
    "- 둘 다 손상되지 않도록 key를 기준으로 병합"
   ],
   "metadata": {
    "collapsed": false
   }
  },
  {
   "cell_type": "code",
   "execution_count": 63,
   "outputs": [
    {
     "data": {
      "text/plain": "  key    A    B    C    D\n0  K0   A0   B0   C0   D0\n1  K4   A1   B1  NaN  NaN\n2  K2   A2   B2   C2   D2\n3  K3   A3   B3   C3   D3\n4  K1  NaN  NaN   C1   D1",
      "text/html": "<div>\n<style scoped>\n    .dataframe tbody tr th:only-of-type {\n        vertical-align: middle;\n    }\n\n    .dataframe tbody tr th {\n        vertical-align: top;\n    }\n\n    .dataframe thead th {\n        text-align: right;\n    }\n</style>\n<table border=\"1\" class=\"dataframe\">\n  <thead>\n    <tr style=\"text-align: right;\">\n      <th></th>\n      <th>key</th>\n      <th>A</th>\n      <th>B</th>\n      <th>C</th>\n      <th>D</th>\n    </tr>\n  </thead>\n  <tbody>\n    <tr>\n      <th>0</th>\n      <td>K0</td>\n      <td>A0</td>\n      <td>B0</td>\n      <td>C0</td>\n      <td>D0</td>\n    </tr>\n    <tr>\n      <th>1</th>\n      <td>K4</td>\n      <td>A1</td>\n      <td>B1</td>\n      <td>NaN</td>\n      <td>NaN</td>\n    </tr>\n    <tr>\n      <th>2</th>\n      <td>K2</td>\n      <td>A2</td>\n      <td>B2</td>\n      <td>C2</td>\n      <td>D2</td>\n    </tr>\n    <tr>\n      <th>3</th>\n      <td>K3</td>\n      <td>A3</td>\n      <td>B3</td>\n      <td>C3</td>\n      <td>D3</td>\n    </tr>\n    <tr>\n      <th>4</th>\n      <td>K1</td>\n      <td>NaN</td>\n      <td>NaN</td>\n      <td>C1</td>\n      <td>D1</td>\n    </tr>\n  </tbody>\n</table>\n</div>"
     },
     "execution_count": 63,
     "metadata": {},
     "output_type": "execute_result"
    }
   ],
   "source": [
    "pd.merge(left,right,how=\"outer\",on=\"key\")"
   ],
   "metadata": {
    "collapsed": false
   }
  },
  {
   "cell_type": "markdown",
   "source": [
    "- key 컬럼에서 두 데이터에 공통분모만 병합"
   ],
   "metadata": {
    "collapsed": false
   }
  },
  {
   "cell_type": "code",
   "execution_count": 64,
   "outputs": [
    {
     "data": {
      "text/plain": "  key   A   B   C   D\n0  K0  A0  B0  C0  D0\n1  K2  A2  B2  C2  D2\n2  K3  A3  B3  C3  D3",
      "text/html": "<div>\n<style scoped>\n    .dataframe tbody tr th:only-of-type {\n        vertical-align: middle;\n    }\n\n    .dataframe tbody tr th {\n        vertical-align: top;\n    }\n\n    .dataframe thead th {\n        text-align: right;\n    }\n</style>\n<table border=\"1\" class=\"dataframe\">\n  <thead>\n    <tr style=\"text-align: right;\">\n      <th></th>\n      <th>key</th>\n      <th>A</th>\n      <th>B</th>\n      <th>C</th>\n      <th>D</th>\n    </tr>\n  </thead>\n  <tbody>\n    <tr>\n      <th>0</th>\n      <td>K0</td>\n      <td>A0</td>\n      <td>B0</td>\n      <td>C0</td>\n      <td>D0</td>\n    </tr>\n    <tr>\n      <th>1</th>\n      <td>K2</td>\n      <td>A2</td>\n      <td>B2</td>\n      <td>C2</td>\n      <td>D2</td>\n    </tr>\n    <tr>\n      <th>2</th>\n      <td>K3</td>\n      <td>A3</td>\n      <td>B3</td>\n      <td>C3</td>\n      <td>D3</td>\n    </tr>\n  </tbody>\n</table>\n</div>"
     },
     "execution_count": 64,
     "metadata": {},
     "output_type": "execute_result"
    }
   ],
   "source": [
    "pd.merge(left,right,how=\"inner\",on=\"key\")"
   ],
   "metadata": {
    "collapsed": false
   }
  },
  {
   "cell_type": "markdown",
   "source": [
    "- 데이터 합치기"
   ],
   "metadata": {
    "collapsed": false
   }
  },
  {
   "cell_type": "code",
   "execution_count": 65,
   "outputs": [
    {
     "data": {
      "text/plain": "    구별    소계  2013년도 이전  2014년  2015년  2016년       최근증가율     인구수     한국인  \\\n0  강남구  3238       1292    430    584    932  150.619195  561052  556164   \n1  강동구  1010        379     99    155    377  166.490765  440359  436223   \n2  강북구   831        369    120    138    204  125.203252  328002  324479   \n3  강서구   911        388    258    184     81  134.793814  608255  601691   \n4  관악구  2109        846    260    390    613  149.290780  520929  503297   \n\n     외국인    고령자     외국인비율      고령자비율  \n0   4888  65060  0.871220  11.596073  \n1   4136  56161  0.939234  12.753458  \n2   3523  56530  1.074079  17.234651  \n3   6564  76032  1.079153  12.500021  \n4  17632  70046  3.384722  13.446362  ",
      "text/html": "<div>\n<style scoped>\n    .dataframe tbody tr th:only-of-type {\n        vertical-align: middle;\n    }\n\n    .dataframe tbody tr th {\n        vertical-align: top;\n    }\n\n    .dataframe thead th {\n        text-align: right;\n    }\n</style>\n<table border=\"1\" class=\"dataframe\">\n  <thead>\n    <tr style=\"text-align: right;\">\n      <th></th>\n      <th>구별</th>\n      <th>소계</th>\n      <th>2013년도 이전</th>\n      <th>2014년</th>\n      <th>2015년</th>\n      <th>2016년</th>\n      <th>최근증가율</th>\n      <th>인구수</th>\n      <th>한국인</th>\n      <th>외국인</th>\n      <th>고령자</th>\n      <th>외국인비율</th>\n      <th>고령자비율</th>\n    </tr>\n  </thead>\n  <tbody>\n    <tr>\n      <th>0</th>\n      <td>강남구</td>\n      <td>3238</td>\n      <td>1292</td>\n      <td>430</td>\n      <td>584</td>\n      <td>932</td>\n      <td>150.619195</td>\n      <td>561052</td>\n      <td>556164</td>\n      <td>4888</td>\n      <td>65060</td>\n      <td>0.871220</td>\n      <td>11.596073</td>\n    </tr>\n    <tr>\n      <th>1</th>\n      <td>강동구</td>\n      <td>1010</td>\n      <td>379</td>\n      <td>99</td>\n      <td>155</td>\n      <td>377</td>\n      <td>166.490765</td>\n      <td>440359</td>\n      <td>436223</td>\n      <td>4136</td>\n      <td>56161</td>\n      <td>0.939234</td>\n      <td>12.753458</td>\n    </tr>\n    <tr>\n      <th>2</th>\n      <td>강북구</td>\n      <td>831</td>\n      <td>369</td>\n      <td>120</td>\n      <td>138</td>\n      <td>204</td>\n      <td>125.203252</td>\n      <td>328002</td>\n      <td>324479</td>\n      <td>3523</td>\n      <td>56530</td>\n      <td>1.074079</td>\n      <td>17.234651</td>\n    </tr>\n    <tr>\n      <th>3</th>\n      <td>강서구</td>\n      <td>911</td>\n      <td>388</td>\n      <td>258</td>\n      <td>184</td>\n      <td>81</td>\n      <td>134.793814</td>\n      <td>608255</td>\n      <td>601691</td>\n      <td>6564</td>\n      <td>76032</td>\n      <td>1.079153</td>\n      <td>12.500021</td>\n    </tr>\n    <tr>\n      <th>4</th>\n      <td>관악구</td>\n      <td>2109</td>\n      <td>846</td>\n      <td>260</td>\n      <td>390</td>\n      <td>613</td>\n      <td>149.290780</td>\n      <td>520929</td>\n      <td>503297</td>\n      <td>17632</td>\n      <td>70046</td>\n      <td>3.384722</td>\n      <td>13.446362</td>\n    </tr>\n  </tbody>\n</table>\n</div>"
     },
     "execution_count": 65,
     "metadata": {},
     "output_type": "execute_result"
    }
   ],
   "source": [
    "data_result = pd.merge(CCTV_Seoul, pop_Seoul, on=\"구별\")\n",
    "data_result.head()"
   ],
   "metadata": {
    "collapsed": false
   }
  },
  {
   "cell_type": "markdown",
   "source": [
    "- 필요 없는 컬럼 제거"
   ],
   "metadata": {
    "collapsed": false
   }
  },
  {
   "cell_type": "code",
   "execution_count": 66,
   "outputs": [
    {
     "data": {
      "text/plain": "    구별    소계       최근증가율     인구수     한국인    외국인    고령자     외국인비율      고령자비율\n0  강남구  3238  150.619195  561052  556164   4888  65060  0.871220  11.596073\n1  강동구  1010  166.490765  440359  436223   4136  56161  0.939234  12.753458\n2  강북구   831  125.203252  328002  324479   3523  56530  1.074079  17.234651\n3  강서구   911  134.793814  608255  601691   6564  76032  1.079153  12.500021\n4  관악구  2109  149.290780  520929  503297  17632  70046  3.384722  13.446362",
      "text/html": "<div>\n<style scoped>\n    .dataframe tbody tr th:only-of-type {\n        vertical-align: middle;\n    }\n\n    .dataframe tbody tr th {\n        vertical-align: top;\n    }\n\n    .dataframe thead th {\n        text-align: right;\n    }\n</style>\n<table border=\"1\" class=\"dataframe\">\n  <thead>\n    <tr style=\"text-align: right;\">\n      <th></th>\n      <th>구별</th>\n      <th>소계</th>\n      <th>최근증가율</th>\n      <th>인구수</th>\n      <th>한국인</th>\n      <th>외국인</th>\n      <th>고령자</th>\n      <th>외국인비율</th>\n      <th>고령자비율</th>\n    </tr>\n  </thead>\n  <tbody>\n    <tr>\n      <th>0</th>\n      <td>강남구</td>\n      <td>3238</td>\n      <td>150.619195</td>\n      <td>561052</td>\n      <td>556164</td>\n      <td>4888</td>\n      <td>65060</td>\n      <td>0.871220</td>\n      <td>11.596073</td>\n    </tr>\n    <tr>\n      <th>1</th>\n      <td>강동구</td>\n      <td>1010</td>\n      <td>166.490765</td>\n      <td>440359</td>\n      <td>436223</td>\n      <td>4136</td>\n      <td>56161</td>\n      <td>0.939234</td>\n      <td>12.753458</td>\n    </tr>\n    <tr>\n      <th>2</th>\n      <td>강북구</td>\n      <td>831</td>\n      <td>125.203252</td>\n      <td>328002</td>\n      <td>324479</td>\n      <td>3523</td>\n      <td>56530</td>\n      <td>1.074079</td>\n      <td>17.234651</td>\n    </tr>\n    <tr>\n      <th>3</th>\n      <td>강서구</td>\n      <td>911</td>\n      <td>134.793814</td>\n      <td>608255</td>\n      <td>601691</td>\n      <td>6564</td>\n      <td>76032</td>\n      <td>1.079153</td>\n      <td>12.500021</td>\n    </tr>\n    <tr>\n      <th>4</th>\n      <td>관악구</td>\n      <td>2109</td>\n      <td>149.290780</td>\n      <td>520929</td>\n      <td>503297</td>\n      <td>17632</td>\n      <td>70046</td>\n      <td>3.384722</td>\n      <td>13.446362</td>\n    </tr>\n  </tbody>\n</table>\n</div>"
     },
     "execution_count": 66,
     "metadata": {},
     "output_type": "execute_result"
    }
   ],
   "source": [
    "del data_result[\"2013년도 이전\"]\n",
    "del data_result[\"2014년\"]\n",
    "del data_result[\"2015년\"]\n",
    "del data_result[\"2016년\"]\n",
    "\n",
    "data_result.head()"
   ],
   "metadata": {
    "collapsed": false
   }
  },
  {
   "cell_type": "markdown",
   "source": [
    "- pandas index 지정"
   ],
   "metadata": {
    "collapsed": false
   }
  },
  {
   "cell_type": "markdown",
   "source": [
    "- 데이터를 정리하는 과정에서 index를 재지정할 때가 있다."
   ],
   "metadata": {
    "collapsed": false
   }
  },
  {
   "cell_type": "markdown",
   "source": [
    "- 여기서 unique한 데이터인 '구별'로 index를 잡자"
   ],
   "metadata": {
    "collapsed": false
   }
  },
  {
   "cell_type": "markdown",
   "source": [
    "- index를 재지정하는 명령어은 set_index이다"
   ],
   "metadata": {
    "collapsed": false
   }
  },
  {
   "cell_type": "code",
   "execution_count": 67,
   "outputs": [
    {
     "data": {
      "text/plain": "       소계       최근증가율     인구수     한국인    외국인    고령자     외국인비율      고령자비율\n구별                                                                      \n강남구  3238  150.619195  561052  556164   4888  65060  0.871220  11.596073\n강동구  1010  166.490765  440359  436223   4136  56161  0.939234  12.753458\n강북구   831  125.203252  328002  324479   3523  56530  1.074079  17.234651\n강서구   911  134.793814  608255  601691   6564  76032  1.079153  12.500021\n관악구  2109  149.290780  520929  503297  17632  70046  3.384722  13.446362",
      "text/html": "<div>\n<style scoped>\n    .dataframe tbody tr th:only-of-type {\n        vertical-align: middle;\n    }\n\n    .dataframe tbody tr th {\n        vertical-align: top;\n    }\n\n    .dataframe thead th {\n        text-align: right;\n    }\n</style>\n<table border=\"1\" class=\"dataframe\">\n  <thead>\n    <tr style=\"text-align: right;\">\n      <th></th>\n      <th>소계</th>\n      <th>최근증가율</th>\n      <th>인구수</th>\n      <th>한국인</th>\n      <th>외국인</th>\n      <th>고령자</th>\n      <th>외국인비율</th>\n      <th>고령자비율</th>\n    </tr>\n    <tr>\n      <th>구별</th>\n      <th></th>\n      <th></th>\n      <th></th>\n      <th></th>\n      <th></th>\n      <th></th>\n      <th></th>\n      <th></th>\n    </tr>\n  </thead>\n  <tbody>\n    <tr>\n      <th>강남구</th>\n      <td>3238</td>\n      <td>150.619195</td>\n      <td>561052</td>\n      <td>556164</td>\n      <td>4888</td>\n      <td>65060</td>\n      <td>0.871220</td>\n      <td>11.596073</td>\n    </tr>\n    <tr>\n      <th>강동구</th>\n      <td>1010</td>\n      <td>166.490765</td>\n      <td>440359</td>\n      <td>436223</td>\n      <td>4136</td>\n      <td>56161</td>\n      <td>0.939234</td>\n      <td>12.753458</td>\n    </tr>\n    <tr>\n      <th>강북구</th>\n      <td>831</td>\n      <td>125.203252</td>\n      <td>328002</td>\n      <td>324479</td>\n      <td>3523</td>\n      <td>56530</td>\n      <td>1.074079</td>\n      <td>17.234651</td>\n    </tr>\n    <tr>\n      <th>강서구</th>\n      <td>911</td>\n      <td>134.793814</td>\n      <td>608255</td>\n      <td>601691</td>\n      <td>6564</td>\n      <td>76032</td>\n      <td>1.079153</td>\n      <td>12.500021</td>\n    </tr>\n    <tr>\n      <th>관악구</th>\n      <td>2109</td>\n      <td>149.290780</td>\n      <td>520929</td>\n      <td>503297</td>\n      <td>17632</td>\n      <td>70046</td>\n      <td>3.384722</td>\n      <td>13.446362</td>\n    </tr>\n  </tbody>\n</table>\n</div>"
     },
     "execution_count": 67,
     "metadata": {},
     "output_type": "execute_result"
    }
   ],
   "source": [
    "data_result.set_index(\"구별\", inplace=True)\n",
    "data_result.head()"
   ],
   "metadata": {
    "collapsed": false
   }
  },
  {
   "cell_type": "markdown",
   "source": [
    "### 상관 관계"
   ],
   "metadata": {
    "collapsed": false
   }
  },
  {
   "cell_type": "markdown",
   "source": [
    "- 두 변량 사이에 한쪽이 증가하면 다른 쪽도 증가(또는 감소) 하는 경향이 있을 때 이 두변량 사이에는 상관관계가 있다고 함."
   ],
   "metadata": {
    "collapsed": false
   }
  },
  {
   "cell_type": "markdown",
   "source": [
    "- 단 상관관계가 있다하여 두 변량이 인과 관계가 있는 것은 아님"
   ],
   "metadata": {
    "collapsed": false
   }
  },
  {
   "cell_type": "markdown",
   "source": [
    "- r = -1 -> 음의 상관 관계가 강하다"
   ],
   "metadata": {
    "collapsed": false
   }
  },
  {
   "cell_type": "markdown",
   "source": [
    "- -1< r < 0 -> 음의 상관 관계가 있기는 하다"
   ],
   "metadata": {
    "collapsed": false
   }
  },
  {
   "cell_type": "markdown",
   "source": [
    "- r = 0 -> 상관 관계까 없다"
   ],
   "metadata": {
    "collapsed": false
   }
  },
  {
   "cell_type": "markdown",
   "source": [
    "- 0 < r <0 -> 양의 상관 관계가 있기는 하다"
   ],
   "metadata": {
    "collapsed": false
   }
  },
  {
   "cell_type": "markdown",
   "source": [
    "- r = 1 -> 양의 상관 관계가 강하다"
   ],
   "metadata": {
    "collapsed": false
   }
  },
  {
   "cell_type": "markdown",
   "source": [
    "- 0.2 이하 -> 상관 관계가 없거나 무시해도 좋은 수준"
   ],
   "metadata": {
    "collapsed": false
   }
  },
  {
   "cell_type": "markdown",
   "source": [
    "- 0.4 이하 -> 약한 상관 관계"
   ],
   "metadata": {
    "collapsed": false
   }
  },
  {
   "cell_type": "markdown",
   "source": [
    "- 0.6 이상 -> 강한 상관 관계"
   ],
   "metadata": {
    "collapsed": false
   }
  },
  {
   "cell_type": "markdown",
   "source": [
    "- 데이터 관계를 찾을 때, 최소한의 근거가 있어야 해당 데이터를 비교하는 의미가 존재한다."
   ],
   "metadata": {
    "collapsed": false
   }
  },
  {
   "cell_type": "markdown",
   "source": [
    "- 상관 계수를 0.2 이상의 데이터를 비교하는 것은 의미가 있다."
   ],
   "metadata": {
    "collapsed": false
   }
  },
  {
   "cell_type": "markdown",
   "source": [
    "- CCTV 전체 수(소계)와 가장 상관 관계가 있는 데이터는 인구수 이다."
   ],
   "metadata": {
    "collapsed": false
   }
  },
  {
   "cell_type": "code",
   "execution_count": 68,
   "outputs": [
    {
     "data": {
      "text/plain": "             소계     최근증가율       인구수       한국인       외국인       고령자     외국인비율  \\\n소계     1.000000 -0.264378  0.232555  0.227852  0.030421  0.163905 -0.045956   \n최근증가율 -0.264378  1.000000 -0.097165 -0.086341 -0.156421 -0.072251 -0.047102   \n인구수    0.232555 -0.097165  1.000000  0.998151 -0.167243  0.936737 -0.601076   \n한국인    0.227852 -0.086341  0.998151  1.000000 -0.226853  0.936155 -0.645463   \n외국인    0.030421 -0.156421 -0.167243 -0.226853  1.000000 -0.175318  0.838612   \n고령자    0.163905 -0.072251  0.936737  0.936155 -0.175318  1.000000 -0.620300   \n외국인비율 -0.045956 -0.047102 -0.601076 -0.645463  0.838612 -0.620300  1.000000   \n고령자비율 -0.267841  0.190396 -0.637414 -0.628360 -0.021147 -0.348840  0.242816   \n\n          고령자비율  \n소계    -0.267841  \n최근증가율  0.190396  \n인구수   -0.637414  \n한국인   -0.628360  \n외국인   -0.021147  \n고령자   -0.348840  \n외국인비율  0.242816  \n고령자비율  1.000000  ",
      "text/html": "<div>\n<style scoped>\n    .dataframe tbody tr th:only-of-type {\n        vertical-align: middle;\n    }\n\n    .dataframe tbody tr th {\n        vertical-align: top;\n    }\n\n    .dataframe thead th {\n        text-align: right;\n    }\n</style>\n<table border=\"1\" class=\"dataframe\">\n  <thead>\n    <tr style=\"text-align: right;\">\n      <th></th>\n      <th>소계</th>\n      <th>최근증가율</th>\n      <th>인구수</th>\n      <th>한국인</th>\n      <th>외국인</th>\n      <th>고령자</th>\n      <th>외국인비율</th>\n      <th>고령자비율</th>\n    </tr>\n  </thead>\n  <tbody>\n    <tr>\n      <th>소계</th>\n      <td>1.000000</td>\n      <td>-0.264378</td>\n      <td>0.232555</td>\n      <td>0.227852</td>\n      <td>0.030421</td>\n      <td>0.163905</td>\n      <td>-0.045956</td>\n      <td>-0.267841</td>\n    </tr>\n    <tr>\n      <th>최근증가율</th>\n      <td>-0.264378</td>\n      <td>1.000000</td>\n      <td>-0.097165</td>\n      <td>-0.086341</td>\n      <td>-0.156421</td>\n      <td>-0.072251</td>\n      <td>-0.047102</td>\n      <td>0.190396</td>\n    </tr>\n    <tr>\n      <th>인구수</th>\n      <td>0.232555</td>\n      <td>-0.097165</td>\n      <td>1.000000</td>\n      <td>0.998151</td>\n      <td>-0.167243</td>\n      <td>0.936737</td>\n      <td>-0.601076</td>\n      <td>-0.637414</td>\n    </tr>\n    <tr>\n      <th>한국인</th>\n      <td>0.227852</td>\n      <td>-0.086341</td>\n      <td>0.998151</td>\n      <td>1.000000</td>\n      <td>-0.226853</td>\n      <td>0.936155</td>\n      <td>-0.645463</td>\n      <td>-0.628360</td>\n    </tr>\n    <tr>\n      <th>외국인</th>\n      <td>0.030421</td>\n      <td>-0.156421</td>\n      <td>-0.167243</td>\n      <td>-0.226853</td>\n      <td>1.000000</td>\n      <td>-0.175318</td>\n      <td>0.838612</td>\n      <td>-0.021147</td>\n    </tr>\n    <tr>\n      <th>고령자</th>\n      <td>0.163905</td>\n      <td>-0.072251</td>\n      <td>0.936737</td>\n      <td>0.936155</td>\n      <td>-0.175318</td>\n      <td>1.000000</td>\n      <td>-0.620300</td>\n      <td>-0.348840</td>\n    </tr>\n    <tr>\n      <th>외국인비율</th>\n      <td>-0.045956</td>\n      <td>-0.047102</td>\n      <td>-0.601076</td>\n      <td>-0.645463</td>\n      <td>0.838612</td>\n      <td>-0.620300</td>\n      <td>1.000000</td>\n      <td>0.242816</td>\n    </tr>\n    <tr>\n      <th>고령자비율</th>\n      <td>-0.267841</td>\n      <td>0.190396</td>\n      <td>-0.637414</td>\n      <td>-0.628360</td>\n      <td>-0.021147</td>\n      <td>-0.348840</td>\n      <td>0.242816</td>\n      <td>1.000000</td>\n    </tr>\n  </tbody>\n</table>\n</div>"
     },
     "execution_count": 68,
     "metadata": {},
     "output_type": "execute_result"
    }
   ],
   "source": [
    "data_result.corr()"
   ],
   "metadata": {
    "collapsed": false
   }
  },
  {
   "cell_type": "markdown",
   "source": [
    "- CCTV 비율을 만들어 CCTV 비율이 높은 구를 보자"
   ],
   "metadata": {
    "collapsed": false
   }
  },
  {
   "cell_type": "code",
   "execution_count": 69,
   "outputs": [
    {
     "data": {
      "text/plain": "       소계       최근증가율     인구수     한국인    외국인    고령자     외국인비율      고령자비율  \\\n구별                                                                         \n종로구  1619  248.922414  164257  154770   9487  26182  5.775705  15.939656   \n용산구  2096   53.216374  244444  229161  15283  36882  6.252148  15.088118   \n중구   1023  147.699758  134593  125709   8884  21384  6.600640  15.887899   \n강남구  3238  150.619195  561052  556164   4888  65060  0.871220  11.596073   \n금천구  1348  100.000000  253491  235154  18337  34170  7.233787  13.479769   \n\n       CCTV비율  \n구별             \n종로구  0.985651  \n용산구  0.857456  \n중구   0.760069  \n강남구  0.577130  \n금천구  0.531774  ",
      "text/html": "<div>\n<style scoped>\n    .dataframe tbody tr th:only-of-type {\n        vertical-align: middle;\n    }\n\n    .dataframe tbody tr th {\n        vertical-align: top;\n    }\n\n    .dataframe thead th {\n        text-align: right;\n    }\n</style>\n<table border=\"1\" class=\"dataframe\">\n  <thead>\n    <tr style=\"text-align: right;\">\n      <th></th>\n      <th>소계</th>\n      <th>최근증가율</th>\n      <th>인구수</th>\n      <th>한국인</th>\n      <th>외국인</th>\n      <th>고령자</th>\n      <th>외국인비율</th>\n      <th>고령자비율</th>\n      <th>CCTV비율</th>\n    </tr>\n    <tr>\n      <th>구별</th>\n      <th></th>\n      <th></th>\n      <th></th>\n      <th></th>\n      <th></th>\n      <th></th>\n      <th></th>\n      <th></th>\n      <th></th>\n    </tr>\n  </thead>\n  <tbody>\n    <tr>\n      <th>종로구</th>\n      <td>1619</td>\n      <td>248.922414</td>\n      <td>164257</td>\n      <td>154770</td>\n      <td>9487</td>\n      <td>26182</td>\n      <td>5.775705</td>\n      <td>15.939656</td>\n      <td>0.985651</td>\n    </tr>\n    <tr>\n      <th>용산구</th>\n      <td>2096</td>\n      <td>53.216374</td>\n      <td>244444</td>\n      <td>229161</td>\n      <td>15283</td>\n      <td>36882</td>\n      <td>6.252148</td>\n      <td>15.088118</td>\n      <td>0.857456</td>\n    </tr>\n    <tr>\n      <th>중구</th>\n      <td>1023</td>\n      <td>147.699758</td>\n      <td>134593</td>\n      <td>125709</td>\n      <td>8884</td>\n      <td>21384</td>\n      <td>6.600640</td>\n      <td>15.887899</td>\n      <td>0.760069</td>\n    </tr>\n    <tr>\n      <th>강남구</th>\n      <td>3238</td>\n      <td>150.619195</td>\n      <td>561052</td>\n      <td>556164</td>\n      <td>4888</td>\n      <td>65060</td>\n      <td>0.871220</td>\n      <td>11.596073</td>\n      <td>0.577130</td>\n    </tr>\n    <tr>\n      <th>금천구</th>\n      <td>1348</td>\n      <td>100.000000</td>\n      <td>253491</td>\n      <td>235154</td>\n      <td>18337</td>\n      <td>34170</td>\n      <td>7.233787</td>\n      <td>13.479769</td>\n      <td>0.531774</td>\n    </tr>\n  </tbody>\n</table>\n</div>"
     },
     "execution_count": 69,
     "metadata": {},
     "output_type": "execute_result"
    }
   ],
   "source": [
    "data_result[\"CCTV비율\"] = (data_result[\"소계\"] / data_result[\"인구수\"])*100\n",
    "data_result.sort_values(by=\"CCTV비율\",ascending=False).head(5)"
   ],
   "metadata": {
    "collapsed": false
   }
  },
  {
   "cell_type": "markdown",
   "source": [
    "- 인구대비 CCTV 비율이 낮은 구를 보자"
   ],
   "metadata": {
    "collapsed": false
   }
  },
  {
   "cell_type": "code",
   "execution_count": 70,
   "outputs": [
    {
     "data": {
      "text/plain": "       소계       최근증가율     인구수     한국인    외국인    고령자     외국인비율      고령자비율  \\\n구별                                                                         \n강서구   911  134.793814  608255  601691   6564  76032  1.079153  12.500021   \n송파구  1081  104.347826  671173  664496   6677  76582  0.994825  11.410173   \n중랑구   916   79.960707  412780  408226   4554  59262  1.103251  14.356800   \n강동구  1010  166.490765  440359  436223   4136  56161  0.939234  12.753458   \n광진구   878   53.228621  372298  357703  14595  43953  3.920247  11.805865   \n\n       CCTV비율  \n구별             \n강서구  0.149773  \n송파구  0.161061  \n중랑구  0.221910  \n강동구  0.229358  \n광진구  0.235833  ",
      "text/html": "<div>\n<style scoped>\n    .dataframe tbody tr th:only-of-type {\n        vertical-align: middle;\n    }\n\n    .dataframe tbody tr th {\n        vertical-align: top;\n    }\n\n    .dataframe thead th {\n        text-align: right;\n    }\n</style>\n<table border=\"1\" class=\"dataframe\">\n  <thead>\n    <tr style=\"text-align: right;\">\n      <th></th>\n      <th>소계</th>\n      <th>최근증가율</th>\n      <th>인구수</th>\n      <th>한국인</th>\n      <th>외국인</th>\n      <th>고령자</th>\n      <th>외국인비율</th>\n      <th>고령자비율</th>\n      <th>CCTV비율</th>\n    </tr>\n    <tr>\n      <th>구별</th>\n      <th></th>\n      <th></th>\n      <th></th>\n      <th></th>\n      <th></th>\n      <th></th>\n      <th></th>\n      <th></th>\n      <th></th>\n    </tr>\n  </thead>\n  <tbody>\n    <tr>\n      <th>강서구</th>\n      <td>911</td>\n      <td>134.793814</td>\n      <td>608255</td>\n      <td>601691</td>\n      <td>6564</td>\n      <td>76032</td>\n      <td>1.079153</td>\n      <td>12.500021</td>\n      <td>0.149773</td>\n    </tr>\n    <tr>\n      <th>송파구</th>\n      <td>1081</td>\n      <td>104.347826</td>\n      <td>671173</td>\n      <td>664496</td>\n      <td>6677</td>\n      <td>76582</td>\n      <td>0.994825</td>\n      <td>11.410173</td>\n      <td>0.161061</td>\n    </tr>\n    <tr>\n      <th>중랑구</th>\n      <td>916</td>\n      <td>79.960707</td>\n      <td>412780</td>\n      <td>408226</td>\n      <td>4554</td>\n      <td>59262</td>\n      <td>1.103251</td>\n      <td>14.356800</td>\n      <td>0.221910</td>\n    </tr>\n    <tr>\n      <th>강동구</th>\n      <td>1010</td>\n      <td>166.490765</td>\n      <td>440359</td>\n      <td>436223</td>\n      <td>4136</td>\n      <td>56161</td>\n      <td>0.939234</td>\n      <td>12.753458</td>\n      <td>0.229358</td>\n    </tr>\n    <tr>\n      <th>광진구</th>\n      <td>878</td>\n      <td>53.228621</td>\n      <td>372298</td>\n      <td>357703</td>\n      <td>14595</td>\n      <td>43953</td>\n      <td>3.920247</td>\n      <td>11.805865</td>\n      <td>0.235833</td>\n    </tr>\n  </tbody>\n</table>\n</div>"
     },
     "execution_count": 70,
     "metadata": {},
     "output_type": "execute_result"
    }
   ],
   "source": [
    "data_result.sort_values(by=\"CCTV비율\",ascending=True).head(5)"
   ],
   "metadata": {
    "collapsed": false
   }
  },
  {
   "cell_type": "markdown",
   "source": [
    "## 8. matplotlib 기초"
   ],
   "metadata": {
    "collapsed": false
   }
  },
  {
   "cell_type": "markdown",
   "source": [
    "- 파이썬의 대표 시각화 도구"
   ],
   "metadata": {
    "collapsed": false
   }
  },
  {
   "cell_type": "markdown",
   "source": [
    "- matplotlib은 plt로 naming 하여 사용"
   ],
   "metadata": {
    "collapsed": false
   }
  },
  {
   "cell_type": "markdown",
   "source": [
    "- Jupyter  Notebook 유저의 경우 matplotlib의 결과가 out session에 나타나는 것이 유리으모 %matplotlib inline 옵션을 사용한다."
   ],
   "metadata": {
    "collapsed": false
   }
  },
  {
   "cell_type": "code",
   "execution_count": 71,
   "outputs": [],
   "source": [
    "import matplotlib.pyplot as plt\n",
    "get_ipython().run_line_magic(\"matplotlib\",\"inline\")"
   ],
   "metadata": {
    "collapsed": false
   }
  },
  {
   "cell_type": "code",
   "execution_count": 72,
   "outputs": [
    {
     "data": {
      "text/plain": "<Figure size 1000x600 with 1 Axes>",
      "image/png": "[encoded data removed]"
     },
     "metadata": {},
     "output_type": "display_data"
    }
   ],
   "source": [
    "plt.figure(figsize=(10,6))\n",
    "plt.plot([0,1,2,3,4,5,6,7,8,9],[1,1,2,3,4,2,3,5,-1,3])\n",
    "plt.show()"
   ],
   "metadata": {
    "collapsed": false
   }
  },
  {
   "cell_type": "markdown",
   "source": [
    "### 삼각함수 그리기"
   ],
   "metadata": {
    "collapsed": false
   }
  },
  {
   "cell_type": "markdown",
   "source": [
    "- numpy의 sin함수"
   ],
   "metadata": {
    "collapsed": false
   }
  },
  {
   "cell_type": "markdown",
   "source": [
    "- np.arange(a,b,s) -> a부터 b까지의 s의 간격"
   ],
   "metadata": {
    "collapsed": false
   }
  },
  {
   "cell_type": "markdown",
   "source": [
    "- np.sin(value)"
   ],
   "metadata": {
    "collapsed": false
   }
  },
  {
   "cell_type": "code",
   "execution_count": 74,
   "outputs": [],
   "source": [
    "import numpy as np\n",
    "t = np.arange(0,12,0.01)\n",
    "y = np.sin(t)"
   ],
   "metadata": {
    "collapsed": false
   }
  },
  {
   "cell_type": "markdown",
   "source": [
    "- 수업에서는 그래프의 결과가 중요한 경우 그래프 그리는 코드를 def()로 작성 -> 별도의 셀에서 그림만 나타낼 수 있음"
   ],
   "metadata": {
    "collapsed": false
   }
  },
  {
   "cell_type": "code",
   "execution_count": 1,
   "outputs": [],
   "source": [
    "def drawGraph():\n",
    "    plt.figure(figsize=(10,6))\n",
    "    plt.plot(t,np.sin(t),label=\"sin\")\n",
    "    plt.plot(t,np.cos(t),label=\"cos\")\n",
    "    plt.grid()\n",
    "    plt.legend(loc = \"upper right\")\n",
    "    plt.xlabel(\"time\")\n",
    "    plt.ylabel('Amplitude')\n",
    "    plt.title(\"Example of sinewave\")\n",
    "    plt.show()"
   ],
   "metadata": {
    "collapsed": false
   }
  },
  {
   "cell_type": "code",
   "execution_count": 2,
   "outputs": [
    {
     "ename": "NameError",
     "evalue": "name 'plt' is not defined",
     "output_type": "error",
     "traceback": [
      "\u001B[1;31m---------------------------------------------------------------------------\u001B[0m",
      "\u001B[1;31mNameError\u001B[0m                                 Traceback (most recent call last)",
      "Cell \u001B[1;32mIn[2], line 1\u001B[0m\n\u001B[1;32m----> 1\u001B[0m \u001B[43mdrawGraph\u001B[49m\u001B[43m(\u001B[49m\u001B[43m)\u001B[49m\n",
      "Cell \u001B[1;32mIn[1], line 2\u001B[0m, in \u001B[0;36mdrawGraph\u001B[1;34m()\u001B[0m\n\u001B[0;32m      1\u001B[0m \u001B[38;5;28;01mdef\u001B[39;00m \u001B[38;5;21mdrawGraph\u001B[39m():\n\u001B[1;32m----> 2\u001B[0m     \u001B[43mplt\u001B[49m\u001B[38;5;241m.\u001B[39mfigure(figsize\u001B[38;5;241m=\u001B[39m(\u001B[38;5;241m10\u001B[39m,\u001B[38;5;241m6\u001B[39m))\n\u001B[0;32m      3\u001B[0m     plt\u001B[38;5;241m.\u001B[39mplot(t,np\u001B[38;5;241m.\u001B[39msin(t),label\u001B[38;5;241m=\u001B[39m\u001B[38;5;124m\"\u001B[39m\u001B[38;5;124msin\u001B[39m\u001B[38;5;124m\"\u001B[39m)\n\u001B[0;32m      4\u001B[0m     plt\u001B[38;5;241m.\u001B[39mplot(t,np\u001B[38;5;241m.\u001B[39mcos(t),label\u001B[38;5;241m=\u001B[39m\u001B[38;5;124m\"\u001B[39m\u001B[38;5;124mcos\u001B[39m\u001B[38;5;124m\"\u001B[39m)\n",
      "\u001B[1;31mNameError\u001B[0m: name 'plt' is not defined"
     ]
    }
   ],
   "source": [
    "drawGraph()"
   ],
   "metadata": {
    "collapsed": false
   }
  },
  {
   "cell_type": "code",
   "execution_count": 77,
   "outputs": [],
   "source": [
    "t = np.arange(0,5,0.5)\n",
    "\n",
    "def drawGraph():\n",
    "    plt.figure(figsize=(10,6))\n",
    "    plt.plot(t,t,\"r--\")\n",
    "    plt.plot(t,t**2,\"bs\")\n",
    "    plt.plot(t,t**3,\"g^\")\n",
    "    plt.show()"
   ],
   "metadata": {
    "collapsed": false
   }
  },
  {
   "cell_type": "code",
   "execution_count": 78,
   "outputs": [
    {
     "data": {
      "text/plain": "<Figure size 1000x600 with 1 Axes>",
      "image/png": "[encoded data removed]"
     },
     "metadata": {},
     "output_type": "display_data"
    }
   ],
   "source": [
    "drawGraph()"
   ],
   "metadata": {
    "collapsed": false
   }
  },
  {
   "cell_type": "code",
   "execution_count": 79,
   "outputs": [],
   "source": [
    "t = [0,1,2,3,4,5,6]\n",
    "y = [1,4,5,8,9,5,3]\n",
    "\n",
    "def drawGraph():\n",
    "    plt.figure(figsize=(10,6))\n",
    "    plt.plot(\n",
    "        t,\n",
    "        y,\n",
    "        color = \"green\",\n",
    "        linestyle=\"dashed\",\n",
    "        marker=\"o\",\n",
    "        markerfacecolor = \"blue\",\n",
    "        markersize=12,\n",
    "    )\n",
    "    plt.xlim([-0.5,6.5])\n",
    "    plt.ylim([0.5,9.5])\n",
    "    plt.show()"
   ],
   "metadata": {
    "collapsed": false
   }
  },
  {
   "cell_type": "code",
   "execution_count": 80,
   "outputs": [
    {
     "data": {
      "text/plain": "<Figure size 1000x600 with 1 Axes>",
      "image/png": "[encoded data removed]"
     },
     "metadata": {},
     "output_type": "display_data"
    }
   ],
   "source": [
    "drawGraph()"
   ],
   "metadata": {
    "collapsed": false
   }
  },
  {
   "cell_type": "markdown",
   "source": [
    "- scatter는 점을 뿌리듯이 그리는 그림"
   ],
   "metadata": {
    "collapsed": false
   }
  },
  {
   "cell_type": "code",
   "execution_count": 81,
   "outputs": [],
   "source": [
    "t = np.array([0,1,2,3,4,5,6,7,8,9])\n",
    "y = np.array([9,8,7,9,8,3,2,4,3,4])\n",
    "\n",
    "def drawGraph():\n",
    "    plt.figure(figsize=(10,6))\n",
    "    plt.scatter(t,y)\n",
    "    plt.show()"
   ],
   "metadata": {
    "collapsed": false
   }
  },
  {
   "cell_type": "code",
   "execution_count": 82,
   "outputs": [
    {
     "data": {
      "text/plain": "<Figure size 1000x600 with 1 Axes>",
      "image/png": "[encoded data removed]"
     },
     "metadata": {},
     "output_type": "display_data"
    }
   ],
   "source": [
    "drawGraph()"
   ],
   "metadata": {
    "collapsed": false
   }
  },
  {
   "cell_type": "code",
   "execution_count": 83,
   "outputs": [],
   "source": [
    "colormap = t\n",
    "\n",
    "def drawGraph():\n",
    "    plt.figure(figsize=(10,6))\n",
    "    plt.scatter(t,y, s=50, c=colormap, marker=\">\")\n",
    "    plt.colorbar()\n",
    "    plt.show()"
   ],
   "metadata": {
    "collapsed": false
   }
  },
  {
   "cell_type": "code",
   "execution_count": 84,
   "outputs": [
    {
     "data": {
      "text/plain": "<Figure size 1000x600 with 2 Axes>",
      "image/png": "[encoded data removed]"
     },
     "metadata": {},
     "output_type": "display_data"
    }
   ],
   "source": [
    "drawGraph()"
   ],
   "metadata": {
    "collapsed": false
   }
  },
  {
   "cell_type": "markdown",
   "source": [
    "## 9. 데이터 시각화"
   ],
   "metadata": {
    "collapsed": false
   }
  },
  {
   "cell_type": "code",
   "execution_count": 88,
   "outputs": [],
   "source": [
    "plt.rcParams[\"axes.unicode_minus\"] = False\n",
    "from matplotlib import rc\n",
    "rc('font',family='Malgun Gothic')"
   ],
   "metadata": {
    "collapsed": false
   }
  },
  {
   "cell_type": "code",
   "execution_count": 89,
   "outputs": [
    {
     "data": {
      "text/plain": "       소계       최근증가율     인구수     한국인    외국인    고령자     외국인비율      고령자비율  \\\n구별                                                                         \n강남구  3238  150.619195  561052  556164   4888  65060  0.871220  11.596073   \n강동구  1010  166.490765  440359  436223   4136  56161  0.939234  12.753458   \n강북구   831  125.203252  328002  324479   3523  56530  1.074079  17.234651   \n강서구   911  134.793814  608255  601691   6564  76032  1.079153  12.500021   \n관악구  2109  149.290780  520929  503297  17632  70046  3.384722  13.446362   \n\n       CCTV비율  \n구별             \n강남구  0.577130  \n강동구  0.229358  \n강북구  0.253352  \n강서구  0.149773  \n관악구  0.404854  ",
      "text/html": "<div>\n<style scoped>\n    .dataframe tbody tr th:only-of-type {\n        vertical-align: middle;\n    }\n\n    .dataframe tbody tr th {\n        vertical-align: top;\n    }\n\n    .dataframe thead th {\n        text-align: right;\n    }\n</style>\n<table border=\"1\" class=\"dataframe\">\n  <thead>\n    <tr style=\"text-align: right;\">\n      <th></th>\n      <th>소계</th>\n      <th>최근증가율</th>\n      <th>인구수</th>\n      <th>한국인</th>\n      <th>외국인</th>\n      <th>고령자</th>\n      <th>외국인비율</th>\n      <th>고령자비율</th>\n      <th>CCTV비율</th>\n    </tr>\n    <tr>\n      <th>구별</th>\n      <th></th>\n      <th></th>\n      <th></th>\n      <th></th>\n      <th></th>\n      <th></th>\n      <th></th>\n      <th></th>\n      <th></th>\n    </tr>\n  </thead>\n  <tbody>\n    <tr>\n      <th>강남구</th>\n      <td>3238</td>\n      <td>150.619195</td>\n      <td>561052</td>\n      <td>556164</td>\n      <td>4888</td>\n      <td>65060</td>\n      <td>0.871220</td>\n      <td>11.596073</td>\n      <td>0.577130</td>\n    </tr>\n    <tr>\n      <th>강동구</th>\n      <td>1010</td>\n      <td>166.490765</td>\n      <td>440359</td>\n      <td>436223</td>\n      <td>4136</td>\n      <td>56161</td>\n      <td>0.939234</td>\n      <td>12.753458</td>\n      <td>0.229358</td>\n    </tr>\n    <tr>\n      <th>강북구</th>\n      <td>831</td>\n      <td>125.203252</td>\n      <td>328002</td>\n      <td>324479</td>\n      <td>3523</td>\n      <td>56530</td>\n      <td>1.074079</td>\n      <td>17.234651</td>\n      <td>0.253352</td>\n    </tr>\n    <tr>\n      <th>강서구</th>\n      <td>911</td>\n      <td>134.793814</td>\n      <td>608255</td>\n      <td>601691</td>\n      <td>6564</td>\n      <td>76032</td>\n      <td>1.079153</td>\n      <td>12.500021</td>\n      <td>0.149773</td>\n    </tr>\n    <tr>\n      <th>관악구</th>\n      <td>2109</td>\n      <td>149.290780</td>\n      <td>520929</td>\n      <td>503297</td>\n      <td>17632</td>\n      <td>70046</td>\n      <td>3.384722</td>\n      <td>13.446362</td>\n      <td>0.404854</td>\n    </tr>\n  </tbody>\n</table>\n</div>"
     },
     "execution_count": 89,
     "metadata": {},
     "output_type": "execute_result"
    }
   ],
   "source": [
    "data_result.head()"
   ],
   "metadata": {
    "collapsed": false
   }
  },
  {
   "cell_type": "markdown",
   "source": [
    "- pandas DataFrame은 데이터 변수에서 바로 plot() 명렬을 사용할 수 있다."
   ],
   "metadata": {
    "collapsed": false
   }
  },
  {
   "cell_type": "markdown",
   "source": [
    "- 데이터(칼럼)가 많은 경우 정렬한 후 그리는 것이 효과적일 경우가 많다."
   ],
   "metadata": {
    "collapsed": false
   }
  },
  {
   "cell_type": "code",
   "execution_count": 90,
   "outputs": [
    {
     "data": {
      "text/plain": "<Axes: ylabel='구별'>"
     },
     "execution_count": 90,
     "metadata": {},
     "output_type": "execute_result"
    },
    {
     "data": {
      "text/plain": "<Figure size 1000x1000 with 1 Axes>",
      "image/png": "[encoded data removed]"
     },
     "metadata": {},
     "output_type": "display_data"
    }
   ],
   "source": [
    "data_result[\"소계\"].plot(kind=\"barh\",grid=True, figsize=(10,10))"
   ],
   "metadata": {
    "collapsed": false
   }
  },
  {
   "cell_type": "markdown",
   "source": [
    "- 정보 정렬"
   ],
   "metadata": {
    "collapsed": false
   }
  },
  {
   "cell_type": "code",
   "execution_count": 93,
   "outputs": [],
   "source": [
    "def drawGraph():\n",
    "    data_result[\"소계\"].sort_values().plot(\n",
    "        kind=\"barh\",\n",
    "        grid =True,\n",
    "        title = \"가장 CCTV가 많은 구\",\n",
    "        figsize = (10,10)\n",
    "    )"
   ],
   "metadata": {
    "collapsed": false
   }
  },
  {
   "cell_type": "code",
   "execution_count": 94,
   "outputs": [
    {
     "data": {
      "text/plain": "<Figure size 1000x1000 with 1 Axes>",
      "image/png": "[encoded data removed]"
     },
     "metadata": {},
     "output_type": "display_data"
    }
   ],
   "source": [
    "drawGraph()"
   ],
   "metadata": {
    "collapsed": false
   }
  },
  {
   "cell_type": "code",
   "execution_count": 95,
   "outputs": [],
   "source": [
    "def drawGraph():\n",
    "    data_result[\"CCTV비율\"].sort_values().plot(\n",
    "        kind=\"barh\",\n",
    "        grid =True,\n",
    "        title = \"가장 CCTV가 많은 구\",\n",
    "        figsize = (10,10)\n",
    "    )"
   ],
   "metadata": {
    "collapsed": false
   }
  },
  {
   "cell_type": "code",
   "execution_count": 96,
   "outputs": [
    {
     "data": {
      "text/plain": "<Figure size 1000x1000 with 1 Axes>",
      "image/png": "[encoded data removed]"
     },
     "metadata": {},
     "output_type": "display_data"
    }
   ],
   "source": [
    "drawGraph()"
   ],
   "metadata": {
    "collapsed": false
   }
  },
  {
   "cell_type": "markdown",
   "source": [
    "## 10. 데이터 경향 표시"
   ],
   "metadata": {
    "collapsed": false
   }
  },
  {
   "cell_type": "code",
   "execution_count": null,
   "outputs": [],
   "source": [
    "data_result.head()"
   ],
   "metadata": {
    "collapsed": false
   }
  },
  {
   "cell_type": "markdown",
   "source": [
    "- 인구수와 소계 컬럼으로 scatter plot 그리기"
   ],
   "metadata": {
    "collapsed": false
   }
  },
  {
   "cell_type": "code",
   "execution_count": 97,
   "outputs": [],
   "source": [
    "def drawGraph():\n",
    "    plt.figure(figsize=(14,10))\n",
    "    plt.scatter(data_result[\"인구수\"],data_result[\"소계\"], s=50)\n",
    "    plt.xlabel(\"인구수\")\n",
    "    plt.ylabel(\"CCTV\")\n",
    "    plt.grid()\n",
    "    plt.show()"
   ],
   "metadata": {
    "collapsed": false
   }
  },
  {
   "cell_type": "code",
   "execution_count": 98,
   "outputs": [
    {
     "data": {
      "text/plain": "<Figure size 1400x1000 with 1 Axes>",
      "image/png": "[encoded data removed]"
     },
     "metadata": {},
     "output_type": "display_data"
    }
   ],
   "source": [
    "drawGraph()"
   ],
   "metadata": {
    "collapsed": false
   }
  },
  {
   "cell_type": "markdown",
   "source": [
    "### Linear Regression(선형 회귀)"
   ],
   "metadata": {
    "collapsed": false
   }
  },
  {
   "cell_type": "markdown",
   "source": [
    "#### numpy를 이용한 1차 직석 만들기\n",
    "- numpy가 제공하는 간단한 함수를 이용해서 1차 직선을 만들어 그래프로 비교"
   ],
   "metadata": {
    "collapsed": false
   }
  },
  {
   "cell_type": "markdown",
   "source": [
    "- 절차"
   ],
   "metadata": {
    "collapsed": false
   }
  },
  {
   "cell_type": "markdown",
   "source": [
    "1. np.polyfit -> 직선을 구성하기 위한 계수 계산"
   ],
   "metadata": {
    "collapsed": false
   }
  },
  {
   "cell_type": "markdown",
   "source": [
    "2. np.poly1d -> polyfit으로 찾은 계수로 python에서 사용할 함수로 만들어줌"
   ],
   "metadata": {
    "collapsed": false
   }
  },
  {
   "cell_type": "code",
   "execution_count": 99,
   "outputs": [
    {
     "data": {
      "text/plain": "array([1.11155868e-03, 1.06515745e+03])"
     },
     "execution_count": 99,
     "metadata": {},
     "output_type": "execute_result"
    }
   ],
   "source": [
    "import numpy as np\n",
    "fp1 = np.polyfit(data_result[\"인구수\"],data_result[\"소계\"],1)\n",
    "fp1"
   ],
   "metadata": {
    "collapsed": false
   }
  },
  {
   "cell_type": "markdown",
   "source": [
    "- polyfit에서 찾은 계수를 넣어서 함수 완성"
   ],
   "metadata": {
    "collapsed": false
   }
  },
  {
   "cell_type": "code",
   "execution_count": 100,
   "outputs": [],
   "source": [
    "f1 = np.poly1d(fp1)"
   ],
   "metadata": {
    "collapsed": false
   }
  },
  {
   "cell_type": "markdown",
   "source": [
    "- 인구 400000인 구에서 서울시의 전체 경향에 맞는 적당한 CCTV 수를 알아보자"
   ],
   "metadata": {
    "collapsed": false
   }
  },
  {
   "cell_type": "code",
   "execution_count": 105,
   "outputs": [
    {
     "data": {
      "text/plain": "1509.780925241333"
     },
     "execution_count": 105,
     "metadata": {},
     "output_type": "execute_result"
    }
   ],
   "source": [
    "f1(400000)"
   ],
   "metadata": {
    "collapsed": false
   }
  },
  {
   "cell_type": "markdown",
   "source": [
    "- 경향선을 그리기 위해서 X데이터 생성"
   ],
   "metadata": {
    "collapsed": false
   }
  },
  {
   "cell_type": "markdown",
   "source": [
    "- np.linspace(a,b,n) -> a부터b까지의 등 간격 데이터 생성"
   ],
   "metadata": {
    "collapsed": false
   }
  },
  {
   "cell_type": "code",
   "execution_count": 106,
   "outputs": [],
   "source": [
    "fx = np.linspace(100000,700000,100)"
   ],
   "metadata": {
    "collapsed": false
   }
  },
  {
   "cell_type": "code",
   "execution_count": 107,
   "outputs": [],
   "source": [
    "def drawGraph():\n",
    "    plt.figure(figsize=(14,10))\n",
    "    plt.scatter(data_result[\"인구수\"],data_result[\"소계\"],s=50)\n",
    "    plt.plot(fx,f1(fx),ls=\"dashed\",lw=3,color=\"g\")\n",
    "    plt.xlabel(\"인구수\")\n",
    "    plt.ylabel(\"CCTV\")\n",
    "    plt.grid()\n",
    "    plt.show()"
   ],
   "metadata": {
    "collapsed": false
   }
  },
  {
   "cell_type": "code",
   "execution_count": 108,
   "outputs": [
    {
     "data": {
      "text/plain": "<Figure size 1400x1000 with 1 Axes>",
      "image/png": "[encoded data removed]"
     },
     "metadata": {},
     "output_type": "display_data"
    }
   ],
   "source": [
    "drawGraph()"
   ],
   "metadata": {
    "collapsed": false
   }
  },
  {
   "cell_type": "markdown",
   "source": [
    "## 11. 강조하고 싶은 데이터 시각화"
   ],
   "metadata": {
    "collapsed": false
   }
  },
  {
   "cell_type": "markdown",
   "source": [
    "### 경향에서 벗어난 데이터 강조하기\n",
    "\n",
    "\n",
    "\n",
    "\n"
   ],
   "metadata": {
    "collapsed": false
   }
  },
  {
   "cell_type": "markdown",
   "source": [
    "#### 경향과 오차 만들기"
   ],
   "metadata": {
    "collapsed": false
   }
  },
  {
   "cell_type": "markdown",
   "source": [
    "- data_result[\"오차\"] = data_result[\"소계\"] - f1(data_result[\"인구수\"])"
   ],
   "metadata": {
    "collapsed": false
   }
  },
  {
   "cell_type": "markdown",
   "source": [
    "- 경향과 오차 만들기"
   ],
   "metadata": {
    "collapsed": false
   }
  },
  {
   "cell_type": "markdown",
   "source": [
    "- 경향은 f1함수에서 인구를 입력 -> f1(data_result[\"인구수\"])"
   ],
   "metadata": {
    "collapsed": false
   }
  },
  {
   "cell_type": "markdown",
   "source": [
    "- 현재값 : data_result[\"소계\"]"
   ],
   "metadata": {
    "collapsed": false
   }
  },
  {
   "cell_type": "code",
   "execution_count": 109,
   "outputs": [],
   "source": [
    "fp1 = np.polyfit(data_result[\"인구수\"],data_result[\"소계\"],1)\n",
    "f1 = np.poly1d(fp1)\n",
    "fx = np.linspace(100000,700000,100)\n",
    "data_result[\"오차\"] = data_result[\"소계\"] - f1(data_result[\"인구수\"])\n",
    "\n",
    "df_sort_f = data_result.sort_values(by=\"오차\",ascending=False)\n",
    "df_sort_t = data_result.sort_values(by=\"오차\",ascending=True)"
   ],
   "metadata": {
    "collapsed": false
   }
  },
  {
   "cell_type": "markdown",
   "source": [
    "- 경향대비 CCTV를 많이 가지는 구는?"
   ],
   "metadata": {
    "collapsed": false
   }
  },
  {
   "cell_type": "code",
   "execution_count": 111,
   "outputs": [
    {
     "data": {
      "text/plain": "       소계       최근증가율     인구수     한국인    외국인    고령자     외국인비율      고령자비율  \\\n구별                                                                         \n강남구  3238  150.619195  561052  556164   4888  65060  0.871220  11.596073   \n양천구  2482   34.671731  475018  471154   3864  55234  0.813443  11.627770   \n용산구  2096   53.216374  244444  229161  15283  36882  6.252148  15.088118   \n서초구  2297   63.371266  445401  441102   4299  53205  0.965198  11.945415   \n은평구  2108   85.237258  491202  486794   4408  74559  0.897390  15.178888   \n\n       CCTV비율           오차  \n구별                          \n강남구  0.577130  1549.200326  \n양천구  0.522507   888.832166  \n용산구  0.857456   759.128697  \n서초구  0.515715   736.753199  \n은평구  0.429151   496.842700  ",
      "text/html": "<div>\n<style scoped>\n    .dataframe tbody tr th:only-of-type {\n        vertical-align: middle;\n    }\n\n    .dataframe tbody tr th {\n        vertical-align: top;\n    }\n\n    .dataframe thead th {\n        text-align: right;\n    }\n</style>\n<table border=\"1\" class=\"dataframe\">\n  <thead>\n    <tr style=\"text-align: right;\">\n      <th></th>\n      <th>소계</th>\n      <th>최근증가율</th>\n      <th>인구수</th>\n      <th>한국인</th>\n      <th>외국인</th>\n      <th>고령자</th>\n      <th>외국인비율</th>\n      <th>고령자비율</th>\n      <th>CCTV비율</th>\n      <th>오차</th>\n    </tr>\n    <tr>\n      <th>구별</th>\n      <th></th>\n      <th></th>\n      <th></th>\n      <th></th>\n      <th></th>\n      <th></th>\n      <th></th>\n      <th></th>\n      <th></th>\n      <th></th>\n    </tr>\n  </thead>\n  <tbody>\n    <tr>\n      <th>강남구</th>\n      <td>3238</td>\n      <td>150.619195</td>\n      <td>561052</td>\n      <td>556164</td>\n      <td>4888</td>\n      <td>65060</td>\n      <td>0.871220</td>\n      <td>11.596073</td>\n      <td>0.577130</td>\n      <td>1549.200326</td>\n    </tr>\n    <tr>\n      <th>양천구</th>\n      <td>2482</td>\n      <td>34.671731</td>\n      <td>475018</td>\n      <td>471154</td>\n      <td>3864</td>\n      <td>55234</td>\n      <td>0.813443</td>\n      <td>11.627770</td>\n      <td>0.522507</td>\n      <td>888.832166</td>\n    </tr>\n    <tr>\n      <th>용산구</th>\n      <td>2096</td>\n      <td>53.216374</td>\n      <td>244444</td>\n      <td>229161</td>\n      <td>15283</td>\n      <td>36882</td>\n      <td>6.252148</td>\n      <td>15.088118</td>\n      <td>0.857456</td>\n      <td>759.128697</td>\n    </tr>\n    <tr>\n      <th>서초구</th>\n      <td>2297</td>\n      <td>63.371266</td>\n      <td>445401</td>\n      <td>441102</td>\n      <td>4299</td>\n      <td>53205</td>\n      <td>0.965198</td>\n      <td>11.945415</td>\n      <td>0.515715</td>\n      <td>736.753199</td>\n    </tr>\n    <tr>\n      <th>은평구</th>\n      <td>2108</td>\n      <td>85.237258</td>\n      <td>491202</td>\n      <td>486794</td>\n      <td>4408</td>\n      <td>74559</td>\n      <td>0.897390</td>\n      <td>15.178888</td>\n      <td>0.429151</td>\n      <td>496.842700</td>\n    </tr>\n  </tbody>\n</table>\n</div>"
     },
     "execution_count": 111,
     "metadata": {},
     "output_type": "execute_result"
    }
   ],
   "source": [
    "df_sort_f.head()"
   ],
   "metadata": {
    "collapsed": false
   }
  },
  {
   "cell_type": "markdown",
   "source": [
    "- 경향 대비 CCTV를 적게 가진 구는?"
   ],
   "metadata": {
    "collapsed": false
   }
  },
  {
   "cell_type": "code",
   "execution_count": 112,
   "outputs": [
    {
     "data": {
      "text/plain": "       소계       최근증가율     인구수     한국인    외국인    고령자     외국인비율      고령자비율  \\\n구별                                                                         \n강서구   911  134.793814  608255  601691   6564  76032  1.079153  12.500021   \n송파구  1081  104.347826  671173  664496   6677  76582  0.994825  11.410173   \n도봉구   825  246.638655  346234  344166   2068  53488  0.597284  15.448512   \n중랑구   916   79.960707  412780  408226   4554  59262  1.103251  14.356800   \n광진구   878   53.228621  372298  357703  14595  43953  3.920247  11.805865   \n\n       CCTV비율          오차  \n구별                         \n강서구  0.149773 -830.268578  \n송파구  0.161061 -730.205628  \n도봉구  0.238278 -625.016861  \n중랑구  0.221910 -607.986645  \n광진구  0.235833 -600.988527  ",
      "text/html": "<div>\n<style scoped>\n    .dataframe tbody tr th:only-of-type {\n        vertical-align: middle;\n    }\n\n    .dataframe tbody tr th {\n        vertical-align: top;\n    }\n\n    .dataframe thead th {\n        text-align: right;\n    }\n</style>\n<table border=\"1\" class=\"dataframe\">\n  <thead>\n    <tr style=\"text-align: right;\">\n      <th></th>\n      <th>소계</th>\n      <th>최근증가율</th>\n      <th>인구수</th>\n      <th>한국인</th>\n      <th>외국인</th>\n      <th>고령자</th>\n      <th>외국인비율</th>\n      <th>고령자비율</th>\n      <th>CCTV비율</th>\n      <th>오차</th>\n    </tr>\n    <tr>\n      <th>구별</th>\n      <th></th>\n      <th></th>\n      <th></th>\n      <th></th>\n      <th></th>\n      <th></th>\n      <th></th>\n      <th></th>\n      <th></th>\n      <th></th>\n    </tr>\n  </thead>\n  <tbody>\n    <tr>\n      <th>강서구</th>\n      <td>911</td>\n      <td>134.793814</td>\n      <td>608255</td>\n      <td>601691</td>\n      <td>6564</td>\n      <td>76032</td>\n      <td>1.079153</td>\n      <td>12.500021</td>\n      <td>0.149773</td>\n      <td>-830.268578</td>\n    </tr>\n    <tr>\n      <th>송파구</th>\n      <td>1081</td>\n      <td>104.347826</td>\n      <td>671173</td>\n      <td>664496</td>\n      <td>6677</td>\n      <td>76582</td>\n      <td>0.994825</td>\n      <td>11.410173</td>\n      <td>0.161061</td>\n      <td>-730.205628</td>\n    </tr>\n    <tr>\n      <th>도봉구</th>\n      <td>825</td>\n      <td>246.638655</td>\n      <td>346234</td>\n      <td>344166</td>\n      <td>2068</td>\n      <td>53488</td>\n      <td>0.597284</td>\n      <td>15.448512</td>\n      <td>0.238278</td>\n      <td>-625.016861</td>\n    </tr>\n    <tr>\n      <th>중랑구</th>\n      <td>916</td>\n      <td>79.960707</td>\n      <td>412780</td>\n      <td>408226</td>\n      <td>4554</td>\n      <td>59262</td>\n      <td>1.103251</td>\n      <td>14.356800</td>\n      <td>0.221910</td>\n      <td>-607.986645</td>\n    </tr>\n    <tr>\n      <th>광진구</th>\n      <td>878</td>\n      <td>53.228621</td>\n      <td>372298</td>\n      <td>357703</td>\n      <td>14595</td>\n      <td>43953</td>\n      <td>3.920247</td>\n      <td>11.805865</td>\n      <td>0.235833</td>\n      <td>-600.988527</td>\n    </tr>\n  </tbody>\n</table>\n</div>"
     },
     "execution_count": 112,
     "metadata": {},
     "output_type": "execute_result"
    }
   ],
   "source": [
    "df_sort_t.head()"
   ],
   "metadata": {
    "collapsed": false
   }
  },
  {
   "cell_type": "markdown",
   "source": [
    "- colormap을 사용자 정의(user define)로 설정"
   ],
   "metadata": {
    "collapsed": false
   }
  },
  {
   "cell_type": "code",
   "execution_count": 114,
   "outputs": [],
   "source": [
    "from matplotlib.colors import ListedColormap\n",
    "color_step = [\"#e74c3c\",\"#2ecc71\",\"#95a5a6\",\"#2ecc71\",\"#3498db\",\"#3498db\"]\n",
    "my_cmap = ListedColormap(color_step)"
   ],
   "metadata": {
    "collapsed": false
   }
  },
  {
   "cell_type": "markdown",
   "source": [
    "- s -> 마커의 크기"
   ],
   "metadata": {
    "collapsed": false
   }
  },
  {
   "cell_type": "markdown",
   "source": [
    "- c -> color 셋팅에 방금 계산한 경향과 오차를 적용"
   ],
   "metadata": {
    "collapsed": false
   }
  },
  {
   "cell_type": "code",
   "execution_count": null,
   "outputs": [],
   "source": [],
   "metadata": {
    "collapsed": false
   }
  },
  {
   "cell_type": "markdown",
   "source": [
    "- cmap -> 사용자 정의한 맵을 적용"
   ],
   "metadata": {
    "collapsed": false
   }
  },
  {
   "cell_type": "markdown",
   "source": [
    "- 오차가 큰 데이터 아래 위로 5개씩만 특별히 마커 옆에 구 이름을 명시"
   ],
   "metadata": {
    "collapsed": false
   }
  },
  {
   "cell_type": "markdown",
   "source": [
    "- text -> 그래프에 글자를 그리는 명령"
   ],
   "metadata": {
    "collapsed": false
   }
  },
  {
   "cell_type": "markdown",
   "source": [
    "- plt.text (x,y,text,설정)"
   ],
   "metadata": {
    "collapsed": false
   }
  },
  {
   "cell_type": "markdown",
   "source": [
    "- x,y 데이터에 1.02, 0.98을 곱한 이유 -> 구 이름이 마커에 겹치지 않도록 살짝 거리를 두게하는 의도"
   ],
   "metadata": {
    "collapsed": false
   }
  },
  {
   "cell_type": "code",
   "execution_count": 117,
   "outputs": [],
   "source": [
    "def drawGraph():\n",
    "    plt.figure(figsize=(14,10))\n",
    "    plt.scatter(data_result[\"인구수\"], data_result[\"소계\"], c = data_result[\"오차\"],s=50,cmap=my_cmap)\n",
    "    plt.plot(fx,f1(fx),ls=\"dashed\",lw=3,color=\"grey\")\n",
    "\n",
    "    for n in range(5):\n",
    "        plt.text(\n",
    "            df_sort_f[\"인구수\"][n] * 1.02,\n",
    "            df_sort_t[\"소계\"][n] * 0.98,\n",
    "            df_sort_f.index[n],\n",
    "            fontsize=15,\n",
    "        )\n",
    "        plt.text(\n",
    "            df_sort_f[\"인구수\"][n] * 1.02,\n",
    "            df_sort_t[\"소계\"][n] * 0.98,\n",
    "            df_sort_t.index[n],\n",
    "            fontsize=15,\n",
    "        )\n",
    "        plt.xlabel(\"인구수\")\n",
    "        plt.ylabel(\"CCTV\")\n",
    "        plt.grid()\n",
    "        plt.show()"
   ],
   "metadata": {
    "collapsed": false
   }
  },
  {
   "cell_type": "code",
   "execution_count": 118,
   "outputs": [
    {
     "data": {
      "text/plain": "<Figure size 1400x1000 with 1 Axes>",
      "image/png": "[encoded data removed]"
     },
     "metadata": {},
     "output_type": "display_data"
    },
    {
     "ename": "ValueError",
     "evalue": "Image size of 240321235x391624 pixels is too large. It must be less than 2^16 in each direction.",
     "output_type": "error",
     "traceback": [
      "\u001B[1;31m---------------------------------------------------------------------------\u001B[0m",
      "\u001B[1;31mValueError\u001B[0m                                Traceback (most recent call last)",
      "File \u001B[1;32m~\\anaconda3\\envs\\zerobase\\lib\\site-packages\\IPython\\core\\formatters.py:338\u001B[0m, in \u001B[0;36mBaseFormatter.__call__\u001B[1;34m(self, obj)\u001B[0m\n\u001B[0;32m    336\u001B[0m     \u001B[38;5;28;01mpass\u001B[39;00m\n\u001B[0;32m    337\u001B[0m \u001B[38;5;28;01melse\u001B[39;00m:\n\u001B[1;32m--> 338\u001B[0m     \u001B[38;5;28;01mreturn\u001B[39;00m \u001B[43mprinter\u001B[49m\u001B[43m(\u001B[49m\u001B[43mobj\u001B[49m\u001B[43m)\u001B[49m\n\u001B[0;32m    339\u001B[0m \u001B[38;5;66;03m# Finally look for special method names\u001B[39;00m\n\u001B[0;32m    340\u001B[0m method \u001B[38;5;241m=\u001B[39m get_real_method(obj, \u001B[38;5;28mself\u001B[39m\u001B[38;5;241m.\u001B[39mprint_method)\n",
      "File \u001B[1;32m~\\anaconda3\\envs\\zerobase\\lib\\site-packages\\IPython\\core\\pylabtools.py:152\u001B[0m, in \u001B[0;36mprint_figure\u001B[1;34m(fig, fmt, bbox_inches, base64, **kwargs)\u001B[0m\n\u001B[0;32m    149\u001B[0m     \u001B[38;5;28;01mfrom\u001B[39;00m \u001B[38;5;21;01mmatplotlib\u001B[39;00m\u001B[38;5;21;01m.\u001B[39;00m\u001B[38;5;21;01mbackend_bases\u001B[39;00m \u001B[38;5;28;01mimport\u001B[39;00m FigureCanvasBase\n\u001B[0;32m    150\u001B[0m     FigureCanvasBase(fig)\n\u001B[1;32m--> 152\u001B[0m \u001B[43mfig\u001B[49m\u001B[38;5;241;43m.\u001B[39;49m\u001B[43mcanvas\u001B[49m\u001B[38;5;241;43m.\u001B[39;49m\u001B[43mprint_figure\u001B[49m\u001B[43m(\u001B[49m\u001B[43mbytes_io\u001B[49m\u001B[43m,\u001B[49m\u001B[43m \u001B[49m\u001B[38;5;241;43m*\u001B[39;49m\u001B[38;5;241;43m*\u001B[39;49m\u001B[43mkw\u001B[49m\u001B[43m)\u001B[49m\n\u001B[0;32m    153\u001B[0m data \u001B[38;5;241m=\u001B[39m bytes_io\u001B[38;5;241m.\u001B[39mgetvalue()\n\u001B[0;32m    154\u001B[0m \u001B[38;5;28;01mif\u001B[39;00m fmt \u001B[38;5;241m==\u001B[39m \u001B[38;5;124m'\u001B[39m\u001B[38;5;124msvg\u001B[39m\u001B[38;5;124m'\u001B[39m:\n",
      "File \u001B[1;32m~\\anaconda3\\envs\\zerobase\\lib\\site-packages\\matplotlib\\backend_bases.py:2362\u001B[0m, in \u001B[0;36mFigureCanvasBase.print_figure\u001B[1;34m(self, filename, dpi, facecolor, edgecolor, orientation, format, bbox_inches, pad_inches, bbox_extra_artists, backend, **kwargs)\u001B[0m\n\u001B[0;32m   2358\u001B[0m \u001B[38;5;28;01mtry\u001B[39;00m:\n\u001B[0;32m   2359\u001B[0m     \u001B[38;5;66;03m# _get_renderer may change the figure dpi (as vector formats\u001B[39;00m\n\u001B[0;32m   2360\u001B[0m     \u001B[38;5;66;03m# force the figure dpi to 72), so we need to set it again here.\u001B[39;00m\n\u001B[0;32m   2361\u001B[0m     \u001B[38;5;28;01mwith\u001B[39;00m cbook\u001B[38;5;241m.\u001B[39m_setattr_cm(\u001B[38;5;28mself\u001B[39m\u001B[38;5;241m.\u001B[39mfigure, dpi\u001B[38;5;241m=\u001B[39mdpi):\n\u001B[1;32m-> 2362\u001B[0m         result \u001B[38;5;241m=\u001B[39m \u001B[43mprint_method\u001B[49m\u001B[43m(\u001B[49m\n\u001B[0;32m   2363\u001B[0m \u001B[43m            \u001B[49m\u001B[43mfilename\u001B[49m\u001B[43m,\u001B[49m\n\u001B[0;32m   2364\u001B[0m \u001B[43m            \u001B[49m\u001B[43mfacecolor\u001B[49m\u001B[38;5;241;43m=\u001B[39;49m\u001B[43mfacecolor\u001B[49m\u001B[43m,\u001B[49m\n\u001B[0;32m   2365\u001B[0m \u001B[43m            \u001B[49m\u001B[43medgecolor\u001B[49m\u001B[38;5;241;43m=\u001B[39;49m\u001B[43medgecolor\u001B[49m\u001B[43m,\u001B[49m\n\u001B[0;32m   2366\u001B[0m \u001B[43m            \u001B[49m\u001B[43morientation\u001B[49m\u001B[38;5;241;43m=\u001B[39;49m\u001B[43morientation\u001B[49m\u001B[43m,\u001B[49m\n\u001B[0;32m   2367\u001B[0m \u001B[43m            \u001B[49m\u001B[43mbbox_inches_restore\u001B[49m\u001B[38;5;241;43m=\u001B[39;49m\u001B[43m_bbox_inches_restore\u001B[49m\u001B[43m,\u001B[49m\n\u001B[0;32m   2368\u001B[0m \u001B[43m            \u001B[49m\u001B[38;5;241;43m*\u001B[39;49m\u001B[38;5;241;43m*\u001B[39;49m\u001B[43mkwargs\u001B[49m\u001B[43m)\u001B[49m\n\u001B[0;32m   2369\u001B[0m \u001B[38;5;28;01mfinally\u001B[39;00m:\n\u001B[0;32m   2370\u001B[0m     \u001B[38;5;28;01mif\u001B[39;00m bbox_inches \u001B[38;5;129;01mand\u001B[39;00m restore_bbox:\n",
      "File \u001B[1;32m~\\anaconda3\\envs\\zerobase\\lib\\site-packages\\matplotlib\\backend_bases.py:2228\u001B[0m, in \u001B[0;36mFigureCanvasBase._switch_canvas_and_return_print_method.<locals>.<lambda>\u001B[1;34m(*args, **kwargs)\u001B[0m\n\u001B[0;32m   2224\u001B[0m     optional_kws \u001B[38;5;241m=\u001B[39m {  \u001B[38;5;66;03m# Passed by print_figure for other renderers.\u001B[39;00m\n\u001B[0;32m   2225\u001B[0m         \u001B[38;5;124m\"\u001B[39m\u001B[38;5;124mdpi\u001B[39m\u001B[38;5;124m\"\u001B[39m, \u001B[38;5;124m\"\u001B[39m\u001B[38;5;124mfacecolor\u001B[39m\u001B[38;5;124m\"\u001B[39m, \u001B[38;5;124m\"\u001B[39m\u001B[38;5;124medgecolor\u001B[39m\u001B[38;5;124m\"\u001B[39m, \u001B[38;5;124m\"\u001B[39m\u001B[38;5;124morientation\u001B[39m\u001B[38;5;124m\"\u001B[39m,\n\u001B[0;32m   2226\u001B[0m         \u001B[38;5;124m\"\u001B[39m\u001B[38;5;124mbbox_inches_restore\u001B[39m\u001B[38;5;124m\"\u001B[39m}\n\u001B[0;32m   2227\u001B[0m     skip \u001B[38;5;241m=\u001B[39m optional_kws \u001B[38;5;241m-\u001B[39m {\u001B[38;5;241m*\u001B[39minspect\u001B[38;5;241m.\u001B[39msignature(meth)\u001B[38;5;241m.\u001B[39mparameters}\n\u001B[1;32m-> 2228\u001B[0m     print_method \u001B[38;5;241m=\u001B[39m functools\u001B[38;5;241m.\u001B[39mwraps(meth)(\u001B[38;5;28;01mlambda\u001B[39;00m \u001B[38;5;241m*\u001B[39margs, \u001B[38;5;241m*\u001B[39m\u001B[38;5;241m*\u001B[39mkwargs: \u001B[43mmeth\u001B[49m\u001B[43m(\u001B[49m\n\u001B[0;32m   2229\u001B[0m \u001B[43m        \u001B[49m\u001B[38;5;241;43m*\u001B[39;49m\u001B[43margs\u001B[49m\u001B[43m,\u001B[49m\u001B[43m \u001B[49m\u001B[38;5;241;43m*\u001B[39;49m\u001B[38;5;241;43m*\u001B[39;49m\u001B[43m{\u001B[49m\u001B[43mk\u001B[49m\u001B[43m:\u001B[49m\u001B[43m \u001B[49m\u001B[43mv\u001B[49m\u001B[43m \u001B[49m\u001B[38;5;28;43;01mfor\u001B[39;49;00m\u001B[43m \u001B[49m\u001B[43mk\u001B[49m\u001B[43m,\u001B[49m\u001B[43m \u001B[49m\u001B[43mv\u001B[49m\u001B[43m \u001B[49m\u001B[38;5;129;43;01min\u001B[39;49;00m\u001B[43m \u001B[49m\u001B[43mkwargs\u001B[49m\u001B[38;5;241;43m.\u001B[39;49m\u001B[43mitems\u001B[49m\u001B[43m(\u001B[49m\u001B[43m)\u001B[49m\u001B[43m \u001B[49m\u001B[38;5;28;43;01mif\u001B[39;49;00m\u001B[43m \u001B[49m\u001B[43mk\u001B[49m\u001B[43m \u001B[49m\u001B[38;5;129;43;01mnot\u001B[39;49;00m\u001B[43m \u001B[49m\u001B[38;5;129;43;01min\u001B[39;49;00m\u001B[43m \u001B[49m\u001B[43mskip\u001B[49m\u001B[43m}\u001B[49m\u001B[43m)\u001B[49m)\n\u001B[0;32m   2230\u001B[0m \u001B[38;5;28;01melse\u001B[39;00m:  \u001B[38;5;66;03m# Let third-parties do as they see fit.\u001B[39;00m\n\u001B[0;32m   2231\u001B[0m     print_method \u001B[38;5;241m=\u001B[39m meth\n",
      "File \u001B[1;32m~\\anaconda3\\envs\\zerobase\\lib\\site-packages\\matplotlib\\backends\\backend_agg.py:509\u001B[0m, in \u001B[0;36mFigureCanvasAgg.print_png\u001B[1;34m(self, filename_or_obj, metadata, pil_kwargs)\u001B[0m\n\u001B[0;32m    462\u001B[0m \u001B[38;5;28;01mdef\u001B[39;00m \u001B[38;5;21mprint_png\u001B[39m(\u001B[38;5;28mself\u001B[39m, filename_or_obj, \u001B[38;5;241m*\u001B[39m, metadata\u001B[38;5;241m=\u001B[39m\u001B[38;5;28;01mNone\u001B[39;00m, pil_kwargs\u001B[38;5;241m=\u001B[39m\u001B[38;5;28;01mNone\u001B[39;00m):\n\u001B[0;32m    463\u001B[0m \u001B[38;5;250m    \u001B[39m\u001B[38;5;124;03m\"\"\"\u001B[39;00m\n\u001B[0;32m    464\u001B[0m \u001B[38;5;124;03m    Write the figure to a PNG file.\u001B[39;00m\n\u001B[0;32m    465\u001B[0m \n\u001B[1;32m   (...)\u001B[0m\n\u001B[0;32m    507\u001B[0m \u001B[38;5;124;03m        *metadata*, including the default 'Software' key.\u001B[39;00m\n\u001B[0;32m    508\u001B[0m \u001B[38;5;124;03m    \"\"\"\u001B[39;00m\n\u001B[1;32m--> 509\u001B[0m     \u001B[38;5;28;43mself\u001B[39;49m\u001B[38;5;241;43m.\u001B[39;49m\u001B[43m_print_pil\u001B[49m\u001B[43m(\u001B[49m\u001B[43mfilename_or_obj\u001B[49m\u001B[43m,\u001B[49m\u001B[43m \u001B[49m\u001B[38;5;124;43m\"\u001B[39;49m\u001B[38;5;124;43mpng\u001B[39;49m\u001B[38;5;124;43m\"\u001B[39;49m\u001B[43m,\u001B[49m\u001B[43m \u001B[49m\u001B[43mpil_kwargs\u001B[49m\u001B[43m,\u001B[49m\u001B[43m \u001B[49m\u001B[43mmetadata\u001B[49m\u001B[43m)\u001B[49m\n",
      "File \u001B[1;32m~\\anaconda3\\envs\\zerobase\\lib\\site-packages\\matplotlib\\backends\\backend_agg.py:457\u001B[0m, in \u001B[0;36mFigureCanvasAgg._print_pil\u001B[1;34m(self, filename_or_obj, fmt, pil_kwargs, metadata)\u001B[0m\n\u001B[0;32m    452\u001B[0m \u001B[38;5;28;01mdef\u001B[39;00m \u001B[38;5;21m_print_pil\u001B[39m(\u001B[38;5;28mself\u001B[39m, filename_or_obj, fmt, pil_kwargs, metadata\u001B[38;5;241m=\u001B[39m\u001B[38;5;28;01mNone\u001B[39;00m):\n\u001B[0;32m    453\u001B[0m \u001B[38;5;250m    \u001B[39m\u001B[38;5;124;03m\"\"\"\u001B[39;00m\n\u001B[0;32m    454\u001B[0m \u001B[38;5;124;03m    Draw the canvas, then save it using `.image.imsave` (to which\u001B[39;00m\n\u001B[0;32m    455\u001B[0m \u001B[38;5;124;03m    *pil_kwargs* and *metadata* are forwarded).\u001B[39;00m\n\u001B[0;32m    456\u001B[0m \u001B[38;5;124;03m    \"\"\"\u001B[39;00m\n\u001B[1;32m--> 457\u001B[0m     \u001B[43mFigureCanvasAgg\u001B[49m\u001B[38;5;241;43m.\u001B[39;49m\u001B[43mdraw\u001B[49m\u001B[43m(\u001B[49m\u001B[38;5;28;43mself\u001B[39;49m\u001B[43m)\u001B[49m\n\u001B[0;32m    458\u001B[0m     mpl\u001B[38;5;241m.\u001B[39mimage\u001B[38;5;241m.\u001B[39mimsave(\n\u001B[0;32m    459\u001B[0m         filename_or_obj, \u001B[38;5;28mself\u001B[39m\u001B[38;5;241m.\u001B[39mbuffer_rgba(), \u001B[38;5;28mformat\u001B[39m\u001B[38;5;241m=\u001B[39mfmt, origin\u001B[38;5;241m=\u001B[39m\u001B[38;5;124m\"\u001B[39m\u001B[38;5;124mupper\u001B[39m\u001B[38;5;124m\"\u001B[39m,\n\u001B[0;32m    460\u001B[0m         dpi\u001B[38;5;241m=\u001B[39m\u001B[38;5;28mself\u001B[39m\u001B[38;5;241m.\u001B[39mfigure\u001B[38;5;241m.\u001B[39mdpi, metadata\u001B[38;5;241m=\u001B[39mmetadata, pil_kwargs\u001B[38;5;241m=\u001B[39mpil_kwargs)\n",
      "File \u001B[1;32m~\\anaconda3\\envs\\zerobase\\lib\\site-packages\\matplotlib\\backends\\backend_agg.py:394\u001B[0m, in \u001B[0;36mFigureCanvasAgg.draw\u001B[1;34m(self)\u001B[0m\n\u001B[0;32m    392\u001B[0m \u001B[38;5;28;01mdef\u001B[39;00m \u001B[38;5;21mdraw\u001B[39m(\u001B[38;5;28mself\u001B[39m):\n\u001B[0;32m    393\u001B[0m     \u001B[38;5;66;03m# docstring inherited\u001B[39;00m\n\u001B[1;32m--> 394\u001B[0m     \u001B[38;5;28mself\u001B[39m\u001B[38;5;241m.\u001B[39mrenderer \u001B[38;5;241m=\u001B[39m \u001B[38;5;28;43mself\u001B[39;49m\u001B[38;5;241;43m.\u001B[39;49m\u001B[43mget_renderer\u001B[49m\u001B[43m(\u001B[49m\u001B[43m)\u001B[49m\n\u001B[0;32m    395\u001B[0m     \u001B[38;5;28mself\u001B[39m\u001B[38;5;241m.\u001B[39mrenderer\u001B[38;5;241m.\u001B[39mclear()\n\u001B[0;32m    396\u001B[0m     \u001B[38;5;66;03m# Acquire a lock on the shared font cache.\u001B[39;00m\n",
      "File \u001B[1;32m~\\anaconda3\\envs\\zerobase\\lib\\site-packages\\matplotlib\\_api\\deprecation.py:384\u001B[0m, in \u001B[0;36mdelete_parameter.<locals>.wrapper\u001B[1;34m(*inner_args, **inner_kwargs)\u001B[0m\n\u001B[0;32m    379\u001B[0m \u001B[38;5;129m@functools\u001B[39m\u001B[38;5;241m.\u001B[39mwraps(func)\n\u001B[0;32m    380\u001B[0m \u001B[38;5;28;01mdef\u001B[39;00m \u001B[38;5;21mwrapper\u001B[39m(\u001B[38;5;241m*\u001B[39minner_args, \u001B[38;5;241m*\u001B[39m\u001B[38;5;241m*\u001B[39minner_kwargs):\n\u001B[0;32m    381\u001B[0m     \u001B[38;5;28;01mif\u001B[39;00m \u001B[38;5;28mlen\u001B[39m(inner_args) \u001B[38;5;241m<\u001B[39m\u001B[38;5;241m=\u001B[39m name_idx \u001B[38;5;129;01mand\u001B[39;00m name \u001B[38;5;129;01mnot\u001B[39;00m \u001B[38;5;129;01min\u001B[39;00m inner_kwargs:\n\u001B[0;32m    382\u001B[0m         \u001B[38;5;66;03m# Early return in the simple, non-deprecated case (much faster than\u001B[39;00m\n\u001B[0;32m    383\u001B[0m         \u001B[38;5;66;03m# calling bind()).\u001B[39;00m\n\u001B[1;32m--> 384\u001B[0m         \u001B[38;5;28;01mreturn\u001B[39;00m \u001B[43mfunc\u001B[49m\u001B[43m(\u001B[49m\u001B[38;5;241;43m*\u001B[39;49m\u001B[43minner_args\u001B[49m\u001B[43m,\u001B[49m\u001B[43m \u001B[49m\u001B[38;5;241;43m*\u001B[39;49m\u001B[38;5;241;43m*\u001B[39;49m\u001B[43minner_kwargs\u001B[49m\u001B[43m)\u001B[49m\n\u001B[0;32m    385\u001B[0m     arguments \u001B[38;5;241m=\u001B[39m signature\u001B[38;5;241m.\u001B[39mbind(\u001B[38;5;241m*\u001B[39minner_args, \u001B[38;5;241m*\u001B[39m\u001B[38;5;241m*\u001B[39minner_kwargs)\u001B[38;5;241m.\u001B[39marguments\n\u001B[0;32m    386\u001B[0m     \u001B[38;5;28;01mif\u001B[39;00m is_varargs \u001B[38;5;129;01mand\u001B[39;00m arguments\u001B[38;5;241m.\u001B[39mget(name):\n",
      "File \u001B[1;32m~\\anaconda3\\envs\\zerobase\\lib\\site-packages\\matplotlib\\backends\\backend_agg.py:411\u001B[0m, in \u001B[0;36mFigureCanvasAgg.get_renderer\u001B[1;34m(self, cleared)\u001B[0m\n\u001B[0;32m    409\u001B[0m reuse_renderer \u001B[38;5;241m=\u001B[39m (\u001B[38;5;28mself\u001B[39m\u001B[38;5;241m.\u001B[39m_lastKey \u001B[38;5;241m==\u001B[39m key)\n\u001B[0;32m    410\u001B[0m \u001B[38;5;28;01mif\u001B[39;00m \u001B[38;5;129;01mnot\u001B[39;00m reuse_renderer:\n\u001B[1;32m--> 411\u001B[0m     \u001B[38;5;28mself\u001B[39m\u001B[38;5;241m.\u001B[39mrenderer \u001B[38;5;241m=\u001B[39m \u001B[43mRendererAgg\u001B[49m\u001B[43m(\u001B[49m\u001B[43mw\u001B[49m\u001B[43m,\u001B[49m\u001B[43m \u001B[49m\u001B[43mh\u001B[49m\u001B[43m,\u001B[49m\u001B[43m \u001B[49m\u001B[38;5;28;43mself\u001B[39;49m\u001B[38;5;241;43m.\u001B[39;49m\u001B[43mfigure\u001B[49m\u001B[38;5;241;43m.\u001B[39;49m\u001B[43mdpi\u001B[49m\u001B[43m)\u001B[49m\n\u001B[0;32m    412\u001B[0m     \u001B[38;5;28mself\u001B[39m\u001B[38;5;241m.\u001B[39m_lastKey \u001B[38;5;241m=\u001B[39m key\n\u001B[0;32m    413\u001B[0m \u001B[38;5;28;01melif\u001B[39;00m cleared:\n",
      "File \u001B[1;32m~\\anaconda3\\envs\\zerobase\\lib\\site-packages\\matplotlib\\backends\\backend_agg.py:84\u001B[0m, in \u001B[0;36mRendererAgg.__init__\u001B[1;34m(self, width, height, dpi)\u001B[0m\n\u001B[0;32m     82\u001B[0m \u001B[38;5;28mself\u001B[39m\u001B[38;5;241m.\u001B[39mwidth \u001B[38;5;241m=\u001B[39m width\n\u001B[0;32m     83\u001B[0m \u001B[38;5;28mself\u001B[39m\u001B[38;5;241m.\u001B[39mheight \u001B[38;5;241m=\u001B[39m height\n\u001B[1;32m---> 84\u001B[0m \u001B[38;5;28mself\u001B[39m\u001B[38;5;241m.\u001B[39m_renderer \u001B[38;5;241m=\u001B[39m \u001B[43m_RendererAgg\u001B[49m\u001B[43m(\u001B[49m\u001B[38;5;28;43mint\u001B[39;49m\u001B[43m(\u001B[49m\u001B[43mwidth\u001B[49m\u001B[43m)\u001B[49m\u001B[43m,\u001B[49m\u001B[43m \u001B[49m\u001B[38;5;28;43mint\u001B[39;49m\u001B[43m(\u001B[49m\u001B[43mheight\u001B[49m\u001B[43m)\u001B[49m\u001B[43m,\u001B[49m\u001B[43m \u001B[49m\u001B[43mdpi\u001B[49m\u001B[43m)\u001B[49m\n\u001B[0;32m     85\u001B[0m \u001B[38;5;28mself\u001B[39m\u001B[38;5;241m.\u001B[39m_filter_renderers \u001B[38;5;241m=\u001B[39m []\n\u001B[0;32m     87\u001B[0m \u001B[38;5;28mself\u001B[39m\u001B[38;5;241m.\u001B[39m_update_methods()\n",
      "\u001B[1;31mValueError\u001B[0m: Image size of 240321235x391624 pixels is too large. It must be less than 2^16 in each direction."
     ]
    },
    {
     "data": {
      "text/plain": "<Figure size 640x480 with 1 Axes>"
     },
     "metadata": {},
     "output_type": "display_data"
    },
    {
     "ename": "ValueError",
     "evalue": "Image size of 123669237x298899 pixels is too large. It must be less than 2^16 in each direction.",
     "output_type": "error",
     "traceback": [
      "\u001B[1;31m---------------------------------------------------------------------------\u001B[0m",
      "\u001B[1;31mValueError\u001B[0m                                Traceback (most recent call last)",
      "File \u001B[1;32m~\\anaconda3\\envs\\zerobase\\lib\\site-packages\\IPython\\core\\formatters.py:338\u001B[0m, in \u001B[0;36mBaseFormatter.__call__\u001B[1;34m(self, obj)\u001B[0m\n\u001B[0;32m    336\u001B[0m     \u001B[38;5;28;01mpass\u001B[39;00m\n\u001B[0;32m    337\u001B[0m \u001B[38;5;28;01melse\u001B[39;00m:\n\u001B[1;32m--> 338\u001B[0m     \u001B[38;5;28;01mreturn\u001B[39;00m \u001B[43mprinter\u001B[49m\u001B[43m(\u001B[49m\u001B[43mobj\u001B[49m\u001B[43m)\u001B[49m\n\u001B[0;32m    339\u001B[0m \u001B[38;5;66;03m# Finally look for special method names\u001B[39;00m\n\u001B[0;32m    340\u001B[0m method \u001B[38;5;241m=\u001B[39m get_real_method(obj, \u001B[38;5;28mself\u001B[39m\u001B[38;5;241m.\u001B[39mprint_method)\n",
      "File \u001B[1;32m~\\anaconda3\\envs\\zerobase\\lib\\site-packages\\IPython\\core\\pylabtools.py:152\u001B[0m, in \u001B[0;36mprint_figure\u001B[1;34m(fig, fmt, bbox_inches, base64, **kwargs)\u001B[0m\n\u001B[0;32m    149\u001B[0m     \u001B[38;5;28;01mfrom\u001B[39;00m \u001B[38;5;21;01mmatplotlib\u001B[39;00m\u001B[38;5;21;01m.\u001B[39;00m\u001B[38;5;21;01mbackend_bases\u001B[39;00m \u001B[38;5;28;01mimport\u001B[39;00m FigureCanvasBase\n\u001B[0;32m    150\u001B[0m     FigureCanvasBase(fig)\n\u001B[1;32m--> 152\u001B[0m \u001B[43mfig\u001B[49m\u001B[38;5;241;43m.\u001B[39;49m\u001B[43mcanvas\u001B[49m\u001B[38;5;241;43m.\u001B[39;49m\u001B[43mprint_figure\u001B[49m\u001B[43m(\u001B[49m\u001B[43mbytes_io\u001B[49m\u001B[43m,\u001B[49m\u001B[43m \u001B[49m\u001B[38;5;241;43m*\u001B[39;49m\u001B[38;5;241;43m*\u001B[39;49m\u001B[43mkw\u001B[49m\u001B[43m)\u001B[49m\n\u001B[0;32m    153\u001B[0m data \u001B[38;5;241m=\u001B[39m bytes_io\u001B[38;5;241m.\u001B[39mgetvalue()\n\u001B[0;32m    154\u001B[0m \u001B[38;5;28;01mif\u001B[39;00m fmt \u001B[38;5;241m==\u001B[39m \u001B[38;5;124m'\u001B[39m\u001B[38;5;124msvg\u001B[39m\u001B[38;5;124m'\u001B[39m:\n",
      "File \u001B[1;32m~\\anaconda3\\envs\\zerobase\\lib\\site-packages\\matplotlib\\backend_bases.py:2362\u001B[0m, in \u001B[0;36mFigureCanvasBase.print_figure\u001B[1;34m(self, filename, dpi, facecolor, edgecolor, orientation, format, bbox_inches, pad_inches, bbox_extra_artists, backend, **kwargs)\u001B[0m\n\u001B[0;32m   2358\u001B[0m \u001B[38;5;28;01mtry\u001B[39;00m:\n\u001B[0;32m   2359\u001B[0m     \u001B[38;5;66;03m# _get_renderer may change the figure dpi (as vector formats\u001B[39;00m\n\u001B[0;32m   2360\u001B[0m     \u001B[38;5;66;03m# force the figure dpi to 72), so we need to set it again here.\u001B[39;00m\n\u001B[0;32m   2361\u001B[0m     \u001B[38;5;28;01mwith\u001B[39;00m cbook\u001B[38;5;241m.\u001B[39m_setattr_cm(\u001B[38;5;28mself\u001B[39m\u001B[38;5;241m.\u001B[39mfigure, dpi\u001B[38;5;241m=\u001B[39mdpi):\n\u001B[1;32m-> 2362\u001B[0m         result \u001B[38;5;241m=\u001B[39m \u001B[43mprint_method\u001B[49m\u001B[43m(\u001B[49m\n\u001B[0;32m   2363\u001B[0m \u001B[43m            \u001B[49m\u001B[43mfilename\u001B[49m\u001B[43m,\u001B[49m\n\u001B[0;32m   2364\u001B[0m \u001B[43m            \u001B[49m\u001B[43mfacecolor\u001B[49m\u001B[38;5;241;43m=\u001B[39;49m\u001B[43mfacecolor\u001B[49m\u001B[43m,\u001B[49m\n\u001B[0;32m   2365\u001B[0m \u001B[43m            \u001B[49m\u001B[43medgecolor\u001B[49m\u001B[38;5;241;43m=\u001B[39;49m\u001B[43medgecolor\u001B[49m\u001B[43m,\u001B[49m\n\u001B[0;32m   2366\u001B[0m \u001B[43m            \u001B[49m\u001B[43morientation\u001B[49m\u001B[38;5;241;43m=\u001B[39;49m\u001B[43morientation\u001B[49m\u001B[43m,\u001B[49m\n\u001B[0;32m   2367\u001B[0m \u001B[43m            \u001B[49m\u001B[43mbbox_inches_restore\u001B[49m\u001B[38;5;241;43m=\u001B[39;49m\u001B[43m_bbox_inches_restore\u001B[49m\u001B[43m,\u001B[49m\n\u001B[0;32m   2368\u001B[0m \u001B[43m            \u001B[49m\u001B[38;5;241;43m*\u001B[39;49m\u001B[38;5;241;43m*\u001B[39;49m\u001B[43mkwargs\u001B[49m\u001B[43m)\u001B[49m\n\u001B[0;32m   2369\u001B[0m \u001B[38;5;28;01mfinally\u001B[39;00m:\n\u001B[0;32m   2370\u001B[0m     \u001B[38;5;28;01mif\u001B[39;00m bbox_inches \u001B[38;5;129;01mand\u001B[39;00m restore_bbox:\n",
      "File \u001B[1;32m~\\anaconda3\\envs\\zerobase\\lib\\site-packages\\matplotlib\\backend_bases.py:2228\u001B[0m, in \u001B[0;36mFigureCanvasBase._switch_canvas_and_return_print_method.<locals>.<lambda>\u001B[1;34m(*args, **kwargs)\u001B[0m\n\u001B[0;32m   2224\u001B[0m     optional_kws \u001B[38;5;241m=\u001B[39m {  \u001B[38;5;66;03m# Passed by print_figure for other renderers.\u001B[39;00m\n\u001B[0;32m   2225\u001B[0m         \u001B[38;5;124m\"\u001B[39m\u001B[38;5;124mdpi\u001B[39m\u001B[38;5;124m\"\u001B[39m, \u001B[38;5;124m\"\u001B[39m\u001B[38;5;124mfacecolor\u001B[39m\u001B[38;5;124m\"\u001B[39m, \u001B[38;5;124m\"\u001B[39m\u001B[38;5;124medgecolor\u001B[39m\u001B[38;5;124m\"\u001B[39m, \u001B[38;5;124m\"\u001B[39m\u001B[38;5;124morientation\u001B[39m\u001B[38;5;124m\"\u001B[39m,\n\u001B[0;32m   2226\u001B[0m         \u001B[38;5;124m\"\u001B[39m\u001B[38;5;124mbbox_inches_restore\u001B[39m\u001B[38;5;124m\"\u001B[39m}\n\u001B[0;32m   2227\u001B[0m     skip \u001B[38;5;241m=\u001B[39m optional_kws \u001B[38;5;241m-\u001B[39m {\u001B[38;5;241m*\u001B[39minspect\u001B[38;5;241m.\u001B[39msignature(meth)\u001B[38;5;241m.\u001B[39mparameters}\n\u001B[1;32m-> 2228\u001B[0m     print_method \u001B[38;5;241m=\u001B[39m functools\u001B[38;5;241m.\u001B[39mwraps(meth)(\u001B[38;5;28;01mlambda\u001B[39;00m \u001B[38;5;241m*\u001B[39margs, \u001B[38;5;241m*\u001B[39m\u001B[38;5;241m*\u001B[39mkwargs: \u001B[43mmeth\u001B[49m\u001B[43m(\u001B[49m\n\u001B[0;32m   2229\u001B[0m \u001B[43m        \u001B[49m\u001B[38;5;241;43m*\u001B[39;49m\u001B[43margs\u001B[49m\u001B[43m,\u001B[49m\u001B[43m \u001B[49m\u001B[38;5;241;43m*\u001B[39;49m\u001B[38;5;241;43m*\u001B[39;49m\u001B[43m{\u001B[49m\u001B[43mk\u001B[49m\u001B[43m:\u001B[49m\u001B[43m \u001B[49m\u001B[43mv\u001B[49m\u001B[43m \u001B[49m\u001B[38;5;28;43;01mfor\u001B[39;49;00m\u001B[43m \u001B[49m\u001B[43mk\u001B[49m\u001B[43m,\u001B[49m\u001B[43m \u001B[49m\u001B[43mv\u001B[49m\u001B[43m \u001B[49m\u001B[38;5;129;43;01min\u001B[39;49;00m\u001B[43m \u001B[49m\u001B[43mkwargs\u001B[49m\u001B[38;5;241;43m.\u001B[39;49m\u001B[43mitems\u001B[49m\u001B[43m(\u001B[49m\u001B[43m)\u001B[49m\u001B[43m \u001B[49m\u001B[38;5;28;43;01mif\u001B[39;49;00m\u001B[43m \u001B[49m\u001B[43mk\u001B[49m\u001B[43m \u001B[49m\u001B[38;5;129;43;01mnot\u001B[39;49;00m\u001B[43m \u001B[49m\u001B[38;5;129;43;01min\u001B[39;49;00m\u001B[43m \u001B[49m\u001B[43mskip\u001B[49m\u001B[43m}\u001B[49m\u001B[43m)\u001B[49m)\n\u001B[0;32m   2230\u001B[0m \u001B[38;5;28;01melse\u001B[39;00m:  \u001B[38;5;66;03m# Let third-parties do as they see fit.\u001B[39;00m\n\u001B[0;32m   2231\u001B[0m     print_method \u001B[38;5;241m=\u001B[39m meth\n",
      "File \u001B[1;32m~\\anaconda3\\envs\\zerobase\\lib\\site-packages\\matplotlib\\backends\\backend_agg.py:509\u001B[0m, in \u001B[0;36mFigureCanvasAgg.print_png\u001B[1;34m(self, filename_or_obj, metadata, pil_kwargs)\u001B[0m\n\u001B[0;32m    462\u001B[0m \u001B[38;5;28;01mdef\u001B[39;00m \u001B[38;5;21mprint_png\u001B[39m(\u001B[38;5;28mself\u001B[39m, filename_or_obj, \u001B[38;5;241m*\u001B[39m, metadata\u001B[38;5;241m=\u001B[39m\u001B[38;5;28;01mNone\u001B[39;00m, pil_kwargs\u001B[38;5;241m=\u001B[39m\u001B[38;5;28;01mNone\u001B[39;00m):\n\u001B[0;32m    463\u001B[0m \u001B[38;5;250m    \u001B[39m\u001B[38;5;124;03m\"\"\"\u001B[39;00m\n\u001B[0;32m    464\u001B[0m \u001B[38;5;124;03m    Write the figure to a PNG file.\u001B[39;00m\n\u001B[0;32m    465\u001B[0m \n\u001B[1;32m   (...)\u001B[0m\n\u001B[0;32m    507\u001B[0m \u001B[38;5;124;03m        *metadata*, including the default 'Software' key.\u001B[39;00m\n\u001B[0;32m    508\u001B[0m \u001B[38;5;124;03m    \"\"\"\u001B[39;00m\n\u001B[1;32m--> 509\u001B[0m     \u001B[38;5;28;43mself\u001B[39;49m\u001B[38;5;241;43m.\u001B[39;49m\u001B[43m_print_pil\u001B[49m\u001B[43m(\u001B[49m\u001B[43mfilename_or_obj\u001B[49m\u001B[43m,\u001B[49m\u001B[43m \u001B[49m\u001B[38;5;124;43m\"\u001B[39;49m\u001B[38;5;124;43mpng\u001B[39;49m\u001B[38;5;124;43m\"\u001B[39;49m\u001B[43m,\u001B[49m\u001B[43m \u001B[49m\u001B[43mpil_kwargs\u001B[49m\u001B[43m,\u001B[49m\u001B[43m \u001B[49m\u001B[43mmetadata\u001B[49m\u001B[43m)\u001B[49m\n",
      "File \u001B[1;32m~\\anaconda3\\envs\\zerobase\\lib\\site-packages\\matplotlib\\backends\\backend_agg.py:457\u001B[0m, in \u001B[0;36mFigureCanvasAgg._print_pil\u001B[1;34m(self, filename_or_obj, fmt, pil_kwargs, metadata)\u001B[0m\n\u001B[0;32m    452\u001B[0m \u001B[38;5;28;01mdef\u001B[39;00m \u001B[38;5;21m_print_pil\u001B[39m(\u001B[38;5;28mself\u001B[39m, filename_or_obj, fmt, pil_kwargs, metadata\u001B[38;5;241m=\u001B[39m\u001B[38;5;28;01mNone\u001B[39;00m):\n\u001B[0;32m    453\u001B[0m \u001B[38;5;250m    \u001B[39m\u001B[38;5;124;03m\"\"\"\u001B[39;00m\n\u001B[0;32m    454\u001B[0m \u001B[38;5;124;03m    Draw the canvas, then save it using `.image.imsave` (to which\u001B[39;00m\n\u001B[0;32m    455\u001B[0m \u001B[38;5;124;03m    *pil_kwargs* and *metadata* are forwarded).\u001B[39;00m\n\u001B[0;32m    456\u001B[0m \u001B[38;5;124;03m    \"\"\"\u001B[39;00m\n\u001B[1;32m--> 457\u001B[0m     \u001B[43mFigureCanvasAgg\u001B[49m\u001B[38;5;241;43m.\u001B[39;49m\u001B[43mdraw\u001B[49m\u001B[43m(\u001B[49m\u001B[38;5;28;43mself\u001B[39;49m\u001B[43m)\u001B[49m\n\u001B[0;32m    458\u001B[0m     mpl\u001B[38;5;241m.\u001B[39mimage\u001B[38;5;241m.\u001B[39mimsave(\n\u001B[0;32m    459\u001B[0m         filename_or_obj, \u001B[38;5;28mself\u001B[39m\u001B[38;5;241m.\u001B[39mbuffer_rgba(), \u001B[38;5;28mformat\u001B[39m\u001B[38;5;241m=\u001B[39mfmt, origin\u001B[38;5;241m=\u001B[39m\u001B[38;5;124m\"\u001B[39m\u001B[38;5;124mupper\u001B[39m\u001B[38;5;124m\"\u001B[39m,\n\u001B[0;32m    460\u001B[0m         dpi\u001B[38;5;241m=\u001B[39m\u001B[38;5;28mself\u001B[39m\u001B[38;5;241m.\u001B[39mfigure\u001B[38;5;241m.\u001B[39mdpi, metadata\u001B[38;5;241m=\u001B[39mmetadata, pil_kwargs\u001B[38;5;241m=\u001B[39mpil_kwargs)\n",
      "File \u001B[1;32m~\\anaconda3\\envs\\zerobase\\lib\\site-packages\\matplotlib\\backends\\backend_agg.py:394\u001B[0m, in \u001B[0;36mFigureCanvasAgg.draw\u001B[1;34m(self)\u001B[0m\n\u001B[0;32m    392\u001B[0m \u001B[38;5;28;01mdef\u001B[39;00m \u001B[38;5;21mdraw\u001B[39m(\u001B[38;5;28mself\u001B[39m):\n\u001B[0;32m    393\u001B[0m     \u001B[38;5;66;03m# docstring inherited\u001B[39;00m\n\u001B[1;32m--> 394\u001B[0m     \u001B[38;5;28mself\u001B[39m\u001B[38;5;241m.\u001B[39mrenderer \u001B[38;5;241m=\u001B[39m \u001B[38;5;28;43mself\u001B[39;49m\u001B[38;5;241;43m.\u001B[39;49m\u001B[43mget_renderer\u001B[49m\u001B[43m(\u001B[49m\u001B[43m)\u001B[49m\n\u001B[0;32m    395\u001B[0m     \u001B[38;5;28mself\u001B[39m\u001B[38;5;241m.\u001B[39mrenderer\u001B[38;5;241m.\u001B[39mclear()\n\u001B[0;32m    396\u001B[0m     \u001B[38;5;66;03m# Acquire a lock on the shared font cache.\u001B[39;00m\n",
      "File \u001B[1;32m~\\anaconda3\\envs\\zerobase\\lib\\site-packages\\matplotlib\\_api\\deprecation.py:384\u001B[0m, in \u001B[0;36mdelete_parameter.<locals>.wrapper\u001B[1;34m(*inner_args, **inner_kwargs)\u001B[0m\n\u001B[0;32m    379\u001B[0m \u001B[38;5;129m@functools\u001B[39m\u001B[38;5;241m.\u001B[39mwraps(func)\n\u001B[0;32m    380\u001B[0m \u001B[38;5;28;01mdef\u001B[39;00m \u001B[38;5;21mwrapper\u001B[39m(\u001B[38;5;241m*\u001B[39minner_args, \u001B[38;5;241m*\u001B[39m\u001B[38;5;241m*\u001B[39minner_kwargs):\n\u001B[0;32m    381\u001B[0m     \u001B[38;5;28;01mif\u001B[39;00m \u001B[38;5;28mlen\u001B[39m(inner_args) \u001B[38;5;241m<\u001B[39m\u001B[38;5;241m=\u001B[39m name_idx \u001B[38;5;129;01mand\u001B[39;00m name \u001B[38;5;129;01mnot\u001B[39;00m \u001B[38;5;129;01min\u001B[39;00m inner_kwargs:\n\u001B[0;32m    382\u001B[0m         \u001B[38;5;66;03m# Early return in the simple, non-deprecated case (much faster than\u001B[39;00m\n\u001B[0;32m    383\u001B[0m         \u001B[38;5;66;03m# calling bind()).\u001B[39;00m\n\u001B[1;32m--> 384\u001B[0m         \u001B[38;5;28;01mreturn\u001B[39;00m \u001B[43mfunc\u001B[49m\u001B[43m(\u001B[49m\u001B[38;5;241;43m*\u001B[39;49m\u001B[43minner_args\u001B[49m\u001B[43m,\u001B[49m\u001B[43m \u001B[49m\u001B[38;5;241;43m*\u001B[39;49m\u001B[38;5;241;43m*\u001B[39;49m\u001B[43minner_kwargs\u001B[49m\u001B[43m)\u001B[49m\n\u001B[0;32m    385\u001B[0m     arguments \u001B[38;5;241m=\u001B[39m signature\u001B[38;5;241m.\u001B[39mbind(\u001B[38;5;241m*\u001B[39minner_args, \u001B[38;5;241m*\u001B[39m\u001B[38;5;241m*\u001B[39minner_kwargs)\u001B[38;5;241m.\u001B[39marguments\n\u001B[0;32m    386\u001B[0m     \u001B[38;5;28;01mif\u001B[39;00m is_varargs \u001B[38;5;129;01mand\u001B[39;00m arguments\u001B[38;5;241m.\u001B[39mget(name):\n",
      "File \u001B[1;32m~\\anaconda3\\envs\\zerobase\\lib\\site-packages\\matplotlib\\backends\\backend_agg.py:411\u001B[0m, in \u001B[0;36mFigureCanvasAgg.get_renderer\u001B[1;34m(self, cleared)\u001B[0m\n\u001B[0;32m    409\u001B[0m reuse_renderer \u001B[38;5;241m=\u001B[39m (\u001B[38;5;28mself\u001B[39m\u001B[38;5;241m.\u001B[39m_lastKey \u001B[38;5;241m==\u001B[39m key)\n\u001B[0;32m    410\u001B[0m \u001B[38;5;28;01mif\u001B[39;00m \u001B[38;5;129;01mnot\u001B[39;00m reuse_renderer:\n\u001B[1;32m--> 411\u001B[0m     \u001B[38;5;28mself\u001B[39m\u001B[38;5;241m.\u001B[39mrenderer \u001B[38;5;241m=\u001B[39m \u001B[43mRendererAgg\u001B[49m\u001B[43m(\u001B[49m\u001B[43mw\u001B[49m\u001B[43m,\u001B[49m\u001B[43m \u001B[49m\u001B[43mh\u001B[49m\u001B[43m,\u001B[49m\u001B[43m \u001B[49m\u001B[38;5;28;43mself\u001B[39;49m\u001B[38;5;241;43m.\u001B[39;49m\u001B[43mfigure\u001B[49m\u001B[38;5;241;43m.\u001B[39;49m\u001B[43mdpi\u001B[49m\u001B[43m)\u001B[49m\n\u001B[0;32m    412\u001B[0m     \u001B[38;5;28mself\u001B[39m\u001B[38;5;241m.\u001B[39m_lastKey \u001B[38;5;241m=\u001B[39m key\n\u001B[0;32m    413\u001B[0m \u001B[38;5;28;01melif\u001B[39;00m cleared:\n",
      "File \u001B[1;32m~\\anaconda3\\envs\\zerobase\\lib\\site-packages\\matplotlib\\backends\\backend_agg.py:84\u001B[0m, in \u001B[0;36mRendererAgg.__init__\u001B[1;34m(self, width, height, dpi)\u001B[0m\n\u001B[0;32m     82\u001B[0m \u001B[38;5;28mself\u001B[39m\u001B[38;5;241m.\u001B[39mwidth \u001B[38;5;241m=\u001B[39m width\n\u001B[0;32m     83\u001B[0m \u001B[38;5;28mself\u001B[39m\u001B[38;5;241m.\u001B[39mheight \u001B[38;5;241m=\u001B[39m height\n\u001B[1;32m---> 84\u001B[0m \u001B[38;5;28mself\u001B[39m\u001B[38;5;241m.\u001B[39m_renderer \u001B[38;5;241m=\u001B[39m \u001B[43m_RendererAgg\u001B[49m\u001B[43m(\u001B[49m\u001B[38;5;28;43mint\u001B[39;49m\u001B[43m(\u001B[49m\u001B[43mwidth\u001B[49m\u001B[43m)\u001B[49m\u001B[43m,\u001B[49m\u001B[43m \u001B[49m\u001B[38;5;28;43mint\u001B[39;49m\u001B[43m(\u001B[49m\u001B[43mheight\u001B[49m\u001B[43m)\u001B[49m\u001B[43m,\u001B[49m\u001B[43m \u001B[49m\u001B[43mdpi\u001B[49m\u001B[43m)\u001B[49m\n\u001B[0;32m     85\u001B[0m \u001B[38;5;28mself\u001B[39m\u001B[38;5;241m.\u001B[39m_filter_renderers \u001B[38;5;241m=\u001B[39m []\n\u001B[0;32m     87\u001B[0m \u001B[38;5;28mself\u001B[39m\u001B[38;5;241m.\u001B[39m_update_methods()\n",
      "\u001B[1;31mValueError\u001B[0m: Image size of 123669237x298899 pixels is too large. It must be less than 2^16 in each direction."
     ]
    },
    {
     "data": {
      "text/plain": "<Figure size 640x480 with 1 Axes>"
     },
     "metadata": {},
     "output_type": "display_data"
    },
    {
     "ename": "ValueError",
     "evalue": "Image size of 225337403x331860 pixels is too large. It must be less than 2^16 in each direction.",
     "output_type": "error",
     "traceback": [
      "\u001B[1;31m---------------------------------------------------------------------------\u001B[0m",
      "\u001B[1;31mValueError\u001B[0m                                Traceback (most recent call last)",
      "File \u001B[1;32m~\\anaconda3\\envs\\zerobase\\lib\\site-packages\\IPython\\core\\formatters.py:338\u001B[0m, in \u001B[0;36mBaseFormatter.__call__\u001B[1;34m(self, obj)\u001B[0m\n\u001B[0;32m    336\u001B[0m     \u001B[38;5;28;01mpass\u001B[39;00m\n\u001B[0;32m    337\u001B[0m \u001B[38;5;28;01melse\u001B[39;00m:\n\u001B[1;32m--> 338\u001B[0m     \u001B[38;5;28;01mreturn\u001B[39;00m \u001B[43mprinter\u001B[49m\u001B[43m(\u001B[49m\u001B[43mobj\u001B[49m\u001B[43m)\u001B[49m\n\u001B[0;32m    339\u001B[0m \u001B[38;5;66;03m# Finally look for special method names\u001B[39;00m\n\u001B[0;32m    340\u001B[0m method \u001B[38;5;241m=\u001B[39m get_real_method(obj, \u001B[38;5;28mself\u001B[39m\u001B[38;5;241m.\u001B[39mprint_method)\n",
      "File \u001B[1;32m~\\anaconda3\\envs\\zerobase\\lib\\site-packages\\IPython\\core\\pylabtools.py:152\u001B[0m, in \u001B[0;36mprint_figure\u001B[1;34m(fig, fmt, bbox_inches, base64, **kwargs)\u001B[0m\n\u001B[0;32m    149\u001B[0m     \u001B[38;5;28;01mfrom\u001B[39;00m \u001B[38;5;21;01mmatplotlib\u001B[39;00m\u001B[38;5;21;01m.\u001B[39;00m\u001B[38;5;21;01mbackend_bases\u001B[39;00m \u001B[38;5;28;01mimport\u001B[39;00m FigureCanvasBase\n\u001B[0;32m    150\u001B[0m     FigureCanvasBase(fig)\n\u001B[1;32m--> 152\u001B[0m \u001B[43mfig\u001B[49m\u001B[38;5;241;43m.\u001B[39;49m\u001B[43mcanvas\u001B[49m\u001B[38;5;241;43m.\u001B[39;49m\u001B[43mprint_figure\u001B[49m\u001B[43m(\u001B[49m\u001B[43mbytes_io\u001B[49m\u001B[43m,\u001B[49m\u001B[43m \u001B[49m\u001B[38;5;241;43m*\u001B[39;49m\u001B[38;5;241;43m*\u001B[39;49m\u001B[43mkw\u001B[49m\u001B[43m)\u001B[49m\n\u001B[0;32m    153\u001B[0m data \u001B[38;5;241m=\u001B[39m bytes_io\u001B[38;5;241m.\u001B[39mgetvalue()\n\u001B[0;32m    154\u001B[0m \u001B[38;5;28;01mif\u001B[39;00m fmt \u001B[38;5;241m==\u001B[39m \u001B[38;5;124m'\u001B[39m\u001B[38;5;124msvg\u001B[39m\u001B[38;5;124m'\u001B[39m:\n",
      "File \u001B[1;32m~\\anaconda3\\envs\\zerobase\\lib\\site-packages\\matplotlib\\backend_bases.py:2362\u001B[0m, in \u001B[0;36mFigureCanvasBase.print_figure\u001B[1;34m(self, filename, dpi, facecolor, edgecolor, orientation, format, bbox_inches, pad_inches, bbox_extra_artists, backend, **kwargs)\u001B[0m\n\u001B[0;32m   2358\u001B[0m \u001B[38;5;28;01mtry\u001B[39;00m:\n\u001B[0;32m   2359\u001B[0m     \u001B[38;5;66;03m# _get_renderer may change the figure dpi (as vector formats\u001B[39;00m\n\u001B[0;32m   2360\u001B[0m     \u001B[38;5;66;03m# force the figure dpi to 72), so we need to set it again here.\u001B[39;00m\n\u001B[0;32m   2361\u001B[0m     \u001B[38;5;28;01mwith\u001B[39;00m cbook\u001B[38;5;241m.\u001B[39m_setattr_cm(\u001B[38;5;28mself\u001B[39m\u001B[38;5;241m.\u001B[39mfigure, dpi\u001B[38;5;241m=\u001B[39mdpi):\n\u001B[1;32m-> 2362\u001B[0m         result \u001B[38;5;241m=\u001B[39m \u001B[43mprint_method\u001B[49m\u001B[43m(\u001B[49m\n\u001B[0;32m   2363\u001B[0m \u001B[43m            \u001B[49m\u001B[43mfilename\u001B[49m\u001B[43m,\u001B[49m\n\u001B[0;32m   2364\u001B[0m \u001B[43m            \u001B[49m\u001B[43mfacecolor\u001B[49m\u001B[38;5;241;43m=\u001B[39;49m\u001B[43mfacecolor\u001B[49m\u001B[43m,\u001B[49m\n\u001B[0;32m   2365\u001B[0m \u001B[43m            \u001B[49m\u001B[43medgecolor\u001B[49m\u001B[38;5;241;43m=\u001B[39;49m\u001B[43medgecolor\u001B[49m\u001B[43m,\u001B[49m\n\u001B[0;32m   2366\u001B[0m \u001B[43m            \u001B[49m\u001B[43morientation\u001B[49m\u001B[38;5;241;43m=\u001B[39;49m\u001B[43morientation\u001B[49m\u001B[43m,\u001B[49m\n\u001B[0;32m   2367\u001B[0m \u001B[43m            \u001B[49m\u001B[43mbbox_inches_restore\u001B[49m\u001B[38;5;241;43m=\u001B[39;49m\u001B[43m_bbox_inches_restore\u001B[49m\u001B[43m,\u001B[49m\n\u001B[0;32m   2368\u001B[0m \u001B[43m            \u001B[49m\u001B[38;5;241;43m*\u001B[39;49m\u001B[38;5;241;43m*\u001B[39;49m\u001B[43mkwargs\u001B[49m\u001B[43m)\u001B[49m\n\u001B[0;32m   2369\u001B[0m \u001B[38;5;28;01mfinally\u001B[39;00m:\n\u001B[0;32m   2370\u001B[0m     \u001B[38;5;28;01mif\u001B[39;00m bbox_inches \u001B[38;5;129;01mand\u001B[39;00m restore_bbox:\n",
      "File \u001B[1;32m~\\anaconda3\\envs\\zerobase\\lib\\site-packages\\matplotlib\\backend_bases.py:2228\u001B[0m, in \u001B[0;36mFigureCanvasBase._switch_canvas_and_return_print_method.<locals>.<lambda>\u001B[1;34m(*args, **kwargs)\u001B[0m\n\u001B[0;32m   2224\u001B[0m     optional_kws \u001B[38;5;241m=\u001B[39m {  \u001B[38;5;66;03m# Passed by print_figure for other renderers.\u001B[39;00m\n\u001B[0;32m   2225\u001B[0m         \u001B[38;5;124m\"\u001B[39m\u001B[38;5;124mdpi\u001B[39m\u001B[38;5;124m\"\u001B[39m, \u001B[38;5;124m\"\u001B[39m\u001B[38;5;124mfacecolor\u001B[39m\u001B[38;5;124m\"\u001B[39m, \u001B[38;5;124m\"\u001B[39m\u001B[38;5;124medgecolor\u001B[39m\u001B[38;5;124m\"\u001B[39m, \u001B[38;5;124m\"\u001B[39m\u001B[38;5;124morientation\u001B[39m\u001B[38;5;124m\"\u001B[39m,\n\u001B[0;32m   2226\u001B[0m         \u001B[38;5;124m\"\u001B[39m\u001B[38;5;124mbbox_inches_restore\u001B[39m\u001B[38;5;124m\"\u001B[39m}\n\u001B[0;32m   2227\u001B[0m     skip \u001B[38;5;241m=\u001B[39m optional_kws \u001B[38;5;241m-\u001B[39m {\u001B[38;5;241m*\u001B[39minspect\u001B[38;5;241m.\u001B[39msignature(meth)\u001B[38;5;241m.\u001B[39mparameters}\n\u001B[1;32m-> 2228\u001B[0m     print_method \u001B[38;5;241m=\u001B[39m functools\u001B[38;5;241m.\u001B[39mwraps(meth)(\u001B[38;5;28;01mlambda\u001B[39;00m \u001B[38;5;241m*\u001B[39margs, \u001B[38;5;241m*\u001B[39m\u001B[38;5;241m*\u001B[39mkwargs: \u001B[43mmeth\u001B[49m\u001B[43m(\u001B[49m\n\u001B[0;32m   2229\u001B[0m \u001B[43m        \u001B[49m\u001B[38;5;241;43m*\u001B[39;49m\u001B[43margs\u001B[49m\u001B[43m,\u001B[49m\u001B[43m \u001B[49m\u001B[38;5;241;43m*\u001B[39;49m\u001B[38;5;241;43m*\u001B[39;49m\u001B[43m{\u001B[49m\u001B[43mk\u001B[49m\u001B[43m:\u001B[49m\u001B[43m \u001B[49m\u001B[43mv\u001B[49m\u001B[43m \u001B[49m\u001B[38;5;28;43;01mfor\u001B[39;49;00m\u001B[43m \u001B[49m\u001B[43mk\u001B[49m\u001B[43m,\u001B[49m\u001B[43m \u001B[49m\u001B[43mv\u001B[49m\u001B[43m \u001B[49m\u001B[38;5;129;43;01min\u001B[39;49;00m\u001B[43m \u001B[49m\u001B[43mkwargs\u001B[49m\u001B[38;5;241;43m.\u001B[39;49m\u001B[43mitems\u001B[49m\u001B[43m(\u001B[49m\u001B[43m)\u001B[49m\u001B[43m \u001B[49m\u001B[38;5;28;43;01mif\u001B[39;49;00m\u001B[43m \u001B[49m\u001B[43mk\u001B[49m\u001B[43m \u001B[49m\u001B[38;5;129;43;01mnot\u001B[39;49;00m\u001B[43m \u001B[49m\u001B[38;5;129;43;01min\u001B[39;49;00m\u001B[43m \u001B[49m\u001B[43mskip\u001B[49m\u001B[43m}\u001B[49m\u001B[43m)\u001B[49m)\n\u001B[0;32m   2230\u001B[0m \u001B[38;5;28;01melse\u001B[39;00m:  \u001B[38;5;66;03m# Let third-parties do as they see fit.\u001B[39;00m\n\u001B[0;32m   2231\u001B[0m     print_method \u001B[38;5;241m=\u001B[39m meth\n",
      "File \u001B[1;32m~\\anaconda3\\envs\\zerobase\\lib\\site-packages\\matplotlib\\backends\\backend_agg.py:509\u001B[0m, in \u001B[0;36mFigureCanvasAgg.print_png\u001B[1;34m(self, filename_or_obj, metadata, pil_kwargs)\u001B[0m\n\u001B[0;32m    462\u001B[0m \u001B[38;5;28;01mdef\u001B[39;00m \u001B[38;5;21mprint_png\u001B[39m(\u001B[38;5;28mself\u001B[39m, filename_or_obj, \u001B[38;5;241m*\u001B[39m, metadata\u001B[38;5;241m=\u001B[39m\u001B[38;5;28;01mNone\u001B[39;00m, pil_kwargs\u001B[38;5;241m=\u001B[39m\u001B[38;5;28;01mNone\u001B[39;00m):\n\u001B[0;32m    463\u001B[0m \u001B[38;5;250m    \u001B[39m\u001B[38;5;124;03m\"\"\"\u001B[39;00m\n\u001B[0;32m    464\u001B[0m \u001B[38;5;124;03m    Write the figure to a PNG file.\u001B[39;00m\n\u001B[0;32m    465\u001B[0m \n\u001B[1;32m   (...)\u001B[0m\n\u001B[0;32m    507\u001B[0m \u001B[38;5;124;03m        *metadata*, including the default 'Software' key.\u001B[39;00m\n\u001B[0;32m    508\u001B[0m \u001B[38;5;124;03m    \"\"\"\u001B[39;00m\n\u001B[1;32m--> 509\u001B[0m     \u001B[38;5;28;43mself\u001B[39;49m\u001B[38;5;241;43m.\u001B[39;49m\u001B[43m_print_pil\u001B[49m\u001B[43m(\u001B[49m\u001B[43mfilename_or_obj\u001B[49m\u001B[43m,\u001B[49m\u001B[43m \u001B[49m\u001B[38;5;124;43m\"\u001B[39;49m\u001B[38;5;124;43mpng\u001B[39;49m\u001B[38;5;124;43m\"\u001B[39;49m\u001B[43m,\u001B[49m\u001B[43m \u001B[49m\u001B[43mpil_kwargs\u001B[49m\u001B[43m,\u001B[49m\u001B[43m \u001B[49m\u001B[43mmetadata\u001B[49m\u001B[43m)\u001B[49m\n",
      "File \u001B[1;32m~\\anaconda3\\envs\\zerobase\\lib\\site-packages\\matplotlib\\backends\\backend_agg.py:457\u001B[0m, in \u001B[0;36mFigureCanvasAgg._print_pil\u001B[1;34m(self, filename_or_obj, fmt, pil_kwargs, metadata)\u001B[0m\n\u001B[0;32m    452\u001B[0m \u001B[38;5;28;01mdef\u001B[39;00m \u001B[38;5;21m_print_pil\u001B[39m(\u001B[38;5;28mself\u001B[39m, filename_or_obj, fmt, pil_kwargs, metadata\u001B[38;5;241m=\u001B[39m\u001B[38;5;28;01mNone\u001B[39;00m):\n\u001B[0;32m    453\u001B[0m \u001B[38;5;250m    \u001B[39m\u001B[38;5;124;03m\"\"\"\u001B[39;00m\n\u001B[0;32m    454\u001B[0m \u001B[38;5;124;03m    Draw the canvas, then save it using `.image.imsave` (to which\u001B[39;00m\n\u001B[0;32m    455\u001B[0m \u001B[38;5;124;03m    *pil_kwargs* and *metadata* are forwarded).\u001B[39;00m\n\u001B[0;32m    456\u001B[0m \u001B[38;5;124;03m    \"\"\"\u001B[39;00m\n\u001B[1;32m--> 457\u001B[0m     \u001B[43mFigureCanvasAgg\u001B[49m\u001B[38;5;241;43m.\u001B[39;49m\u001B[43mdraw\u001B[49m\u001B[43m(\u001B[49m\u001B[38;5;28;43mself\u001B[39;49m\u001B[43m)\u001B[49m\n\u001B[0;32m    458\u001B[0m     mpl\u001B[38;5;241m.\u001B[39mimage\u001B[38;5;241m.\u001B[39mimsave(\n\u001B[0;32m    459\u001B[0m         filename_or_obj, \u001B[38;5;28mself\u001B[39m\u001B[38;5;241m.\u001B[39mbuffer_rgba(), \u001B[38;5;28mformat\u001B[39m\u001B[38;5;241m=\u001B[39mfmt, origin\u001B[38;5;241m=\u001B[39m\u001B[38;5;124m\"\u001B[39m\u001B[38;5;124mupper\u001B[39m\u001B[38;5;124m\"\u001B[39m,\n\u001B[0;32m    460\u001B[0m         dpi\u001B[38;5;241m=\u001B[39m\u001B[38;5;28mself\u001B[39m\u001B[38;5;241m.\u001B[39mfigure\u001B[38;5;241m.\u001B[39mdpi, metadata\u001B[38;5;241m=\u001B[39mmetadata, pil_kwargs\u001B[38;5;241m=\u001B[39mpil_kwargs)\n",
      "File \u001B[1;32m~\\anaconda3\\envs\\zerobase\\lib\\site-packages\\matplotlib\\backends\\backend_agg.py:394\u001B[0m, in \u001B[0;36mFigureCanvasAgg.draw\u001B[1;34m(self)\u001B[0m\n\u001B[0;32m    392\u001B[0m \u001B[38;5;28;01mdef\u001B[39;00m \u001B[38;5;21mdraw\u001B[39m(\u001B[38;5;28mself\u001B[39m):\n\u001B[0;32m    393\u001B[0m     \u001B[38;5;66;03m# docstring inherited\u001B[39;00m\n\u001B[1;32m--> 394\u001B[0m     \u001B[38;5;28mself\u001B[39m\u001B[38;5;241m.\u001B[39mrenderer \u001B[38;5;241m=\u001B[39m \u001B[38;5;28;43mself\u001B[39;49m\u001B[38;5;241;43m.\u001B[39;49m\u001B[43mget_renderer\u001B[49m\u001B[43m(\u001B[49m\u001B[43m)\u001B[49m\n\u001B[0;32m    395\u001B[0m     \u001B[38;5;28mself\u001B[39m\u001B[38;5;241m.\u001B[39mrenderer\u001B[38;5;241m.\u001B[39mclear()\n\u001B[0;32m    396\u001B[0m     \u001B[38;5;66;03m# Acquire a lock on the shared font cache.\u001B[39;00m\n",
      "File \u001B[1;32m~\\anaconda3\\envs\\zerobase\\lib\\site-packages\\matplotlib\\_api\\deprecation.py:384\u001B[0m, in \u001B[0;36mdelete_parameter.<locals>.wrapper\u001B[1;34m(*inner_args, **inner_kwargs)\u001B[0m\n\u001B[0;32m    379\u001B[0m \u001B[38;5;129m@functools\u001B[39m\u001B[38;5;241m.\u001B[39mwraps(func)\n\u001B[0;32m    380\u001B[0m \u001B[38;5;28;01mdef\u001B[39;00m \u001B[38;5;21mwrapper\u001B[39m(\u001B[38;5;241m*\u001B[39minner_args, \u001B[38;5;241m*\u001B[39m\u001B[38;5;241m*\u001B[39minner_kwargs):\n\u001B[0;32m    381\u001B[0m     \u001B[38;5;28;01mif\u001B[39;00m \u001B[38;5;28mlen\u001B[39m(inner_args) \u001B[38;5;241m<\u001B[39m\u001B[38;5;241m=\u001B[39m name_idx \u001B[38;5;129;01mand\u001B[39;00m name \u001B[38;5;129;01mnot\u001B[39;00m \u001B[38;5;129;01min\u001B[39;00m inner_kwargs:\n\u001B[0;32m    382\u001B[0m         \u001B[38;5;66;03m# Early return in the simple, non-deprecated case (much faster than\u001B[39;00m\n\u001B[0;32m    383\u001B[0m         \u001B[38;5;66;03m# calling bind()).\u001B[39;00m\n\u001B[1;32m--> 384\u001B[0m         \u001B[38;5;28;01mreturn\u001B[39;00m \u001B[43mfunc\u001B[49m\u001B[43m(\u001B[49m\u001B[38;5;241;43m*\u001B[39;49m\u001B[43minner_args\u001B[49m\u001B[43m,\u001B[49m\u001B[43m \u001B[49m\u001B[38;5;241;43m*\u001B[39;49m\u001B[38;5;241;43m*\u001B[39;49m\u001B[43minner_kwargs\u001B[49m\u001B[43m)\u001B[49m\n\u001B[0;32m    385\u001B[0m     arguments \u001B[38;5;241m=\u001B[39m signature\u001B[38;5;241m.\u001B[39mbind(\u001B[38;5;241m*\u001B[39minner_args, \u001B[38;5;241m*\u001B[39m\u001B[38;5;241m*\u001B[39minner_kwargs)\u001B[38;5;241m.\u001B[39marguments\n\u001B[0;32m    386\u001B[0m     \u001B[38;5;28;01mif\u001B[39;00m is_varargs \u001B[38;5;129;01mand\u001B[39;00m arguments\u001B[38;5;241m.\u001B[39mget(name):\n",
      "File \u001B[1;32m~\\anaconda3\\envs\\zerobase\\lib\\site-packages\\matplotlib\\backends\\backend_agg.py:411\u001B[0m, in \u001B[0;36mFigureCanvasAgg.get_renderer\u001B[1;34m(self, cleared)\u001B[0m\n\u001B[0;32m    409\u001B[0m reuse_renderer \u001B[38;5;241m=\u001B[39m (\u001B[38;5;28mself\u001B[39m\u001B[38;5;241m.\u001B[39m_lastKey \u001B[38;5;241m==\u001B[39m key)\n\u001B[0;32m    410\u001B[0m \u001B[38;5;28;01mif\u001B[39;00m \u001B[38;5;129;01mnot\u001B[39;00m reuse_renderer:\n\u001B[1;32m--> 411\u001B[0m     \u001B[38;5;28mself\u001B[39m\u001B[38;5;241m.\u001B[39mrenderer \u001B[38;5;241m=\u001B[39m \u001B[43mRendererAgg\u001B[49m\u001B[43m(\u001B[49m\u001B[43mw\u001B[49m\u001B[43m,\u001B[49m\u001B[43m \u001B[49m\u001B[43mh\u001B[49m\u001B[43m,\u001B[49m\u001B[43m \u001B[49m\u001B[38;5;28;43mself\u001B[39;49m\u001B[38;5;241;43m.\u001B[39;49m\u001B[43mfigure\u001B[49m\u001B[38;5;241;43m.\u001B[39;49m\u001B[43mdpi\u001B[49m\u001B[43m)\u001B[49m\n\u001B[0;32m    412\u001B[0m     \u001B[38;5;28mself\u001B[39m\u001B[38;5;241m.\u001B[39m_lastKey \u001B[38;5;241m=\u001B[39m key\n\u001B[0;32m    413\u001B[0m \u001B[38;5;28;01melif\u001B[39;00m cleared:\n",
      "File \u001B[1;32m~\\anaconda3\\envs\\zerobase\\lib\\site-packages\\matplotlib\\backends\\backend_agg.py:84\u001B[0m, in \u001B[0;36mRendererAgg.__init__\u001B[1;34m(self, width, height, dpi)\u001B[0m\n\u001B[0;32m     82\u001B[0m \u001B[38;5;28mself\u001B[39m\u001B[38;5;241m.\u001B[39mwidth \u001B[38;5;241m=\u001B[39m width\n\u001B[0;32m     83\u001B[0m \u001B[38;5;28mself\u001B[39m\u001B[38;5;241m.\u001B[39mheight \u001B[38;5;241m=\u001B[39m height\n\u001B[1;32m---> 84\u001B[0m \u001B[38;5;28mself\u001B[39m\u001B[38;5;241m.\u001B[39m_renderer \u001B[38;5;241m=\u001B[39m \u001B[43m_RendererAgg\u001B[49m\u001B[43m(\u001B[49m\u001B[38;5;28;43mint\u001B[39;49m\u001B[43m(\u001B[49m\u001B[43mwidth\u001B[49m\u001B[43m)\u001B[49m\u001B[43m,\u001B[49m\u001B[43m \u001B[49m\u001B[38;5;28;43mint\u001B[39;49m\u001B[43m(\u001B[49m\u001B[43mheight\u001B[49m\u001B[43m)\u001B[49m\u001B[43m,\u001B[49m\u001B[43m \u001B[49m\u001B[43mdpi\u001B[49m\u001B[43m)\u001B[49m\n\u001B[0;32m     85\u001B[0m \u001B[38;5;28mself\u001B[39m\u001B[38;5;241m.\u001B[39m_filter_renderers \u001B[38;5;241m=\u001B[39m []\n\u001B[0;32m     87\u001B[0m \u001B[38;5;28mself\u001B[39m\u001B[38;5;241m.\u001B[39m_update_methods()\n",
      "\u001B[1;31mValueError\u001B[0m: Image size of 225337403x331860 pixels is too large. It must be less than 2^16 in each direction."
     ]
    },
    {
     "data": {
      "text/plain": "<Figure size 640x480 with 1 Axes>"
     },
     "metadata": {},
     "output_type": "display_data"
    },
    {
     "ename": "ValueError",
     "evalue": "Image size of 248509045x318096 pixels is too large. It must be less than 2^16 in each direction.",
     "output_type": "error",
     "traceback": [
      "\u001B[1;31m---------------------------------------------------------------------------\u001B[0m",
      "\u001B[1;31mValueError\u001B[0m                                Traceback (most recent call last)",
      "File \u001B[1;32m~\\anaconda3\\envs\\zerobase\\lib\\site-packages\\IPython\\core\\formatters.py:338\u001B[0m, in \u001B[0;36mBaseFormatter.__call__\u001B[1;34m(self, obj)\u001B[0m\n\u001B[0;32m    336\u001B[0m     \u001B[38;5;28;01mpass\u001B[39;00m\n\u001B[0;32m    337\u001B[0m \u001B[38;5;28;01melse\u001B[39;00m:\n\u001B[1;32m--> 338\u001B[0m     \u001B[38;5;28;01mreturn\u001B[39;00m \u001B[43mprinter\u001B[49m\u001B[43m(\u001B[49m\u001B[43mobj\u001B[49m\u001B[43m)\u001B[49m\n\u001B[0;32m    339\u001B[0m \u001B[38;5;66;03m# Finally look for special method names\u001B[39;00m\n\u001B[0;32m    340\u001B[0m method \u001B[38;5;241m=\u001B[39m get_real_method(obj, \u001B[38;5;28mself\u001B[39m\u001B[38;5;241m.\u001B[39mprint_method)\n",
      "File \u001B[1;32m~\\anaconda3\\envs\\zerobase\\lib\\site-packages\\IPython\\core\\pylabtools.py:152\u001B[0m, in \u001B[0;36mprint_figure\u001B[1;34m(fig, fmt, bbox_inches, base64, **kwargs)\u001B[0m\n\u001B[0;32m    149\u001B[0m     \u001B[38;5;28;01mfrom\u001B[39;00m \u001B[38;5;21;01mmatplotlib\u001B[39;00m\u001B[38;5;21;01m.\u001B[39;00m\u001B[38;5;21;01mbackend_bases\u001B[39;00m \u001B[38;5;28;01mimport\u001B[39;00m FigureCanvasBase\n\u001B[0;32m    150\u001B[0m     FigureCanvasBase(fig)\n\u001B[1;32m--> 152\u001B[0m \u001B[43mfig\u001B[49m\u001B[38;5;241;43m.\u001B[39;49m\u001B[43mcanvas\u001B[49m\u001B[38;5;241;43m.\u001B[39;49m\u001B[43mprint_figure\u001B[49m\u001B[43m(\u001B[49m\u001B[43mbytes_io\u001B[49m\u001B[43m,\u001B[49m\u001B[43m \u001B[49m\u001B[38;5;241;43m*\u001B[39;49m\u001B[38;5;241;43m*\u001B[39;49m\u001B[43mkw\u001B[49m\u001B[43m)\u001B[49m\n\u001B[0;32m    153\u001B[0m data \u001B[38;5;241m=\u001B[39m bytes_io\u001B[38;5;241m.\u001B[39mgetvalue()\n\u001B[0;32m    154\u001B[0m \u001B[38;5;28;01mif\u001B[39;00m fmt \u001B[38;5;241m==\u001B[39m \u001B[38;5;124m'\u001B[39m\u001B[38;5;124msvg\u001B[39m\u001B[38;5;124m'\u001B[39m:\n",
      "File \u001B[1;32m~\\anaconda3\\envs\\zerobase\\lib\\site-packages\\matplotlib\\backend_bases.py:2362\u001B[0m, in \u001B[0;36mFigureCanvasBase.print_figure\u001B[1;34m(self, filename, dpi, facecolor, edgecolor, orientation, format, bbox_inches, pad_inches, bbox_extra_artists, backend, **kwargs)\u001B[0m\n\u001B[0;32m   2358\u001B[0m \u001B[38;5;28;01mtry\u001B[39;00m:\n\u001B[0;32m   2359\u001B[0m     \u001B[38;5;66;03m# _get_renderer may change the figure dpi (as vector formats\u001B[39;00m\n\u001B[0;32m   2360\u001B[0m     \u001B[38;5;66;03m# force the figure dpi to 72), so we need to set it again here.\u001B[39;00m\n\u001B[0;32m   2361\u001B[0m     \u001B[38;5;28;01mwith\u001B[39;00m cbook\u001B[38;5;241m.\u001B[39m_setattr_cm(\u001B[38;5;28mself\u001B[39m\u001B[38;5;241m.\u001B[39mfigure, dpi\u001B[38;5;241m=\u001B[39mdpi):\n\u001B[1;32m-> 2362\u001B[0m         result \u001B[38;5;241m=\u001B[39m \u001B[43mprint_method\u001B[49m\u001B[43m(\u001B[49m\n\u001B[0;32m   2363\u001B[0m \u001B[43m            \u001B[49m\u001B[43mfilename\u001B[49m\u001B[43m,\u001B[49m\n\u001B[0;32m   2364\u001B[0m \u001B[43m            \u001B[49m\u001B[43mfacecolor\u001B[49m\u001B[38;5;241;43m=\u001B[39;49m\u001B[43mfacecolor\u001B[49m\u001B[43m,\u001B[49m\n\u001B[0;32m   2365\u001B[0m \u001B[43m            \u001B[49m\u001B[43medgecolor\u001B[49m\u001B[38;5;241;43m=\u001B[39;49m\u001B[43medgecolor\u001B[49m\u001B[43m,\u001B[49m\n\u001B[0;32m   2366\u001B[0m \u001B[43m            \u001B[49m\u001B[43morientation\u001B[49m\u001B[38;5;241;43m=\u001B[39;49m\u001B[43morientation\u001B[49m\u001B[43m,\u001B[49m\n\u001B[0;32m   2367\u001B[0m \u001B[43m            \u001B[49m\u001B[43mbbox_inches_restore\u001B[49m\u001B[38;5;241;43m=\u001B[39;49m\u001B[43m_bbox_inches_restore\u001B[49m\u001B[43m,\u001B[49m\n\u001B[0;32m   2368\u001B[0m \u001B[43m            \u001B[49m\u001B[38;5;241;43m*\u001B[39;49m\u001B[38;5;241;43m*\u001B[39;49m\u001B[43mkwargs\u001B[49m\u001B[43m)\u001B[49m\n\u001B[0;32m   2369\u001B[0m \u001B[38;5;28;01mfinally\u001B[39;00m:\n\u001B[0;32m   2370\u001B[0m     \u001B[38;5;28;01mif\u001B[39;00m bbox_inches \u001B[38;5;129;01mand\u001B[39;00m restore_bbox:\n",
      "File \u001B[1;32m~\\anaconda3\\envs\\zerobase\\lib\\site-packages\\matplotlib\\backend_bases.py:2228\u001B[0m, in \u001B[0;36mFigureCanvasBase._switch_canvas_and_return_print_method.<locals>.<lambda>\u001B[1;34m(*args, **kwargs)\u001B[0m\n\u001B[0;32m   2224\u001B[0m     optional_kws \u001B[38;5;241m=\u001B[39m {  \u001B[38;5;66;03m# Passed by print_figure for other renderers.\u001B[39;00m\n\u001B[0;32m   2225\u001B[0m         \u001B[38;5;124m\"\u001B[39m\u001B[38;5;124mdpi\u001B[39m\u001B[38;5;124m\"\u001B[39m, \u001B[38;5;124m\"\u001B[39m\u001B[38;5;124mfacecolor\u001B[39m\u001B[38;5;124m\"\u001B[39m, \u001B[38;5;124m\"\u001B[39m\u001B[38;5;124medgecolor\u001B[39m\u001B[38;5;124m\"\u001B[39m, \u001B[38;5;124m\"\u001B[39m\u001B[38;5;124morientation\u001B[39m\u001B[38;5;124m\"\u001B[39m,\n\u001B[0;32m   2226\u001B[0m         \u001B[38;5;124m\"\u001B[39m\u001B[38;5;124mbbox_inches_restore\u001B[39m\u001B[38;5;124m\"\u001B[39m}\n\u001B[0;32m   2227\u001B[0m     skip \u001B[38;5;241m=\u001B[39m optional_kws \u001B[38;5;241m-\u001B[39m {\u001B[38;5;241m*\u001B[39minspect\u001B[38;5;241m.\u001B[39msignature(meth)\u001B[38;5;241m.\u001B[39mparameters}\n\u001B[1;32m-> 2228\u001B[0m     print_method \u001B[38;5;241m=\u001B[39m functools\u001B[38;5;241m.\u001B[39mwraps(meth)(\u001B[38;5;28;01mlambda\u001B[39;00m \u001B[38;5;241m*\u001B[39margs, \u001B[38;5;241m*\u001B[39m\u001B[38;5;241m*\u001B[39mkwargs: \u001B[43mmeth\u001B[49m\u001B[43m(\u001B[49m\n\u001B[0;32m   2229\u001B[0m \u001B[43m        \u001B[49m\u001B[38;5;241;43m*\u001B[39;49m\u001B[43margs\u001B[49m\u001B[43m,\u001B[49m\u001B[43m \u001B[49m\u001B[38;5;241;43m*\u001B[39;49m\u001B[38;5;241;43m*\u001B[39;49m\u001B[43m{\u001B[49m\u001B[43mk\u001B[49m\u001B[43m:\u001B[49m\u001B[43m \u001B[49m\u001B[43mv\u001B[49m\u001B[43m \u001B[49m\u001B[38;5;28;43;01mfor\u001B[39;49;00m\u001B[43m \u001B[49m\u001B[43mk\u001B[49m\u001B[43m,\u001B[49m\u001B[43m \u001B[49m\u001B[43mv\u001B[49m\u001B[43m \u001B[49m\u001B[38;5;129;43;01min\u001B[39;49;00m\u001B[43m \u001B[49m\u001B[43mkwargs\u001B[49m\u001B[38;5;241;43m.\u001B[39;49m\u001B[43mitems\u001B[49m\u001B[43m(\u001B[49m\u001B[43m)\u001B[49m\u001B[43m \u001B[49m\u001B[38;5;28;43;01mif\u001B[39;49;00m\u001B[43m \u001B[49m\u001B[43mk\u001B[49m\u001B[43m \u001B[49m\u001B[38;5;129;43;01mnot\u001B[39;49;00m\u001B[43m \u001B[49m\u001B[38;5;129;43;01min\u001B[39;49;00m\u001B[43m \u001B[49m\u001B[43mskip\u001B[49m\u001B[43m}\u001B[49m\u001B[43m)\u001B[49m)\n\u001B[0;32m   2230\u001B[0m \u001B[38;5;28;01melse\u001B[39;00m:  \u001B[38;5;66;03m# Let third-parties do as they see fit.\u001B[39;00m\n\u001B[0;32m   2231\u001B[0m     print_method \u001B[38;5;241m=\u001B[39m meth\n",
      "File \u001B[1;32m~\\anaconda3\\envs\\zerobase\\lib\\site-packages\\matplotlib\\backends\\backend_agg.py:509\u001B[0m, in \u001B[0;36mFigureCanvasAgg.print_png\u001B[1;34m(self, filename_or_obj, metadata, pil_kwargs)\u001B[0m\n\u001B[0;32m    462\u001B[0m \u001B[38;5;28;01mdef\u001B[39;00m \u001B[38;5;21mprint_png\u001B[39m(\u001B[38;5;28mself\u001B[39m, filename_or_obj, \u001B[38;5;241m*\u001B[39m, metadata\u001B[38;5;241m=\u001B[39m\u001B[38;5;28;01mNone\u001B[39;00m, pil_kwargs\u001B[38;5;241m=\u001B[39m\u001B[38;5;28;01mNone\u001B[39;00m):\n\u001B[0;32m    463\u001B[0m \u001B[38;5;250m    \u001B[39m\u001B[38;5;124;03m\"\"\"\u001B[39;00m\n\u001B[0;32m    464\u001B[0m \u001B[38;5;124;03m    Write the figure to a PNG file.\u001B[39;00m\n\u001B[0;32m    465\u001B[0m \n\u001B[1;32m   (...)\u001B[0m\n\u001B[0;32m    507\u001B[0m \u001B[38;5;124;03m        *metadata*, including the default 'Software' key.\u001B[39;00m\n\u001B[0;32m    508\u001B[0m \u001B[38;5;124;03m    \"\"\"\u001B[39;00m\n\u001B[1;32m--> 509\u001B[0m     \u001B[38;5;28;43mself\u001B[39;49m\u001B[38;5;241;43m.\u001B[39;49m\u001B[43m_print_pil\u001B[49m\u001B[43m(\u001B[49m\u001B[43mfilename_or_obj\u001B[49m\u001B[43m,\u001B[49m\u001B[43m \u001B[49m\u001B[38;5;124;43m\"\u001B[39;49m\u001B[38;5;124;43mpng\u001B[39;49m\u001B[38;5;124;43m\"\u001B[39;49m\u001B[43m,\u001B[49m\u001B[43m \u001B[49m\u001B[43mpil_kwargs\u001B[49m\u001B[43m,\u001B[49m\u001B[43m \u001B[49m\u001B[43mmetadata\u001B[49m\u001B[43m)\u001B[49m\n",
      "File \u001B[1;32m~\\anaconda3\\envs\\zerobase\\lib\\site-packages\\matplotlib\\backends\\backend_agg.py:457\u001B[0m, in \u001B[0;36mFigureCanvasAgg._print_pil\u001B[1;34m(self, filename_or_obj, fmt, pil_kwargs, metadata)\u001B[0m\n\u001B[0;32m    452\u001B[0m \u001B[38;5;28;01mdef\u001B[39;00m \u001B[38;5;21m_print_pil\u001B[39m(\u001B[38;5;28mself\u001B[39m, filename_or_obj, fmt, pil_kwargs, metadata\u001B[38;5;241m=\u001B[39m\u001B[38;5;28;01mNone\u001B[39;00m):\n\u001B[0;32m    453\u001B[0m \u001B[38;5;250m    \u001B[39m\u001B[38;5;124;03m\"\"\"\u001B[39;00m\n\u001B[0;32m    454\u001B[0m \u001B[38;5;124;03m    Draw the canvas, then save it using `.image.imsave` (to which\u001B[39;00m\n\u001B[0;32m    455\u001B[0m \u001B[38;5;124;03m    *pil_kwargs* and *metadata* are forwarded).\u001B[39;00m\n\u001B[0;32m    456\u001B[0m \u001B[38;5;124;03m    \"\"\"\u001B[39;00m\n\u001B[1;32m--> 457\u001B[0m     \u001B[43mFigureCanvasAgg\u001B[49m\u001B[38;5;241;43m.\u001B[39;49m\u001B[43mdraw\u001B[49m\u001B[43m(\u001B[49m\u001B[38;5;28;43mself\u001B[39;49m\u001B[43m)\u001B[49m\n\u001B[0;32m    458\u001B[0m     mpl\u001B[38;5;241m.\u001B[39mimage\u001B[38;5;241m.\u001B[39mimsave(\n\u001B[0;32m    459\u001B[0m         filename_or_obj, \u001B[38;5;28mself\u001B[39m\u001B[38;5;241m.\u001B[39mbuffer_rgba(), \u001B[38;5;28mformat\u001B[39m\u001B[38;5;241m=\u001B[39mfmt, origin\u001B[38;5;241m=\u001B[39m\u001B[38;5;124m\"\u001B[39m\u001B[38;5;124mupper\u001B[39m\u001B[38;5;124m\"\u001B[39m,\n\u001B[0;32m    460\u001B[0m         dpi\u001B[38;5;241m=\u001B[39m\u001B[38;5;28mself\u001B[39m\u001B[38;5;241m.\u001B[39mfigure\u001B[38;5;241m.\u001B[39mdpi, metadata\u001B[38;5;241m=\u001B[39mmetadata, pil_kwargs\u001B[38;5;241m=\u001B[39mpil_kwargs)\n",
      "File \u001B[1;32m~\\anaconda3\\envs\\zerobase\\lib\\site-packages\\matplotlib\\backends\\backend_agg.py:394\u001B[0m, in \u001B[0;36mFigureCanvasAgg.draw\u001B[1;34m(self)\u001B[0m\n\u001B[0;32m    392\u001B[0m \u001B[38;5;28;01mdef\u001B[39;00m \u001B[38;5;21mdraw\u001B[39m(\u001B[38;5;28mself\u001B[39m):\n\u001B[0;32m    393\u001B[0m     \u001B[38;5;66;03m# docstring inherited\u001B[39;00m\n\u001B[1;32m--> 394\u001B[0m     \u001B[38;5;28mself\u001B[39m\u001B[38;5;241m.\u001B[39mrenderer \u001B[38;5;241m=\u001B[39m \u001B[38;5;28;43mself\u001B[39;49m\u001B[38;5;241;43m.\u001B[39;49m\u001B[43mget_renderer\u001B[49m\u001B[43m(\u001B[49m\u001B[43m)\u001B[49m\n\u001B[0;32m    395\u001B[0m     \u001B[38;5;28mself\u001B[39m\u001B[38;5;241m.\u001B[39mrenderer\u001B[38;5;241m.\u001B[39mclear()\n\u001B[0;32m    396\u001B[0m     \u001B[38;5;66;03m# Acquire a lock on the shared font cache.\u001B[39;00m\n",
      "File \u001B[1;32m~\\anaconda3\\envs\\zerobase\\lib\\site-packages\\matplotlib\\_api\\deprecation.py:384\u001B[0m, in \u001B[0;36mdelete_parameter.<locals>.wrapper\u001B[1;34m(*inner_args, **inner_kwargs)\u001B[0m\n\u001B[0;32m    379\u001B[0m \u001B[38;5;129m@functools\u001B[39m\u001B[38;5;241m.\u001B[39mwraps(func)\n\u001B[0;32m    380\u001B[0m \u001B[38;5;28;01mdef\u001B[39;00m \u001B[38;5;21mwrapper\u001B[39m(\u001B[38;5;241m*\u001B[39minner_args, \u001B[38;5;241m*\u001B[39m\u001B[38;5;241m*\u001B[39minner_kwargs):\n\u001B[0;32m    381\u001B[0m     \u001B[38;5;28;01mif\u001B[39;00m \u001B[38;5;28mlen\u001B[39m(inner_args) \u001B[38;5;241m<\u001B[39m\u001B[38;5;241m=\u001B[39m name_idx \u001B[38;5;129;01mand\u001B[39;00m name \u001B[38;5;129;01mnot\u001B[39;00m \u001B[38;5;129;01min\u001B[39;00m inner_kwargs:\n\u001B[0;32m    382\u001B[0m         \u001B[38;5;66;03m# Early return in the simple, non-deprecated case (much faster than\u001B[39;00m\n\u001B[0;32m    383\u001B[0m         \u001B[38;5;66;03m# calling bind()).\u001B[39;00m\n\u001B[1;32m--> 384\u001B[0m         \u001B[38;5;28;01mreturn\u001B[39;00m \u001B[43mfunc\u001B[49m\u001B[43m(\u001B[49m\u001B[38;5;241;43m*\u001B[39;49m\u001B[43minner_args\u001B[49m\u001B[43m,\u001B[49m\u001B[43m \u001B[49m\u001B[38;5;241;43m*\u001B[39;49m\u001B[38;5;241;43m*\u001B[39;49m\u001B[43minner_kwargs\u001B[49m\u001B[43m)\u001B[49m\n\u001B[0;32m    385\u001B[0m     arguments \u001B[38;5;241m=\u001B[39m signature\u001B[38;5;241m.\u001B[39mbind(\u001B[38;5;241m*\u001B[39minner_args, \u001B[38;5;241m*\u001B[39m\u001B[38;5;241m*\u001B[39minner_kwargs)\u001B[38;5;241m.\u001B[39marguments\n\u001B[0;32m    386\u001B[0m     \u001B[38;5;28;01mif\u001B[39;00m is_varargs \u001B[38;5;129;01mand\u001B[39;00m arguments\u001B[38;5;241m.\u001B[39mget(name):\n",
      "File \u001B[1;32m~\\anaconda3\\envs\\zerobase\\lib\\site-packages\\matplotlib\\backends\\backend_agg.py:411\u001B[0m, in \u001B[0;36mFigureCanvasAgg.get_renderer\u001B[1;34m(self, cleared)\u001B[0m\n\u001B[0;32m    409\u001B[0m reuse_renderer \u001B[38;5;241m=\u001B[39m (\u001B[38;5;28mself\u001B[39m\u001B[38;5;241m.\u001B[39m_lastKey \u001B[38;5;241m==\u001B[39m key)\n\u001B[0;32m    410\u001B[0m \u001B[38;5;28;01mif\u001B[39;00m \u001B[38;5;129;01mnot\u001B[39;00m reuse_renderer:\n\u001B[1;32m--> 411\u001B[0m     \u001B[38;5;28mself\u001B[39m\u001B[38;5;241m.\u001B[39mrenderer \u001B[38;5;241m=\u001B[39m \u001B[43mRendererAgg\u001B[49m\u001B[43m(\u001B[49m\u001B[43mw\u001B[49m\u001B[43m,\u001B[49m\u001B[43m \u001B[49m\u001B[43mh\u001B[49m\u001B[43m,\u001B[49m\u001B[43m \u001B[49m\u001B[38;5;28;43mself\u001B[39;49m\u001B[38;5;241;43m.\u001B[39;49m\u001B[43mfigure\u001B[49m\u001B[38;5;241;43m.\u001B[39;49m\u001B[43mdpi\u001B[49m\u001B[43m)\u001B[49m\n\u001B[0;32m    412\u001B[0m     \u001B[38;5;28mself\u001B[39m\u001B[38;5;241m.\u001B[39m_lastKey \u001B[38;5;241m=\u001B[39m key\n\u001B[0;32m    413\u001B[0m \u001B[38;5;28;01melif\u001B[39;00m cleared:\n",
      "File \u001B[1;32m~\\anaconda3\\envs\\zerobase\\lib\\site-packages\\matplotlib\\backends\\backend_agg.py:84\u001B[0m, in \u001B[0;36mRendererAgg.__init__\u001B[1;34m(self, width, height, dpi)\u001B[0m\n\u001B[0;32m     82\u001B[0m \u001B[38;5;28mself\u001B[39m\u001B[38;5;241m.\u001B[39mwidth \u001B[38;5;241m=\u001B[39m width\n\u001B[0;32m     83\u001B[0m \u001B[38;5;28mself\u001B[39m\u001B[38;5;241m.\u001B[39mheight \u001B[38;5;241m=\u001B[39m height\n\u001B[1;32m---> 84\u001B[0m \u001B[38;5;28mself\u001B[39m\u001B[38;5;241m.\u001B[39m_renderer \u001B[38;5;241m=\u001B[39m \u001B[43m_RendererAgg\u001B[49m\u001B[43m(\u001B[49m\u001B[38;5;28;43mint\u001B[39;49m\u001B[43m(\u001B[49m\u001B[43mwidth\u001B[49m\u001B[43m)\u001B[49m\u001B[43m,\u001B[49m\u001B[43m \u001B[49m\u001B[38;5;28;43mint\u001B[39;49m\u001B[43m(\u001B[49m\u001B[43mheight\u001B[49m\u001B[43m)\u001B[49m\u001B[43m,\u001B[49m\u001B[43m \u001B[49m\u001B[43mdpi\u001B[49m\u001B[43m)\u001B[49m\n\u001B[0;32m     85\u001B[0m \u001B[38;5;28mself\u001B[39m\u001B[38;5;241m.\u001B[39m_filter_renderers \u001B[38;5;241m=\u001B[39m []\n\u001B[0;32m     87\u001B[0m \u001B[38;5;28mself\u001B[39m\u001B[38;5;241m.\u001B[39m_update_methods()\n",
      "\u001B[1;31mValueError\u001B[0m: Image size of 248509045x318096 pixels is too large. It must be less than 2^16 in each direction."
     ]
    },
    {
     "data": {
      "text/plain": "<Figure size 640x480 with 1 Axes>"
     },
     "metadata": {},
     "output_type": "display_data"
    }
   ],
   "source": [
    "drawGraph()"
   ],
   "metadata": {
    "collapsed": false
   }
  },
  {
   "cell_type": "code",
   "execution_count": 119,
   "outputs": [],
   "source": [
    "data_result.to_csv(\"./data_AnalysisSeoulCCTV/CCTV_result.csv\",sep=\",\",encoding=\"utf-8\")"
   ],
   "metadata": {
    "collapsed": false
   }
  },
  {
   "cell_type": "code",
   "execution_count": null,
   "outputs": [],
   "source": [],
   "metadata": {
    "collapsed": false
   }
  }
 ],
 "metadata": {
  "kernelspec": {
   "display_name": "Python 3",
   "language": "python",
   "name": "python3"
  },
  "language_info": {
   "codemirror_mode": {
    "name": "ipython",
    "version": 2
   },
   "file_extension": ".py",
   "mimetype": "text/x-python",
   "name": "python",
   "nbconvert_exporter": "python",
   "pygments_lexer": "ipython2",
   "version": "2.7.6"
  }
 },
 "nbformat": 4,
 "nbformat_minor": 0
}
